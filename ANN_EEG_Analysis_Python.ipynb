{
  "cells": [
    {
      "cell_type": "code",
      "execution_count": null,
      "metadata": {
        "id": "Wuk1SLPN593Q"
      },
      "outputs": [],
      "source": [
        "import numpy as np\n",
        "import pandas as pd\n",
        "import matplotlib.pyplot as plt\n",
        "%matplotlib inline\n",
        "import time\n",
        "import os\n",
        "from collections import defaultdict\n",
        "from copy import deepcopy\n",
        "import gdown\n",
        "import json"
      ]
    },
    {
      "cell_type": "code",
      "execution_count": null,
      "metadata": {
        "id": "MHYE7zpxzVGT"
      },
      "outputs": [],
      "source": [
        "# Torch\n",
        "import urllib\n",
        "import torch, torch.nn as nn\n",
        "import torch.nn.functional as F\n",
        "import torchvision.models\n",
        "from torchvision import transforms\n",
        "device = 'cuda' if torch.cuda.is_available() else 'cpu'"
      ]
    },
    {
      "cell_type": "markdown",
      "metadata": {
        "id": "z_4JR4O6DxU2"
      },
      "source": [
        "## EEG data"
      ]
    },
    {
      "cell_type": "markdown",
      "metadata": {
        "id": "Rkbx0jc6Dh7V"
      },
      "source": [
        "Loading the data from the reference [article](https://www.mdpi.com/2227-7390/10/15/2819):"
      ]
    },
    {
      "cell_type": "code",
      "execution_count": null,
      "metadata": {
        "id": "tvG27717BqQe"
      },
      "outputs": [],
      "source": [
        "if not os.path.exists('dataset'):\n",
        "    !wget --content-disposition 'https://figshare.com/ndownloader/files/35265655' -O 'EEG_dataset.zip'\n",
        "    !unzip -q 'EEG_dataset.zip'\n",
        "    ignore_files = ['dataset/Participant 3/Participant 1', 'dataset/Participant 3/Participant 2']\n",
        "    for path in ignore_files:\n",
        "        if os.path.exists(path):\n",
        "            !rm -rf '{path}'"
      ]
    },
    {
      "cell_type": "markdown",
      "metadata": {
        "id": "xppkt_3QDcs0"
      },
      "source": [
        "Read the data:"
      ]
    },
    {
      "cell_type": "code",
      "execution_count": null,
      "metadata": {
        "id": "kUR5gwbHk6Z2"
      },
      "outputs": [],
      "source": [
        "channels = pd.read_csv('dataset/Channels.dat', header=None, engine='python')\n",
        "channels = channels[0].apply(lambda x: x.split(' ')[1])\n",
        "columns = channels.tolist() + ['extra_1', 'extra_2', 'extra_3']\n",
        "left_channels = []\n",
        "right_channels = []"
      ]
    },
    {
      "cell_type": "code",
      "execution_count": null,
      "metadata": {
        "id": "MHbdJ-r7OctK"
      },
      "outputs": [],
      "source": [
        "from scipy.signal import butter, filtfilt, sosfiltfilt\n",
        "\n",
        "def butter_bandpass_filter(data, lowcut, highcut, fs, order=2):\n",
        "    #nyquist = 0.5 * fs  # Nyquist frequency\n",
        "    #low = lowcut / nyquist\n",
        "    #high = highcut / nyquist\n",
        "    sos = butter(N=order, Wn=[lowcut, highcut], btype='bandpass', fs=fs, output='sos')  # Design the filter\n",
        "    return sosfiltfilt(sos, data)  # Apply the filter\n",
        "\n",
        "def filter_eeg_into_bands(df, fs):\n",
        "    # Define frequency bands\n",
        "    bands = {\n",
        "        'delta': (1, 4),\n",
        "        'theta': (5, 8),\n",
        "        'alpha': (8, 12),\n",
        "        'beta': (13, 30),\n",
        "        'gamma': (31, 45)\n",
        "    }\n",
        "\n",
        "    # Initialize dictionary to store filtered data\n",
        "    filtered_dfs = {}\n",
        "\n",
        "    #Referencing\n",
        "    average_signal = df.mean(axis=1)\n",
        "    df_referenced = df.sub(average_signal, axis=0)\n",
        "\n",
        "    #Centering\n",
        "    df_centered = df_referenced - df_referenced.mean(axis=0)\n",
        "\n",
        "    # Apply bandpass filtering for each frequency band\n",
        "    for band, (lowcut, highcut) in bands.items():\n",
        "        filtered_data = butter_bandpass_filter(df_centered.values, lowcut, highcut, fs)\n",
        "        filtered_df = pd.DataFrame(filtered_data, columns=df_centered.columns)\n",
        "        filtered_dfs[band] = filtered_df\n",
        "    #filtered_dfs['raw'] = df\n",
        "    #filtered_dfs['full_centered'] = df_centered\n",
        "    return filtered_dfs"
      ]
    },
    {
      "cell_type": "code",
      "execution_count": null,
      "metadata": {
        "id": "Ag0i5XGwDcW7",
        "colab": {
          "base_uri": "https://localhost:8080/"
        },
        "outputId": "a6e8e861-9e0b-41f4-c886-556af4b5b88d"
      },
      "outputs": [
        {
          "output_type": "stream",
          "name": "stdout",
          "text": [
            "dataset/Participant 2/Figs for spectra/Backgr_int_0.6.dat\n",
            "dataset/Participant 2/Figs for spectra/Backgr_int_0.3.dat\n",
            "dataset/Participant 2/Figs for spectra/Backgr_int_0.1.dat\n",
            "dataset/Participant 2/Figs for spectra/Backgr_int_1.dat\n",
            "dataset/Participant 2/Figs for spectra/Backgr_int_0.9.dat\n",
            "dataset/Participant 2/Figs for spectra/Backgr_int_0.8.dat\n",
            "dataset/Participant 2/Figs for spectra/Backgr_int_0.4.dat\n",
            "dataset/Participant 2/Figs for spectra/Backgr_int_0.2.dat\n",
            "dataset/Participant 2/Figs for spectra/Backgr_int_0.5.dat\n",
            "dataset/Participant 2/Figs for spectra/Backgr_int_0.7.dat\n",
            "dataset/Participant 2/Cubes for spectra/Backgr_int_0.2_type_0.4.dat\n",
            "dataset/Participant 2/Cubes for spectra/Backgr_int_0.4_type_0.4.dat\n",
            "dataset/Participant 2/Cubes for spectra/Backgr_int_0.7_type_0.4.dat\n",
            "dataset/Participant 2/Cubes for spectra/Backgr_int_0.8_type_0.4.dat\n",
            "dataset/Participant 2/Cubes for spectra/Backgr_int_0.1_type_0.4.dat\n",
            "dataset/Participant 2/Cubes for spectra/Backgr_int_0.6_type_0.4.dat\n",
            "dataset/Participant 2/Cubes for spectra/Backgr_int_0.3_type_0.4.dat\n",
            "dataset/Participant 2/Cubes for spectra/Backgr_int_0.9_type_0.4.dat\n",
            "dataset/Participant 2/Cubes for spectra/Backgr_int_0.5_type_0.4.dat\n",
            "dataset/Participant 2/Cubes for spectra/Backgr_int_1_type_0.4.dat\n",
            "dataset/Participant 2/Background/Backgr_2.dat\n",
            "dataset/Participant 2/Background/Backgr_1.dat\n",
            "dataset/Participant 1/Figs for spectra/Backgr_int_0.6.dat\n",
            "dataset/Participant 1/Figs for spectra/Backgr_int_0.3.dat\n",
            "dataset/Participant 1/Figs for spectra/Backgr_int_0.1.dat\n",
            "dataset/Participant 1/Figs for spectra/Backgr_int_1.dat\n",
            "dataset/Participant 1/Figs for spectra/Backgr_int_0.9.dat\n",
            "dataset/Participant 1/Figs for spectra/Backgr_int_0.8.dat\n",
            "dataset/Participant 1/Figs for spectra/Backgr_int_0.4.dat\n",
            "dataset/Participant 1/Figs for spectra/Backgr_int_0.2.dat\n",
            "dataset/Participant 1/Figs for spectra/Backgr_int_0.5.dat\n",
            "dataset/Participant 1/Figs for spectra/Backgr_int_0.7.dat\n",
            "dataset/Participant 1/Cubes for spectra/Backgr_int_0.2_type_0.4.dat\n",
            "dataset/Participant 1/Cubes for spectra/Backgr_int_0.4_type_0.4.dat\n",
            "dataset/Participant 1/Cubes for spectra/Backgr_int_0.7_type_0.4.dat\n",
            "dataset/Participant 1/Cubes for spectra/Backgr_int_0.8_type_0.4.dat\n",
            "dataset/Participant 1/Cubes for spectra/Backgr_int_0.1_type_0.4.dat\n",
            "dataset/Participant 1/Cubes for spectra/Backgr_int_0.6_type_0.4.dat\n",
            "dataset/Participant 1/Cubes for spectra/Backgr_int_0.3_type_0.4.dat\n",
            "dataset/Participant 1/Cubes for spectra/Backgr_int_0.9_type_0.4.dat\n",
            "dataset/Participant 1/Cubes for spectra/Backgr_int_0.5_type_0.4.dat\n",
            "dataset/Participant 1/Cubes for spectra/Backgr_int_1_type_0.4.dat\n",
            "dataset/Participant 1/Background/Backgr_2.dat\n",
            "dataset/Participant 1/Background/Backgr_1.dat\n",
            "dataset/Participant 5/Figs for spectra/Backgr_int_0.6.dat\n",
            "dataset/Participant 5/Figs for spectra/Backgr_int_0.3.dat\n",
            "dataset/Participant 5/Figs for spectra/Backgr_int_0.1.dat\n",
            "dataset/Participant 5/Figs for spectra/Backgr_int_1.dat\n",
            "dataset/Participant 5/Figs for spectra/Backgr_int_0.9.dat\n",
            "dataset/Participant 5/Figs for spectra/Backgr_int_0.8.dat\n",
            "dataset/Participant 5/Figs for spectra/Backgr_int_0.4.dat\n",
            "dataset/Participant 5/Figs for spectra/Backgr_int_0.2.dat\n",
            "dataset/Participant 5/Figs for spectra/Backgr_int_0.5.dat\n",
            "dataset/Participant 5/Figs for spectra/Backgr_int_0.7.dat\n",
            "dataset/Participant 5/Cubes for spectra/Backgr_int_0.2_type_0.4.dat\n",
            "dataset/Participant 5/Cubes for spectra/Backgr_int_0.4_type_0.4.dat\n",
            "dataset/Participant 5/Cubes for spectra/Backgr_int_0.7_type_0.4.dat\n",
            "dataset/Participant 5/Cubes for spectra/Backgr_int_0.8_type_0.4.dat\n",
            "dataset/Participant 5/Cubes for spectra/Backgr_int_0.1_type_0.4.dat\n",
            "dataset/Participant 5/Cubes for spectra/Backgr_int_0.6_type_0.4.dat\n",
            "dataset/Participant 5/Cubes for spectra/Backgr_int_0.3_type_0.4.dat\n",
            "dataset/Participant 5/Cubes for spectra/Backgr_int_0.9_type_0.4.dat\n",
            "dataset/Participant 5/Cubes for spectra/Backgr_int_0.5_type_0.4.dat\n",
            "dataset/Participant 5/Cubes for spectra/Backgr_int_1_type_0.4.dat\n",
            "dataset/Participant 5/Background/Backgr_2.dat\n",
            "dataset/Participant 5/Background/Backgr_1.dat\n",
            "dataset/Participant 3/Figs for spectra/Backgr_int_0.6.dat\n",
            "dataset/Participant 3/Figs for spectra/Backgr_int_0.3.dat\n",
            "dataset/Participant 3/Figs for spectra/Backgr_int_0.1.dat\n",
            "dataset/Participant 3/Figs for spectra/Backgr_int_1.dat\n",
            "dataset/Participant 3/Figs for spectra/Backgr_int_0.9.dat\n",
            "dataset/Participant 3/Figs for spectra/Backgr_int_0.8.dat\n",
            "dataset/Participant 3/Figs for spectra/Backgr_int_0.4.dat\n",
            "dataset/Participant 3/Figs for spectra/Backgr_int_0.2.dat\n",
            "dataset/Participant 3/Figs for spectra/Backgr_int_0.5.dat\n",
            "dataset/Participant 3/Figs for spectra/Backgr_int_0.7.dat\n",
            "dataset/Participant 3/Cubes for spectra/Backgr_int_0.2_type_0.4.dat\n",
            "dataset/Participant 3/Cubes for spectra/Backgr_int_0.4_type_0.4.dat\n",
            "dataset/Participant 3/Cubes for spectra/Backgr_int_0.7_type_0.4.dat\n",
            "dataset/Participant 3/Cubes for spectra/Backgr_int_0.8_type_0.4.dat\n",
            "dataset/Participant 3/Cubes for spectra/Backgr_int_0.1_type_0.4.dat\n",
            "dataset/Participant 3/Cubes for spectra/Backgr_int_0.6_type_0.4.dat\n",
            "dataset/Participant 3/Cubes for spectra/Backgr_int_0.3_type_0.4.dat\n",
            "dataset/Participant 3/Cubes for spectra/Backgr_int_0.9_type_0.4.dat\n",
            "dataset/Participant 3/Cubes for spectra/Backgr_int_0.5_type_0.4.dat\n",
            "dataset/Participant 3/Cubes for spectra/Backgr_int_1_type_0.4.dat\n",
            "dataset/Participant 3/Background/Backgr_2.dat\n",
            "dataset/Participant 3/Background/Backgr_1.dat\n",
            "dataset/Participant 4/Figs for spectra/Backgr_int_0.6.dat\n",
            "dataset/Participant 4/Figs for spectra/Backgr_int_0.3.dat\n",
            "dataset/Participant 4/Figs for spectra/Backgr_int_0.1.dat\n",
            "dataset/Participant 4/Figs for spectra/Backgr_int_1.dat\n",
            "dataset/Participant 4/Figs for spectra/Backgr_int_0.9.dat\n",
            "dataset/Participant 4/Figs for spectra/Backgr_int_0.8.dat\n",
            "dataset/Participant 4/Figs for spectra/Backgr_int_0.4.dat\n",
            "dataset/Participant 4/Figs for spectra/Backgr_int_0.2.dat\n",
            "dataset/Participant 4/Figs for spectra/Backgr_int_0.5.dat\n",
            "dataset/Participant 4/Figs for spectra/Backgr_int_0.7.dat\n",
            "dataset/Participant 4/Cubes for spectra/Backgr_int_0.2_type_0.4.dat\n",
            "dataset/Participant 4/Cubes for spectra/Backgr_int_0.4_type_0.4.dat\n",
            "dataset/Participant 4/Cubes for spectra/Backgr_int_0.7_type_0.4.dat\n",
            "dataset/Participant 4/Cubes for spectra/Backgr_int_0.8_type_0.4.dat\n",
            "dataset/Participant 4/Cubes for spectra/Backgr_int_0.1_type_0.4.dat\n",
            "dataset/Participant 4/Cubes for spectra/Backgr_int_0.6_type_0.4.dat\n",
            "dataset/Participant 4/Cubes for spectra/Backgr_int_0.3_type_0.4.dat\n",
            "dataset/Participant 4/Cubes for spectra/Backgr_int_0.9_type_0.4.dat\n",
            "dataset/Participant 4/Cubes for spectra/Backgr_int_0.5_type_0.4.dat\n",
            "dataset/Participant 4/Cubes for spectra/Backgr_int_1_type_0.4.dat\n",
            "dataset/Participant 4/Background/Backgr_2.dat\n",
            "dataset/Participant 4/Background/Backgr_1.dat\n"
          ]
        }
      ],
      "source": [
        "datasets = defaultdict(lambda: defaultdict(dict))\n",
        "for root, dirs, files in os.walk('dataset'):\n",
        "    for file_name in files:\n",
        "        file_path = os.path.join(root, file_name)\n",
        "        try:\n",
        "            if file_name[-4:]=='.dat' and file_name!='Channels.dat':\n",
        "                folders = file_path.split('/')\n",
        "                print(file_path)\n",
        "                ds = folders[2].replace('Cubes for spectra', 'cube').replace('Figs for spectra', 'monalisa').replace('Background', 'bg')\n",
        "                participant = folders[1].split(' ')[-1]\n",
        "                f_ops = folders[-1].split('.dat')[0].split('_')\n",
        "                if len(f_ops)>2:\n",
        "                    intensity = f'{f_ops[1]}_{f_ops[2]}'\n",
        "                    I_value = float(f_ops[2])\n",
        "                else:\n",
        "                    intensity = None\n",
        "                #print(f'{ds}, {participant}, {intensity}')\n",
        "                raw_EEG_df = pd.read_csv(file_path, delimiter='   ', names=columns, header=None, engine='python')\n",
        "                #Keep only the 31 channels, ignore the last 3 (used for reference calibration)\n",
        "                raw_EEG_df = raw_EEG_df.drop(['extra_1', 'extra_2', 'extra_3'], axis=1)\n",
        "                #Filter bands\n",
        "                filtered_df_dict = filter_eeg_into_bands(raw_EEG_df, fs=250)\n",
        "                #filtered_df_dict = {'raw': raw_EEG_df}\n",
        "                if intensity:\n",
        "                    for band in filtered_df_dict:\n",
        "\n",
        "                        filtered_df_dict[band]['brightness'] = I_value\n",
        "                        #Classes from 0 to 9\n",
        "                        filtered_df_dict[band]['brightness_level'] = int(I_value*10) - 1\n",
        "\n",
        "                datasets[ds][participant][intensity] = filtered_df_dict\n",
        "\n",
        "        except Exception as e:\n",
        "                print(f'Could not read {file_path}: {e}')"
      ]
    },
    {
      "cell_type": "code",
      "execution_count": null,
      "metadata": {
        "id": "eaIZHVPRMl3t"
      },
      "outputs": [],
      "source": [
        "#datasets['cube']['2']['int_0.6']['alpha'].head()"
      ]
    },
    {
      "cell_type": "code",
      "execution_count": null,
      "metadata": {
        "id": "4zs79Zy2Iwxs"
      },
      "outputs": [],
      "source": [
        "#datasets['cube']['2']['int_0.6']['alpha'].iloc[0]"
      ]
    },
    {
      "cell_type": "markdown",
      "metadata": {
        "id": "ge1DjRLFhIbr"
      },
      "source": [
        "Now, the 2 separate datasets prepared as torch tensors:"
      ]
    },
    {
      "cell_type": "code",
      "execution_count": null,
      "metadata": {
        "id": "mGP6DRAGhWTC"
      },
      "outputs": [],
      "source": [
        "def prepare_datasets(datasets=datasets):\n",
        "    contrasts = [0.1,  0.2,  0.3,  0.4,  0.5,  0.6,  0.7,  0.8,  0.9,  1]\n",
        "    bands = {\n",
        "        'delta': (1, 4),\n",
        "        'theta': (5, 8),\n",
        "        'alpha': (8, 12),\n",
        "        'beta': (13, 30),\n",
        "        'gamma': (31, 45),\n",
        "        #'raw': None,\n",
        "        #'full_centered': None\n",
        "    }\n",
        "    X_data = {'cube':{}, 'monalisa':{}}\n",
        "    y_data = {'cube':{}, 'monalisa':{}}\n",
        "    trial_sizes =  {'cube':[], 'monalisa':[]}\n",
        "\n",
        "    for ds_name in ['cube', 'monalisa']:\n",
        "        for participant in range(1,6):\n",
        "            for I in contrasts:\n",
        "                for band in bands:\n",
        "                    df_ =  datasets[ds_name][str(participant)][f'int_{str(I)}'][band]\n",
        "                    data_ts = torch.tensor(df_.values).to(device)\n",
        "                    if band not in X_data[ds_name]:\n",
        "                        X_data[ds_name][band] = data_ts[:, :-2]\n",
        "                        y_data[ds_name][band] = data_ts[:, -1].to(torch.int64)\n",
        "                    else:\n",
        "                        X_data[ds_name][band] = torch.vstack((X_data[ds_name][band], data_ts[:, :-2]))\n",
        "                        y_data[ds_name][band] = torch.cat((y_data[ds_name][band], data_ts[: ,-1].to(torch.int64)))\n",
        "                #Add sizes of each experimental data stacked, all bands should have the same n_points for a given experiment\n",
        "                trial_sizes[ds_name].append(data_ts.shape[0])\n",
        "\n",
        "    return X_data, y_data, trial_sizes"
      ]
    },
    {
      "cell_type": "code",
      "execution_count": null,
      "metadata": {
        "id": "mK4zUpREqsl3"
      },
      "outputs": [],
      "source": [
        "X_data, y_data, trial_sizes = prepare_datasets()"
      ]
    },
    {
      "cell_type": "markdown",
      "metadata": {
        "id": "4nEshDpso5Z9"
      },
      "source": [
        "One participant data:"
      ]
    },
    {
      "cell_type": "code",
      "execution_count": null,
      "metadata": {
        "id": "GSjPIfsfcCMu"
      },
      "outputs": [],
      "source": [
        "def SingleSubjectData(ds_name, participant):\n",
        "    contrasts = [0.1,  0.2,  0.3,  0.4,  0.5,  0.6,  0.7,  0.8,  0.9,  1]\n",
        "    bands = {\n",
        "        'delta': (1, 4),\n",
        "        'theta': (5, 8),\n",
        "        'alpha': (8, 12),\n",
        "        'beta': (13, 30),\n",
        "        'gamma': (31, 45),\n",
        "        #'raw': None,\n",
        "        #'full_centered': None\n",
        "    }\n",
        "\n",
        "    X_data_k = {}\n",
        "    y_data_k = {}\n",
        "    for I in contrasts:\n",
        "        for band in bands:\n",
        "            df_ =  datasets[ds_name][str(participant)][f'int_{str(I)}'][band]\n",
        "            data_ts = torch.tensor(df_.values).to(device)\n",
        "            if band not in X_data_k:\n",
        "                X_data_k[band] = data_ts[:, :-2]\n",
        "                y_data_k[band] = data_ts[:, -1].to(torch.int64)\n",
        "            else:\n",
        "                X_data_k[band] = torch.vstack((X_data_k[band], data_ts[:, :-2]))\n",
        "                y_data_k[band] = torch.cat((y_data_k[band], data_ts[: ,-1].to(torch.int64)))\n",
        "    return X_data_k, y_data_k"
      ]
    },
    {
      "cell_type": "code",
      "execution_count": null,
      "metadata": {
        "id": "xD8esqEOeFZ6"
      },
      "outputs": [],
      "source": [
        "#X_data_k, y_data_k = SingleSubjectData(ds_name = 'monalisa', participant = 5)\n",
        "#X = X_data_k['gamma'].to(torch.float32)\n",
        "#y = y_data_k['gamma'].to(torch.float32)"
      ]
    },
    {
      "cell_type": "markdown",
      "metadata": {
        "id": "q_pXfZ-7LbOe"
      },
      "source": [
        "Shuffling on batch level to keep the temporal order of each data intact:"
      ]
    },
    {
      "cell_type": "code",
      "execution_count": null,
      "metadata": {
        "id": "K2skY_stKJUQ"
      },
      "outputs": [],
      "source": [
        "def shuffle_batches(X, y, sequence_size, trials):\n",
        "    \"\"\"\n",
        "    Divides X and y (numpy arrays) into batches of length batch_size,\n",
        "    Shuffles the order of the batches while preserving temporal order of EEG temporal points,\n",
        "    Reassembles the arrays.\n",
        "    \"\"\"\n",
        "    batches_X = []\n",
        "    batches_y = []\n",
        "    trial_boundaries = [0]\n",
        "    S_remainder = 0\n",
        "    #cumulative sizes of successive trials\n",
        "    for size in trials:\n",
        "        trial_boundaries.append(trial_boundaries[-1] + size)\n",
        "\n",
        "    # Process each trial\n",
        "    for i in range(len(trial_boundaries) - 1):\n",
        "        start = trial_boundaries[i]\n",
        "        end = trial_boundaries[i+1]\n",
        "        trial_X = X[start:end]\n",
        "        trial_y = y[start:end]\n",
        "\n",
        "        n = trial_X.shape[0]\n",
        "        num_full_batches = n // sequence_size\n",
        "        remainder = n % sequence_size\n",
        "        S_remainder += remainder\n",
        "        # Create full batches from this trial\n",
        "        for j in range(num_full_batches):\n",
        "            batch_X = trial_X[j * sequence_size : (j+1) * sequence_size]\n",
        "            batch_y = trial_y[j * sequence_size : (j+1) * sequence_size]\n",
        "            batches_X.append(batch_X)\n",
        "            batches_y.append(batch_y)\n",
        "\n",
        "        #Add the leftover data from the trial as its own batch (if any)\n",
        "        #if remainder > 0:\n",
        "        #    batches_X.append(trial_X[-remainder:])\n",
        "        #    batches_y.append(trial_y[-remainder:])\n",
        "        # The remainder is ignored to not mess up the temporal order after shuffling\n",
        "\n",
        "    # Shuffle the list of batches\n",
        "    indices = np.arange(len(batches_X))\n",
        "    np.random.shuffle(indices)\n",
        "    X_shuffled = np.concatenate([batches_X[i] for i in indices], axis=0)\n",
        "    y_shuffled = np.concatenate([batches_y[i] for i in indices], axis=0)\n",
        "\n",
        "    return X_shuffled, y_shuffled, S_remainder"
      ]
    },
    {
      "cell_type": "markdown",
      "metadata": {
        "id": "dhbJ7hNwD3qz"
      },
      "source": [
        "## DL Models"
      ]
    },
    {
      "cell_type": "markdown",
      "metadata": {
        "id": "-hL5CtKNz_hZ"
      },
      "source": [
        "Importing `SHAP` library:"
      ]
    },
    {
      "cell_type": "code",
      "execution_count": null,
      "metadata": {
        "id": "970oB1qzD7mK",
        "colab": {
          "base_uri": "https://localhost:8080/"
        },
        "outputId": "25616971-6fdd-4687-f510-448445beaad3"
      },
      "outputs": [
        {
          "output_type": "stream",
          "name": "stdout",
          "text": [
            "Requirement already satisfied: shap in /usr/local/lib/python3.11/dist-packages (0.47.2)\n",
            "Requirement already satisfied: numpy in /usr/local/lib/python3.11/dist-packages (from shap) (2.0.2)\n",
            "Requirement already satisfied: scipy in /usr/local/lib/python3.11/dist-packages (from shap) (1.15.2)\n",
            "Requirement already satisfied: scikit-learn in /usr/local/lib/python3.11/dist-packages (from shap) (1.6.1)\n",
            "Requirement already satisfied: pandas in /usr/local/lib/python3.11/dist-packages (from shap) (2.2.2)\n",
            "Requirement already satisfied: tqdm>=4.27.0 in /usr/local/lib/python3.11/dist-packages (from shap) (4.67.1)\n",
            "Requirement already satisfied: packaging>20.9 in /usr/local/lib/python3.11/dist-packages (from shap) (24.2)\n",
            "Requirement already satisfied: slicer==0.0.8 in /usr/local/lib/python3.11/dist-packages (from shap) (0.0.8)\n",
            "Requirement already satisfied: numba>=0.54 in /usr/local/lib/python3.11/dist-packages (from shap) (0.60.0)\n",
            "Requirement already satisfied: cloudpickle in /usr/local/lib/python3.11/dist-packages (from shap) (3.1.1)\n",
            "Requirement already satisfied: typing-extensions in /usr/local/lib/python3.11/dist-packages (from shap) (4.13.2)\n",
            "Requirement already satisfied: llvmlite<0.44,>=0.43.0dev0 in /usr/local/lib/python3.11/dist-packages (from numba>=0.54->shap) (0.43.0)\n",
            "Requirement already satisfied: python-dateutil>=2.8.2 in /usr/local/lib/python3.11/dist-packages (from pandas->shap) (2.9.0.post0)\n",
            "Requirement already satisfied: pytz>=2020.1 in /usr/local/lib/python3.11/dist-packages (from pandas->shap) (2025.2)\n",
            "Requirement already satisfied: tzdata>=2022.7 in /usr/local/lib/python3.11/dist-packages (from pandas->shap) (2025.2)\n",
            "Requirement already satisfied: joblib>=1.2.0 in /usr/local/lib/python3.11/dist-packages (from scikit-learn->shap) (1.4.2)\n",
            "Requirement already satisfied: threadpoolctl>=3.1.0 in /usr/local/lib/python3.11/dist-packages (from scikit-learn->shap) (3.6.0)\n",
            "Requirement already satisfied: six>=1.5 in /usr/local/lib/python3.11/dist-packages (from python-dateutil>=2.8.2->pandas->shap) (1.17.0)\n"
          ]
        }
      ],
      "source": [
        "!pip install shap\n",
        "import shap"
      ]
    },
    {
      "cell_type": "code",
      "execution_count": null,
      "metadata": {
        "id": "_QtH6Oup-OZd"
      },
      "outputs": [],
      "source": [
        "# Load what is needed\n",
        "from sklearn.metrics import f1_score, recall_score, precision_score, classification_report, confusion_matrix\n",
        "from torch.utils.data import DataLoader, TensorDataset\n",
        "from sklearn.model_selection import train_test_split\n",
        "from sklearn.cluster import KMeans\n",
        "from torch.amp import GradScaler, autocast\n",
        "from torch.optim.lr_scheduler import MultiStepLR\n",
        "from tqdm import tqdm\n",
        "import time\n",
        "import seaborn as sns"
      ]
    },
    {
      "cell_type": "markdown",
      "metadata": {
        "id": "Cs5AM0qxPG2i"
      },
      "source": [
        "Define save/load functions to avoid repeated training:"
      ]
    },
    {
      "cell_type": "code",
      "execution_count": null,
      "metadata": {
        "id": "Kw2ZPeiCPMrJ"
      },
      "outputs": [],
      "source": [
        "def save_model(model, model_path):\n",
        "    torch.save(model.state_dict(), model_path)"
      ]
    },
    {
      "cell_type": "code",
      "execution_count": null,
      "metadata": {
        "id": "4EKxiglmPTeY"
      },
      "outputs": [],
      "source": [
        "def load_model(model, model_path):\n",
        "    model_dict = torch.load(model_path, weights_only=True, map_location=torch.device(device))\n",
        "    model.load_state_dict(model_dict)"
      ]
    },
    {
      "cell_type": "markdown",
      "source": [
        "Log all session results to collect it easier later:"
      ],
      "metadata": {
        "id": "1kl6ijzZkU9o"
      }
    },
    {
      "cell_type": "code",
      "source": [
        "ann_results_dict = {'cube':{}, 'monalisa':{}}\n",
        "rnn_results_dict = {'cube':{}, 'monalisa':{}}"
      ],
      "metadata": {
        "id": "1dSyogy-kfN0"
      },
      "execution_count": null,
      "outputs": []
    },
    {
      "cell_type": "code",
      "execution_count": null,
      "metadata": {
        "id": "4g1RhDr78S6N"
      },
      "outputs": [],
      "source": [
        "# Run preliminary cells from here"
      ]
    },
    {
      "cell_type": "code",
      "source": [
        "#!zip -r results_h_rnn_cube_delta.zip results"
      ],
      "metadata": {
        "id": "RWKE_XuTL5o8"
      },
      "execution_count": null,
      "outputs": []
    },
    {
      "cell_type": "markdown",
      "metadata": {
        "id": "oq4mOqA9hjsx"
      },
      "source": [
        "### ANN"
      ]
    },
    {
      "cell_type": "markdown",
      "metadata": {
        "id": "Mj2TvazRfnmH"
      },
      "source": [
        "Splitting data into training and testing:"
      ]
    },
    {
      "cell_type": "code",
      "execution_count": null,
      "metadata": {
        "id": "bwqNg8Y3frMb"
      },
      "outputs": [],
      "source": [
        "dataset = 'cube'\n",
        "band = 'alpha'\n",
        "X = X_data[dataset][band].to(torch.float32)\n",
        "y = y_data[dataset][band].to(torch.float32)\n",
        "assert len(trial_sizes[dataset]) == 50\n",
        "assert sum(trial_sizes[dataset]) == X.shape[0]"
      ]
    },
    {
      "cell_type": "code",
      "execution_count": null,
      "metadata": {
        "id": "DKYKdvJjvquF"
      },
      "outputs": [],
      "source": [
        "# x = batch_size/sr second(s) worth of data, since the sampling rate is sr = 250 Hz\n",
        "batch_size = 100\n",
        "\n",
        "# Shuffle at the batch level to mix the temporal segments while keeping order within each batch\n",
        "X_shuffled, y_shuffled, S_remainder = shuffle_batches(X.cpu().numpy(), y.cpu().numpy(), batch_size, trials = trial_sizes[dataset])\n",
        "\n",
        "# Split the shuffled data into training (80%), validation (10%), and test (10%) sets\n",
        "# Important: shuffle option must stay false, since we dont want temporal points-level shuffling\n",
        "# Total data size after shuffling and trimming for batch of size 100: 750000, exactly 15000 per trial (50 trials)\n",
        "# With a batch_size of 100, the split 80-10-10 will give only multiples of 100\n",
        "total_batch_number = X_shuffled.shape[0]//batch_size\n",
        "val_test_size = (total_batch_number//5)*batch_size\n",
        "test_size = ((val_test_size//batch_size)//2)*batch_size\n",
        "X_train, X_temp, y_train, y_temp = train_test_split(X_shuffled, y_shuffled, test_size=val_test_size, random_state=42, shuffle=False)\n",
        "X_val, X_test, y_val, y_test = train_test_split(X_temp, y_temp, test_size=test_size, random_state=42, shuffle=False)\n",
        "\n",
        "# Make tensors\n",
        "X_train_tensor = torch.tensor(X_train, dtype=torch.float32).to(device)\n",
        "X_val_tensor   = torch.tensor(X_val, dtype=torch.float32).to(device)\n",
        "X_test_tensor  = torch.tensor(X_test, dtype=torch.float32).to(device)\n",
        "y_train_tensor = torch.tensor(y_train, dtype=torch.int64).to(device)\n",
        "y_val_tensor   = torch.tensor(y_val, dtype=torch.int64).to(device)\n",
        "y_test_tensor  = torch.tensor(y_test, dtype=torch.int64).to(device)\n",
        "\n",
        "# Make dataset\n",
        "train_dataset = TensorDataset(X_train_tensor, y_train_tensor)\n",
        "val_dataset   = TensorDataset(X_val_tensor, y_val_tensor)\n",
        "test_dataset  = TensorDataset(X_test_tensor, y_test_tensor)\n",
        "\n",
        "# Make data loaders\n",
        "train_loader = DataLoader(train_dataset, batch_size=batch_size, shuffle=True)\n",
        "val_loader   = DataLoader(val_dataset, batch_size=batch_size, shuffle=False)\n",
        "test_loader  = DataLoader(test_dataset, batch_size=batch_size, shuffle=False)"
      ]
    },
    {
      "cell_type": "code",
      "execution_count": null,
      "metadata": {
        "id": "YgRvVbHXidah"
      },
      "outputs": [],
      "source": [
        "#Simple tests to check if the Shuffling is done right\n",
        "assert X_shuffled.shape[0]+S_remainder == X.shape[0]\n",
        "assert y_shuffled.shape[0]+S_remainder == y.shape[0]\n",
        "#Check the splitting\n",
        "assert X_shuffled.shape[0] == X_train_tensor.shape[0] + X_val_tensor.shape[0] + X_test_tensor.shape[0]\n",
        "assert y_shuffled.shape[0] == y_train_tensor.shape[0] + y_val_tensor.shape[0] + y_test_tensor.shape[0]\n",
        "assert X_train_tensor.shape[0] % batch_size == X_val_tensor.shape[0] % batch_size == X_test_tensor.shape[0] % batch_size == 0"
      ]
    },
    {
      "cell_type": "code",
      "execution_count": null,
      "metadata": {
        "colab": {
          "base_uri": "https://localhost:8080/"
        },
        "id": "dnYW42cA8mVe",
        "outputId": "ccd81ad2-0fbc-4ebc-c611-abed64e14dd6"
      },
      "outputs": [
        {
          "output_type": "execute_result",
          "data": {
            "text/plain": [
              "torch.Size([77800, 31])"
            ]
          },
          "metadata": {},
          "execution_count": 24
        }
      ],
      "source": [
        "X_test_tensor.shape"
      ]
    },
    {
      "cell_type": "markdown",
      "metadata": {
        "id": "RXrcBpPwPZ17"
      },
      "source": [
        "Let's start with the ANN model as defined in the reference [article](https://www.mdpi.com/2227-7390/10/15/2819):"
      ]
    },
    {
      "cell_type": "code",
      "execution_count": null,
      "metadata": {
        "id": "VHDyzfgxhomB"
      },
      "outputs": [],
      "source": [
        "class EEG_ANN(nn.Module):\n",
        "    def __init__(self, input_shape, n_classes):\n",
        "        super(EEG_ANN, self).__init__()\n",
        "        batch_size, num_channels = input_shape\n",
        "\n",
        "        # Hidden layers\n",
        "        self.fc1 = nn.Linear(num_channels, 2500) # Input to first hidden layer\n",
        "        self.fc2 = nn.Linear(2500, 1000)         # Second hidden layer\n",
        "        self.fc3 = nn.Linear(1000, 500)          # Third hidden layer\n",
        "        self.fc4 = nn.Linear(500, 200)           # Fourth hidden layer\n",
        "        self.fc5 = nn.Linear(200, 100)           # Fifth hidden layer\n",
        "        self.fc6 = nn.Linear(100, 50)            # Sixth hidden layer\n",
        "        self.fc7 = nn.Linear(50, 25)             # Seventh hidden layer\n",
        "        self.fc8 = nn.Linear(25, 15)             # Eighth hidden layer\n",
        "\n",
        "        # Output layer\n",
        "        self.fc_out = nn.Linear(15, n_classes)   # Output layer\n",
        "\n",
        "        # Activation functions\n",
        "        self.tanh = nn.Tanh()                  # Tanh activation\n",
        "        self.softmax = nn.Softmax(dim=1)       # Softmax activation\n",
        "\n",
        "    def forward(self, x):\n",
        "        # Flatten the input tensor\n",
        "        #x = torch.flatten(x, start_dim=1)  # Shape: (batch, sequence_length*num_channels)\n",
        "\n",
        "        # Pass through hidden layers with tanh activation\n",
        "        x = self.tanh(self.fc1(x))\n",
        "        x = self.tanh(self.fc2(x))\n",
        "        x = self.tanh(self.fc3(x))\n",
        "        x = self.tanh(self.fc4(x))\n",
        "        x = self.tanh(self.fc5(x))\n",
        "        x = self.tanh(self.fc6(x))\n",
        "        x = self.tanh(self.fc7(x))\n",
        "        x = self.tanh(self.fc8(x))\n",
        "\n",
        "        # Output layer with softmax activation\n",
        "        x = self.fc_out(x)\n",
        "\n",
        "        return x"
      ]
    },
    {
      "cell_type": "code",
      "execution_count": null,
      "metadata": {
        "id": "PLevfQBEiWNd"
      },
      "outputs": [],
      "source": [
        "n_channels = 31\n",
        "n_classes = 10\n",
        "ANN_model = EEG_ANN((batch_size, n_channels), n_classes).to(device)"
      ]
    },
    {
      "cell_type": "code",
      "execution_count": null,
      "metadata": {
        "id": "5VQr9Tf53DXu"
      },
      "outputs": [],
      "source": [
        "loss_fct = nn.CrossEntropyLoss()\n",
        "#scaler = GradScaler()\n",
        "optimizer = torch.optim.Adagrad(ANN_model.parameters(), lr=5e-3)"
      ]
    },
    {
      "cell_type": "code",
      "execution_count": null,
      "metadata": {
        "colab": {
          "base_uri": "https://localhost:8080/"
        },
        "id": "iHaTsp2P2ItE",
        "outputId": "756fecad-1afd-4e60-f0c3-f0416569cf5e"
      },
      "outputs": [
        {
          "output_type": "stream",
          "name": "stdout",
          "text": [
            "Epoch 1/50\n"
          ]
        },
        {
          "output_type": "stream",
          "name": "stderr",
          "text": [
            "Training: 100%|██████████| 6232/6232 [00:35<00:00, 177.56it/s, loss=2.25]\n"
          ]
        },
        {
          "output_type": "stream",
          "name": "stdout",
          "text": [
            "Average epoch training loss: 2.280\n",
            "Training accuracy: 13.324%\n"
          ]
        },
        {
          "output_type": "stream",
          "name": "stderr",
          "text": [
            "Validation: 100%|██████████| 779/779 [00:02<00:00, 327.49it/s, val_loss=2.14]\n"
          ]
        },
        {
          "output_type": "stream",
          "name": "stdout",
          "text": [
            "Average epoch validation loss: 2.276\n",
            "Validation accuracy: 12.910% \n",
            "\n",
            "Epoch 2/50\n"
          ]
        },
        {
          "output_type": "stream",
          "name": "stderr",
          "text": [
            "Training: 100%|██████████| 6232/6232 [00:35<00:00, 177.79it/s, loss=2.24]\n"
          ]
        },
        {
          "output_type": "stream",
          "name": "stdout",
          "text": [
            "Average epoch training loss: 2.238\n",
            "Training accuracy: 15.978%\n"
          ]
        },
        {
          "output_type": "stream",
          "name": "stderr",
          "text": [
            "Validation: 100%|██████████| 779/779 [00:02<00:00, 337.11it/s, val_loss=2.22]\n"
          ]
        },
        {
          "output_type": "stream",
          "name": "stdout",
          "text": [
            "Average epoch validation loss: 2.260\n",
            "Validation accuracy: 15.082% \n",
            "\n",
            "Epoch 3/50\n"
          ]
        },
        {
          "output_type": "stream",
          "name": "stderr",
          "text": [
            "Training: 100%|██████████| 6232/6232 [00:35<00:00, 177.06it/s, loss=2.2]\n"
          ]
        },
        {
          "output_type": "stream",
          "name": "stdout",
          "text": [
            "Average epoch training loss: 2.176\n",
            "Training accuracy: 20.229%\n"
          ]
        },
        {
          "output_type": "stream",
          "name": "stderr",
          "text": [
            "Validation: 100%|██████████| 779/779 [00:02<00:00, 323.63it/s, val_loss=2.18]\n"
          ]
        },
        {
          "output_type": "stream",
          "name": "stdout",
          "text": [
            "Average epoch validation loss: 2.214\n",
            "Validation accuracy: 18.375% \n",
            "\n",
            "Epoch 4/50\n"
          ]
        },
        {
          "output_type": "stream",
          "name": "stderr",
          "text": [
            "Training: 100%|██████████| 6232/6232 [00:34<00:00, 179.29it/s, loss=2.12]\n"
          ]
        },
        {
          "output_type": "stream",
          "name": "stdout",
          "text": [
            "Average epoch training loss: 2.079\n",
            "Training accuracy: 25.960%\n"
          ]
        },
        {
          "output_type": "stream",
          "name": "stderr",
          "text": [
            "Validation: 100%|██████████| 779/779 [00:02<00:00, 324.01it/s, val_loss=2.08]\n"
          ]
        },
        {
          "output_type": "stream",
          "name": "stdout",
          "text": [
            "Average epoch validation loss: 2.116\n",
            "Validation accuracy: 24.246% \n",
            "\n",
            "Epoch 5/50\n"
          ]
        },
        {
          "output_type": "stream",
          "name": "stderr",
          "text": [
            "Training: 100%|██████████| 6232/6232 [00:34<00:00, 179.00it/s, loss=1.82]\n"
          ]
        },
        {
          "output_type": "stream",
          "name": "stdout",
          "text": [
            "Average epoch training loss: 1.977\n",
            "Training accuracy: 31.296%\n"
          ]
        },
        {
          "output_type": "stream",
          "name": "stderr",
          "text": [
            "Validation: 100%|██████████| 779/779 [00:02<00:00, 331.64it/s, val_loss=2.17]\n"
          ]
        },
        {
          "output_type": "stream",
          "name": "stdout",
          "text": [
            "Average epoch validation loss: 2.063\n",
            "Validation accuracy: 27.083% \n",
            "\n",
            "Epoch 6/50\n"
          ]
        },
        {
          "output_type": "stream",
          "name": "stderr",
          "text": [
            "Training: 100%|██████████| 6232/6232 [00:34<00:00, 178.38it/s, loss=1.9]\n"
          ]
        },
        {
          "output_type": "stream",
          "name": "stdout",
          "text": [
            "Average epoch training loss: 1.887\n",
            "Training accuracy: 35.263%\n"
          ]
        },
        {
          "output_type": "stream",
          "name": "stderr",
          "text": [
            "Validation: 100%|██████████| 779/779 [00:02<00:00, 303.88it/s, val_loss=2.45]\n"
          ]
        },
        {
          "output_type": "stream",
          "name": "stdout",
          "text": [
            "Average epoch validation loss: 1.997\n",
            "Validation accuracy: 30.368% \n",
            "\n",
            "Epoch 7/50\n"
          ]
        },
        {
          "output_type": "stream",
          "name": "stderr",
          "text": [
            "Training: 100%|██████████| 6232/6232 [00:34<00:00, 178.59it/s, loss=1.8]\n"
          ]
        },
        {
          "output_type": "stream",
          "name": "stdout",
          "text": [
            "Average epoch training loss: 1.801\n",
            "Training accuracy: 38.880%\n"
          ]
        },
        {
          "output_type": "stream",
          "name": "stderr",
          "text": [
            "Validation: 100%|██████████| 779/779 [00:02<00:00, 275.91it/s, val_loss=2.2]\n"
          ]
        },
        {
          "output_type": "stream",
          "name": "stdout",
          "text": [
            "Average epoch validation loss: 1.956\n",
            "Validation accuracy: 32.625% \n",
            "\n",
            "Epoch 8/50\n"
          ]
        },
        {
          "output_type": "stream",
          "name": "stderr",
          "text": [
            "Training: 100%|██████████| 6232/6232 [00:35<00:00, 176.33it/s, loss=1.72]\n"
          ]
        },
        {
          "output_type": "stream",
          "name": "stdout",
          "text": [
            "Average epoch training loss: 1.723\n",
            "Training accuracy: 42.093%\n"
          ]
        },
        {
          "output_type": "stream",
          "name": "stderr",
          "text": [
            "Validation: 100%|██████████| 779/779 [00:02<00:00, 271.04it/s, val_loss=2.2]\n"
          ]
        },
        {
          "output_type": "stream",
          "name": "stdout",
          "text": [
            "Average epoch validation loss: 1.911\n",
            "Validation accuracy: 35.266% \n",
            "\n",
            "Epoch 9/50\n"
          ]
        },
        {
          "output_type": "stream",
          "name": "stderr",
          "text": [
            "Training: 100%|██████████| 6232/6232 [00:35<00:00, 176.97it/s, loss=1.55]\n"
          ]
        },
        {
          "output_type": "stream",
          "name": "stdout",
          "text": [
            "Average epoch training loss: 1.652\n",
            "Training accuracy: 44.878%\n"
          ]
        },
        {
          "output_type": "stream",
          "name": "stderr",
          "text": [
            "Validation: 100%|██████████| 779/779 [00:02<00:00, 294.47it/s, val_loss=1.94]\n"
          ]
        },
        {
          "output_type": "stream",
          "name": "stdout",
          "text": [
            "Average epoch validation loss: 1.876\n",
            "Validation accuracy: 37.105% \n",
            "\n",
            "Epoch 10/50\n"
          ]
        },
        {
          "output_type": "stream",
          "name": "stderr",
          "text": [
            "Training: 100%|██████████| 6232/6232 [00:35<00:00, 176.30it/s, loss=1.51]\n"
          ]
        },
        {
          "output_type": "stream",
          "name": "stdout",
          "text": [
            "Average epoch training loss: 1.593\n",
            "Training accuracy: 47.008%\n"
          ]
        },
        {
          "output_type": "stream",
          "name": "stderr",
          "text": [
            "Validation: 100%|██████████| 779/779 [00:02<00:00, 319.87it/s, val_loss=2.03]\n"
          ]
        },
        {
          "output_type": "stream",
          "name": "stdout",
          "text": [
            "Average epoch validation loss: 1.830\n",
            "Validation accuracy: 39.162% \n",
            "\n",
            "Epoch 11/50\n"
          ]
        },
        {
          "output_type": "stream",
          "name": "stderr",
          "text": [
            "Training: 100%|██████████| 6232/6232 [00:35<00:00, 175.89it/s, loss=1.6]\n"
          ]
        },
        {
          "output_type": "stream",
          "name": "stdout",
          "text": [
            "Average epoch training loss: 1.545\n",
            "Training accuracy: 48.783%\n"
          ]
        },
        {
          "output_type": "stream",
          "name": "stderr",
          "text": [
            "Validation: 100%|██████████| 779/779 [00:02<00:00, 310.89it/s, val_loss=2.19]\n"
          ]
        },
        {
          "output_type": "stream",
          "name": "stdout",
          "text": [
            "Average epoch validation loss: 1.820\n",
            "Validation accuracy: 39.574% \n",
            "\n",
            "Epoch 12/50\n"
          ]
        },
        {
          "output_type": "stream",
          "name": "stderr",
          "text": [
            "Training: 100%|██████████| 6232/6232 [00:35<00:00, 175.98it/s, loss=1.44]\n"
          ]
        },
        {
          "output_type": "stream",
          "name": "stdout",
          "text": [
            "Average epoch training loss: 1.502\n",
            "Training accuracy: 50.246%\n"
          ]
        },
        {
          "output_type": "stream",
          "name": "stderr",
          "text": [
            "Validation: 100%|██████████| 779/779 [00:02<00:00, 320.53it/s, val_loss=2.14]\n"
          ]
        },
        {
          "output_type": "stream",
          "name": "stdout",
          "text": [
            "Average epoch validation loss: 1.809\n",
            "Validation accuracy: 40.171% \n",
            "\n",
            "Epoch 13/50\n"
          ]
        },
        {
          "output_type": "stream",
          "name": "stderr",
          "text": [
            "Training: 100%|██████████| 6232/6232 [00:35<00:00, 174.87it/s, loss=1.49]\n"
          ]
        },
        {
          "output_type": "stream",
          "name": "stdout",
          "text": [
            "Average epoch training loss: 1.466\n",
            "Training accuracy: 51.471%\n"
          ]
        },
        {
          "output_type": "stream",
          "name": "stderr",
          "text": [
            "Validation: 100%|██████████| 779/779 [00:02<00:00, 312.64it/s, val_loss=1.98]\n"
          ]
        },
        {
          "output_type": "stream",
          "name": "stdout",
          "text": [
            "Average epoch validation loss: 1.771\n",
            "Validation accuracy: 41.458% \n",
            "\n",
            "Epoch 14/50\n"
          ]
        },
        {
          "output_type": "stream",
          "name": "stderr",
          "text": [
            "Training: 100%|██████████| 6232/6232 [00:35<00:00, 174.68it/s, loss=1.48]\n"
          ]
        },
        {
          "output_type": "stream",
          "name": "stdout",
          "text": [
            "Average epoch training loss: 1.435\n",
            "Training accuracy: 52.475%\n"
          ]
        },
        {
          "output_type": "stream",
          "name": "stderr",
          "text": [
            "Validation: 100%|██████████| 779/779 [00:02<00:00, 318.24it/s, val_loss=1.96]\n"
          ]
        },
        {
          "output_type": "stream",
          "name": "stdout",
          "text": [
            "Average epoch validation loss: 1.749\n",
            "Validation accuracy: 42.325% \n",
            "\n",
            "Epoch 15/50\n"
          ]
        },
        {
          "output_type": "stream",
          "name": "stderr",
          "text": [
            "Training: 100%|██████████| 6232/6232 [00:35<00:00, 175.30it/s, loss=1.39]\n"
          ]
        },
        {
          "output_type": "stream",
          "name": "stdout",
          "text": [
            "Average epoch training loss: 1.408\n",
            "Training accuracy: 53.441%\n"
          ]
        },
        {
          "output_type": "stream",
          "name": "stderr",
          "text": [
            "Validation: 100%|██████████| 779/779 [00:02<00:00, 309.66it/s, val_loss=2.62]\n"
          ]
        },
        {
          "output_type": "stream",
          "name": "stdout",
          "text": [
            "Average epoch validation loss: 1.761\n",
            "Validation accuracy: 42.323% \n",
            "\n",
            "Epoch 16/50\n"
          ]
        },
        {
          "output_type": "stream",
          "name": "stderr",
          "text": [
            "Training: 100%|██████████| 6232/6232 [00:35<00:00, 173.27it/s, loss=1.51]\n"
          ]
        },
        {
          "output_type": "stream",
          "name": "stdout",
          "text": [
            "Average epoch training loss: 1.384\n",
            "Training accuracy: 54.232%\n"
          ]
        },
        {
          "output_type": "stream",
          "name": "stderr",
          "text": [
            "Validation: 100%|██████████| 779/779 [00:02<00:00, 290.71it/s, val_loss=2.5]\n"
          ]
        },
        {
          "output_type": "stream",
          "name": "stdout",
          "text": [
            "Average epoch validation loss: 1.743\n",
            "Validation accuracy: 42.926% \n",
            "\n",
            "Epoch 17/50\n"
          ]
        },
        {
          "output_type": "stream",
          "name": "stderr",
          "text": [
            "Training: 100%|██████████| 6232/6232 [00:35<00:00, 174.43it/s, loss=1.29]\n"
          ]
        },
        {
          "output_type": "stream",
          "name": "stdout",
          "text": [
            "Average epoch training loss: 1.361\n",
            "Training accuracy: 54.898%\n"
          ]
        },
        {
          "output_type": "stream",
          "name": "stderr",
          "text": [
            "Validation: 100%|██████████| 779/779 [00:02<00:00, 285.65it/s, val_loss=2.56]\n"
          ]
        },
        {
          "output_type": "stream",
          "name": "stdout",
          "text": [
            "Average epoch validation loss: 1.744\n",
            "Validation accuracy: 42.661% \n",
            "\n",
            "Epoch 18/50\n"
          ]
        },
        {
          "output_type": "stream",
          "name": "stderr",
          "text": [
            "Training: 100%|██████████| 6232/6232 [00:35<00:00, 176.15it/s, loss=1.09]\n"
          ]
        },
        {
          "output_type": "stream",
          "name": "stdout",
          "text": [
            "Average epoch training loss: 1.342\n",
            "Training accuracy: 55.557%\n"
          ]
        },
        {
          "output_type": "stream",
          "name": "stderr",
          "text": [
            "Validation: 100%|██████████| 779/779 [00:02<00:00, 283.77it/s, val_loss=2.19]\n"
          ]
        },
        {
          "output_type": "stream",
          "name": "stdout",
          "text": [
            "Average epoch validation loss: 1.719\n",
            "Validation accuracy: 44.122% \n",
            "\n",
            "Epoch 19/50\n"
          ]
        },
        {
          "output_type": "stream",
          "name": "stderr",
          "text": [
            "Training: 100%|██████████| 6232/6232 [00:35<00:00, 175.01it/s, loss=1.41]\n"
          ]
        },
        {
          "output_type": "stream",
          "name": "stdout",
          "text": [
            "Average epoch training loss: 1.323\n",
            "Training accuracy: 56.146%\n"
          ]
        },
        {
          "output_type": "stream",
          "name": "stderr",
          "text": [
            "Validation: 100%|██████████| 779/779 [00:02<00:00, 275.84it/s, val_loss=2.03]\n"
          ]
        },
        {
          "output_type": "stream",
          "name": "stdout",
          "text": [
            "Average epoch validation loss: 1.723\n",
            "Validation accuracy: 44.198% \n",
            "\n",
            "Epoch 20/50\n"
          ]
        },
        {
          "output_type": "stream",
          "name": "stderr",
          "text": [
            "Training: 100%|██████████| 6232/6232 [00:35<00:00, 176.64it/s, loss=1.5]\n"
          ]
        },
        {
          "output_type": "stream",
          "name": "stdout",
          "text": [
            "Average epoch training loss: 1.307\n",
            "Training accuracy: 56.669%\n"
          ]
        },
        {
          "output_type": "stream",
          "name": "stderr",
          "text": [
            "Validation: 100%|██████████| 779/779 [00:02<00:00, 268.96it/s, val_loss=2.44]\n"
          ]
        },
        {
          "output_type": "stream",
          "name": "stdout",
          "text": [
            "Average epoch validation loss: 1.740\n",
            "Validation accuracy: 43.968% \n",
            "\n",
            "Epoch 21/50\n"
          ]
        },
        {
          "output_type": "stream",
          "name": "stderr",
          "text": [
            "Training: 100%|██████████| 6232/6232 [00:35<00:00, 176.62it/s, loss=1.32]\n"
          ]
        },
        {
          "output_type": "stream",
          "name": "stdout",
          "text": [
            "Average epoch training loss: 1.292\n",
            "Training accuracy: 57.184%\n"
          ]
        },
        {
          "output_type": "stream",
          "name": "stderr",
          "text": [
            "Validation: 100%|██████████| 779/779 [00:02<00:00, 271.09it/s, val_loss=2.29]\n"
          ]
        },
        {
          "output_type": "stream",
          "name": "stdout",
          "text": [
            "Average epoch validation loss: 1.734\n",
            "Validation accuracy: 44.294% \n",
            "\n",
            "Epoch 22/50\n"
          ]
        },
        {
          "output_type": "stream",
          "name": "stderr",
          "text": [
            "Training: 100%|██████████| 6232/6232 [00:35<00:00, 176.03it/s, loss=1.33]\n"
          ]
        },
        {
          "output_type": "stream",
          "name": "stdout",
          "text": [
            "Average epoch training loss: 1.278\n",
            "Training accuracy: 57.599%\n"
          ]
        },
        {
          "output_type": "stream",
          "name": "stderr",
          "text": [
            "Validation: 100%|██████████| 779/779 [00:02<00:00, 278.71it/s, val_loss=2.14]\n"
          ]
        },
        {
          "output_type": "stream",
          "name": "stdout",
          "text": [
            "Average epoch validation loss: 1.705\n",
            "Validation accuracy: 44.852% \n",
            "\n",
            "Epoch 23/50\n"
          ]
        },
        {
          "output_type": "stream",
          "name": "stderr",
          "text": [
            "Training: 100%|██████████| 6232/6232 [00:35<00:00, 175.13it/s, loss=1.43]\n"
          ]
        },
        {
          "output_type": "stream",
          "name": "stdout",
          "text": [
            "Average epoch training loss: 1.265\n",
            "Training accuracy: 58.077%\n"
          ]
        },
        {
          "output_type": "stream",
          "name": "stderr",
          "text": [
            "Validation: 100%|██████████| 779/779 [00:02<00:00, 277.56it/s, val_loss=2.34]\n"
          ]
        },
        {
          "output_type": "stream",
          "name": "stdout",
          "text": [
            "Average epoch validation loss: 1.714\n",
            "Validation accuracy: 44.942% \n",
            "\n",
            "Epoch 24/50\n"
          ]
        },
        {
          "output_type": "stream",
          "name": "stderr",
          "text": [
            "Training: 100%|██████████| 6232/6232 [00:37<00:00, 166.90it/s, loss=1.18]\n"
          ]
        },
        {
          "output_type": "stream",
          "name": "stdout",
          "text": [
            "Average epoch training loss: 1.253\n",
            "Training accuracy: 58.481%\n"
          ]
        },
        {
          "output_type": "stream",
          "name": "stderr",
          "text": [
            "Validation: 100%|██████████| 779/779 [00:02<00:00, 310.11it/s, val_loss=2.42]\n"
          ]
        },
        {
          "output_type": "stream",
          "name": "stdout",
          "text": [
            "Average epoch validation loss: 1.689\n",
            "Validation accuracy: 45.370% \n",
            "\n",
            "Epoch 25/50\n"
          ]
        },
        {
          "output_type": "stream",
          "name": "stderr",
          "text": [
            "Training: 100%|██████████| 6232/6232 [00:35<00:00, 173.55it/s, loss=1.39]\n"
          ]
        },
        {
          "output_type": "stream",
          "name": "stdout",
          "text": [
            "Average epoch training loss: 1.241\n",
            "Training accuracy: 58.800%\n"
          ]
        },
        {
          "output_type": "stream",
          "name": "stderr",
          "text": [
            "Validation: 100%|██████████| 779/779 [00:02<00:00, 305.40it/s, val_loss=2.19]\n"
          ]
        },
        {
          "output_type": "stream",
          "name": "stdout",
          "text": [
            "Average epoch validation loss: 1.710\n",
            "Validation accuracy: 45.045% \n",
            "\n",
            "Epoch 26/50\n"
          ]
        },
        {
          "output_type": "stream",
          "name": "stderr",
          "text": [
            "Training: 100%|██████████| 6232/6232 [00:36<00:00, 172.39it/s, loss=1.08]\n"
          ]
        },
        {
          "output_type": "stream",
          "name": "stdout",
          "text": [
            "Average epoch training loss: 1.231\n",
            "Training accuracy: 59.201%\n"
          ]
        },
        {
          "output_type": "stream",
          "name": "stderr",
          "text": [
            "Validation: 100%|██████████| 779/779 [00:02<00:00, 309.73it/s, val_loss=1.79]\n"
          ]
        },
        {
          "output_type": "stream",
          "name": "stdout",
          "text": [
            "Average epoch validation loss: 1.697\n",
            "Validation accuracy: 45.438% \n",
            "\n",
            "Epoch 27/50\n"
          ]
        },
        {
          "output_type": "stream",
          "name": "stderr",
          "text": [
            "Training: 100%|██████████| 6232/6232 [00:35<00:00, 173.17it/s, loss=1.13]\n"
          ]
        },
        {
          "output_type": "stream",
          "name": "stdout",
          "text": [
            "Average epoch training loss: 1.221\n",
            "Training accuracy: 59.550%\n"
          ]
        },
        {
          "output_type": "stream",
          "name": "stderr",
          "text": [
            "Validation: 100%|██████████| 779/779 [00:02<00:00, 303.00it/s, val_loss=2.1]\n"
          ]
        },
        {
          "output_type": "stream",
          "name": "stdout",
          "text": [
            "Average epoch validation loss: 1.690\n",
            "Validation accuracy: 46.008% \n",
            "\n",
            "Epoch 28/50\n"
          ]
        },
        {
          "output_type": "stream",
          "name": "stderr",
          "text": [
            "Training: 100%|██████████| 6232/6232 [00:36<00:00, 172.43it/s, loss=1.29]\n"
          ]
        },
        {
          "output_type": "stream",
          "name": "stdout",
          "text": [
            "Average epoch training loss: 1.211\n",
            "Training accuracy: 59.840%\n"
          ]
        },
        {
          "output_type": "stream",
          "name": "stderr",
          "text": [
            "Validation: 100%|██████████| 779/779 [00:02<00:00, 302.95it/s, val_loss=2.27]\n"
          ]
        },
        {
          "output_type": "stream",
          "name": "stdout",
          "text": [
            "Average epoch validation loss: 1.699\n",
            "Validation accuracy: 45.868% \n",
            "\n",
            "Epoch 29/50\n"
          ]
        },
        {
          "output_type": "stream",
          "name": "stderr",
          "text": [
            "Training: 100%|██████████| 6232/6232 [00:36<00:00, 172.35it/s, loss=1.29]\n"
          ]
        },
        {
          "output_type": "stream",
          "name": "stdout",
          "text": [
            "Average epoch training loss: 1.202\n",
            "Training accuracy: 60.138%\n"
          ]
        },
        {
          "output_type": "stream",
          "name": "stderr",
          "text": [
            "Validation: 100%|██████████| 779/779 [00:02<00:00, 301.52it/s, val_loss=2.53]\n"
          ]
        },
        {
          "output_type": "stream",
          "name": "stdout",
          "text": [
            "Average epoch validation loss: 1.709\n",
            "Validation accuracy: 45.517% \n",
            "\n",
            "Epoch 30/50\n"
          ]
        },
        {
          "output_type": "stream",
          "name": "stderr",
          "text": [
            "Training: 100%|██████████| 6232/6232 [00:36<00:00, 171.56it/s, loss=1.08]\n"
          ]
        },
        {
          "output_type": "stream",
          "name": "stdout",
          "text": [
            "Average epoch training loss: 1.193\n",
            "Training accuracy: 60.344%\n"
          ]
        },
        {
          "output_type": "stream",
          "name": "stderr",
          "text": [
            "Validation: 100%|██████████| 779/779 [00:02<00:00, 289.08it/s, val_loss=1.94]\n"
          ]
        },
        {
          "output_type": "stream",
          "name": "stdout",
          "text": [
            "Average epoch validation loss: 1.685\n",
            "Validation accuracy: 46.294% \n",
            "\n",
            "Epoch 31/50\n"
          ]
        },
        {
          "output_type": "stream",
          "name": "stderr",
          "text": [
            "Training: 100%|██████████| 6232/6232 [00:36<00:00, 172.24it/s, loss=1.2]\n"
          ]
        },
        {
          "output_type": "stream",
          "name": "stdout",
          "text": [
            "Average epoch training loss: 1.185\n",
            "Training accuracy: 60.633%\n"
          ]
        },
        {
          "output_type": "stream",
          "name": "stderr",
          "text": [
            "Validation: 100%|██████████| 779/779 [00:02<00:00, 285.42it/s, val_loss=1.93]\n"
          ]
        },
        {
          "output_type": "stream",
          "name": "stdout",
          "text": [
            "Average epoch validation loss: 1.708\n",
            "Validation accuracy: 45.810% \n",
            "\n",
            "Epoch 32/50\n"
          ]
        },
        {
          "output_type": "stream",
          "name": "stderr",
          "text": [
            "Training: 100%|██████████| 6232/6232 [00:36<00:00, 170.85it/s, loss=1]\n"
          ]
        },
        {
          "output_type": "stream",
          "name": "stdout",
          "text": [
            "Average epoch training loss: 1.178\n",
            "Training accuracy: 60.887%\n"
          ]
        },
        {
          "output_type": "stream",
          "name": "stderr",
          "text": [
            "Validation: 100%|██████████| 779/779 [00:02<00:00, 274.12it/s, val_loss=2]\n"
          ]
        },
        {
          "output_type": "stream",
          "name": "stdout",
          "text": [
            "Average epoch validation loss: 1.692\n",
            "Validation accuracy: 46.362% \n",
            "\n",
            "Epoch 33/50\n"
          ]
        },
        {
          "output_type": "stream",
          "name": "stderr",
          "text": [
            "Training: 100%|██████████| 6232/6232 [00:36<00:00, 170.59it/s, loss=1.01]\n"
          ]
        },
        {
          "output_type": "stream",
          "name": "stdout",
          "text": [
            "Average epoch training loss: 1.170\n",
            "Training accuracy: 61.153%\n"
          ]
        },
        {
          "output_type": "stream",
          "name": "stderr",
          "text": [
            "Validation: 100%|██████████| 779/779 [00:02<00:00, 273.09it/s, val_loss=2.31]\n"
          ]
        },
        {
          "output_type": "stream",
          "name": "stdout",
          "text": [
            "Average epoch validation loss: 1.717\n",
            "Validation accuracy: 45.914% \n",
            "\n",
            "Epoch 34/50\n"
          ]
        },
        {
          "output_type": "stream",
          "name": "stderr",
          "text": [
            "Training: 100%|██████████| 6232/6232 [00:36<00:00, 171.83it/s, loss=1.04]\n"
          ]
        },
        {
          "output_type": "stream",
          "name": "stdout",
          "text": [
            "Average epoch training loss: 1.163\n",
            "Training accuracy: 61.391%\n"
          ]
        },
        {
          "output_type": "stream",
          "name": "stderr",
          "text": [
            "Validation: 100%|██████████| 779/779 [00:03<00:00, 253.14it/s, val_loss=2.34]\n"
          ]
        },
        {
          "output_type": "stream",
          "name": "stdout",
          "text": [
            "Average epoch validation loss: 1.723\n",
            "Validation accuracy: 45.737% \n",
            "\n",
            "Epoch 35/50\n"
          ]
        },
        {
          "output_type": "stream",
          "name": "stderr",
          "text": [
            "Training: 100%|██████████| 6232/6232 [00:36<00:00, 170.65it/s, loss=1.28]\n"
          ]
        },
        {
          "output_type": "stream",
          "name": "stdout",
          "text": [
            "Average epoch training loss: 1.156\n",
            "Training accuracy: 61.610%\n"
          ]
        },
        {
          "output_type": "stream",
          "name": "stderr",
          "text": [
            "Validation: 100%|██████████| 779/779 [00:02<00:00, 270.80it/s, val_loss=2.28]\n"
          ]
        },
        {
          "output_type": "stream",
          "name": "stdout",
          "text": [
            "Average epoch validation loss: 1.692\n",
            "Validation accuracy: 46.510% \n",
            "\n",
            "Epoch 36/50\n"
          ]
        },
        {
          "output_type": "stream",
          "name": "stderr",
          "text": [
            "Training: 100%|██████████| 6232/6232 [00:36<00:00, 169.93it/s, loss=1.17]\n"
          ]
        },
        {
          "output_type": "stream",
          "name": "stdout",
          "text": [
            "Average epoch training loss: 1.149\n",
            "Training accuracy: 61.793%\n"
          ]
        },
        {
          "output_type": "stream",
          "name": "stderr",
          "text": [
            "Validation: 100%|██████████| 779/779 [00:02<00:00, 276.49it/s, val_loss=2.21]\n"
          ]
        },
        {
          "output_type": "stream",
          "name": "stdout",
          "text": [
            "Average epoch validation loss: 1.700\n",
            "Validation accuracy: 46.393% \n",
            "\n",
            "Epoch 37/50\n"
          ]
        },
        {
          "output_type": "stream",
          "name": "stderr",
          "text": [
            "Training: 100%|██████████| 6232/6232 [00:36<00:00, 168.64it/s, loss=1.19]\n"
          ]
        },
        {
          "output_type": "stream",
          "name": "stdout",
          "text": [
            "Average epoch training loss: 1.142\n",
            "Training accuracy: 62.031%\n"
          ]
        },
        {
          "output_type": "stream",
          "name": "stderr",
          "text": [
            "Validation: 100%|██████████| 779/779 [00:02<00:00, 288.77it/s, val_loss=2.11]\n"
          ]
        },
        {
          "output_type": "stream",
          "name": "stdout",
          "text": [
            "Average epoch validation loss: 1.710\n",
            "Validation accuracy: 46.255% \n",
            "\n",
            "Epoch 38/50\n"
          ]
        },
        {
          "output_type": "stream",
          "name": "stderr",
          "text": [
            "Training: 100%|██████████| 6232/6232 [00:37<00:00, 168.01it/s, loss=1.1]\n"
          ]
        },
        {
          "output_type": "stream",
          "name": "stdout",
          "text": [
            "Average epoch training loss: 1.136\n",
            "Training accuracy: 62.243%\n"
          ]
        },
        {
          "output_type": "stream",
          "name": "stderr",
          "text": [
            "Validation: 100%|██████████| 779/779 [00:02<00:00, 293.38it/s, val_loss=2.5]\n"
          ]
        },
        {
          "output_type": "stream",
          "name": "stdout",
          "text": [
            "Average epoch validation loss: 1.717\n",
            "Validation accuracy: 46.284% \n",
            "\n",
            "Epoch 39/50\n"
          ]
        },
        {
          "output_type": "stream",
          "name": "stderr",
          "text": [
            "Training: 100%|██████████| 6232/6232 [00:37<00:00, 167.22it/s, loss=1.03]\n"
          ]
        },
        {
          "output_type": "stream",
          "name": "stdout",
          "text": [
            "Average epoch training loss: 1.130\n",
            "Training accuracy: 62.426%\n"
          ]
        },
        {
          "output_type": "stream",
          "name": "stderr",
          "text": [
            "Validation: 100%|██████████| 779/779 [00:02<00:00, 299.26it/s, val_loss=2.24]\n"
          ]
        },
        {
          "output_type": "stream",
          "name": "stdout",
          "text": [
            "Average epoch validation loss: 1.713\n",
            "Validation accuracy: 46.416% \n",
            "\n",
            "Epoch 40/50\n"
          ]
        },
        {
          "output_type": "stream",
          "name": "stderr",
          "text": [
            "Training: 100%|██████████| 6232/6232 [00:37<00:00, 165.30it/s, loss=1.33]\n"
          ]
        },
        {
          "output_type": "stream",
          "name": "stdout",
          "text": [
            "Average epoch training loss: 1.125\n",
            "Training accuracy: 62.551%\n"
          ]
        },
        {
          "output_type": "stream",
          "name": "stderr",
          "text": [
            "Validation: 100%|██████████| 779/779 [00:02<00:00, 284.57it/s, val_loss=2.35]\n"
          ]
        },
        {
          "output_type": "stream",
          "name": "stdout",
          "text": [
            "Average epoch validation loss: 1.714\n",
            "Validation accuracy: 46.652% \n",
            "\n",
            "Epoch 41/50\n"
          ]
        },
        {
          "output_type": "stream",
          "name": "stderr",
          "text": [
            "Training: 100%|██████████| 6232/6232 [00:37<00:00, 164.95it/s, loss=1.25]\n"
          ]
        },
        {
          "output_type": "stream",
          "name": "stdout",
          "text": [
            "Average epoch training loss: 1.118\n",
            "Training accuracy: 62.805%\n"
          ]
        },
        {
          "output_type": "stream",
          "name": "stderr",
          "text": [
            "Validation: 100%|██████████| 779/779 [00:02<00:00, 291.75it/s, val_loss=2.52]\n"
          ]
        },
        {
          "output_type": "stream",
          "name": "stdout",
          "text": [
            "Average epoch validation loss: 1.713\n",
            "Validation accuracy: 46.502% \n",
            "\n",
            "Epoch 42/50\n"
          ]
        },
        {
          "output_type": "stream",
          "name": "stderr",
          "text": [
            "Training: 100%|██████████| 6232/6232 [00:37<00:00, 167.82it/s, loss=1.2]\n"
          ]
        },
        {
          "output_type": "stream",
          "name": "stdout",
          "text": [
            "Average epoch training loss: 1.113\n",
            "Training accuracy: 62.994%\n"
          ]
        },
        {
          "output_type": "stream",
          "name": "stderr",
          "text": [
            "Validation: 100%|██████████| 779/779 [00:02<00:00, 291.15it/s, val_loss=2.26]\n"
          ]
        },
        {
          "output_type": "stream",
          "name": "stdout",
          "text": [
            "Average epoch validation loss: 1.711\n",
            "Validation accuracy: 46.456% \n",
            "\n",
            "Epoch 43/50\n"
          ]
        },
        {
          "output_type": "stream",
          "name": "stderr",
          "text": [
            "Training: 100%|██████████| 6232/6232 [00:37<00:00, 165.49it/s, loss=1.36]\n"
          ]
        },
        {
          "output_type": "stream",
          "name": "stdout",
          "text": [
            "Average epoch training loss: 1.108\n",
            "Training accuracy: 63.121%\n"
          ]
        },
        {
          "output_type": "stream",
          "name": "stderr",
          "text": [
            "Validation: 100%|██████████| 779/779 [00:02<00:00, 298.58it/s, val_loss=2.12]\n"
          ]
        },
        {
          "output_type": "stream",
          "name": "stdout",
          "text": [
            "Average epoch validation loss: 1.707\n",
            "Validation accuracy: 46.539% \n",
            "\n",
            "Epoch 44/50\n"
          ]
        },
        {
          "output_type": "stream",
          "name": "stderr",
          "text": [
            "Training: 100%|██████████| 6232/6232 [00:37<00:00, 166.40it/s, loss=1.09]\n"
          ]
        },
        {
          "output_type": "stream",
          "name": "stdout",
          "text": [
            "Average epoch training loss: 1.103\n",
            "Training accuracy: 63.330%\n"
          ]
        },
        {
          "output_type": "stream",
          "name": "stderr",
          "text": [
            "Validation: 100%|██████████| 779/779 [00:02<00:00, 293.00it/s, val_loss=2.36]\n"
          ]
        },
        {
          "output_type": "stream",
          "name": "stdout",
          "text": [
            "Average epoch validation loss: 1.715\n",
            "Validation accuracy: 46.589% \n",
            "\n",
            "Epoch 45/50\n"
          ]
        },
        {
          "output_type": "stream",
          "name": "stderr",
          "text": [
            "Training: 100%|██████████| 6232/6232 [00:37<00:00, 165.22it/s, loss=1.33]\n"
          ]
        },
        {
          "output_type": "stream",
          "name": "stdout",
          "text": [
            "Average epoch training loss: 1.098\n",
            "Training accuracy: 63.443%\n"
          ]
        },
        {
          "output_type": "stream",
          "name": "stderr",
          "text": [
            "Validation: 100%|██████████| 779/779 [00:02<00:00, 295.66it/s, val_loss=2.15]\n"
          ]
        },
        {
          "output_type": "stream",
          "name": "stdout",
          "text": [
            "Average epoch validation loss: 1.709\n",
            "Validation accuracy: 46.890% \n",
            "\n",
            "Epoch 46/50\n"
          ]
        },
        {
          "output_type": "stream",
          "name": "stderr",
          "text": [
            "Training: 100%|██████████| 6232/6232 [00:37<00:00, 166.39it/s, loss=1.12]\n"
          ]
        },
        {
          "output_type": "stream",
          "name": "stdout",
          "text": [
            "Average epoch training loss: 1.093\n",
            "Training accuracy: 63.623%\n"
          ]
        },
        {
          "output_type": "stream",
          "name": "stderr",
          "text": [
            "Validation: 100%|██████████| 779/779 [00:02<00:00, 290.78it/s, val_loss=2.04]\n"
          ]
        },
        {
          "output_type": "stream",
          "name": "stdout",
          "text": [
            "Average epoch validation loss: 1.714\n",
            "Validation accuracy: 46.782% \n",
            "\n",
            "Epoch 47/50\n"
          ]
        },
        {
          "output_type": "stream",
          "name": "stderr",
          "text": [
            "Training: 100%|██████████| 6232/6232 [00:37<00:00, 164.11it/s, loss=1.25]\n"
          ]
        },
        {
          "output_type": "stream",
          "name": "stdout",
          "text": [
            "Average epoch training loss: 1.088\n",
            "Training accuracy: 63.809%\n"
          ]
        },
        {
          "output_type": "stream",
          "name": "stderr",
          "text": [
            "Validation: 100%|██████████| 779/779 [00:02<00:00, 272.41it/s, val_loss=2.24]\n"
          ]
        },
        {
          "output_type": "stream",
          "name": "stdout",
          "text": [
            "Average epoch validation loss: 1.703\n",
            "Validation accuracy: 47.027% \n",
            "\n",
            "Epoch 48/50\n"
          ]
        },
        {
          "output_type": "stream",
          "name": "stderr",
          "text": [
            "Training: 100%|██████████| 6232/6232 [00:37<00:00, 164.56it/s, loss=1.33]\n"
          ]
        },
        {
          "output_type": "stream",
          "name": "stdout",
          "text": [
            "Average epoch training loss: 1.083\n",
            "Training accuracy: 63.954%\n"
          ]
        },
        {
          "output_type": "stream",
          "name": "stderr",
          "text": [
            "Validation: 100%|██████████| 779/779 [00:02<00:00, 278.43it/s, val_loss=2.09]\n"
          ]
        },
        {
          "output_type": "stream",
          "name": "stdout",
          "text": [
            "Average epoch validation loss: 1.726\n",
            "Validation accuracy: 46.597% \n",
            "\n",
            "Epoch 49/50\n"
          ]
        },
        {
          "output_type": "stream",
          "name": "stderr",
          "text": [
            "Training: 100%|██████████| 6232/6232 [00:37<00:00, 164.38it/s, loss=1.09]\n"
          ]
        },
        {
          "output_type": "stream",
          "name": "stdout",
          "text": [
            "Average epoch training loss: 1.078\n",
            "Training accuracy: 64.093%\n"
          ]
        },
        {
          "output_type": "stream",
          "name": "stderr",
          "text": [
            "Validation: 100%|██████████| 779/779 [00:02<00:00, 262.49it/s, val_loss=1.88]\n"
          ]
        },
        {
          "output_type": "stream",
          "name": "stdout",
          "text": [
            "Average epoch validation loss: 1.716\n",
            "Validation accuracy: 46.720% \n",
            "\n",
            "Epoch 50/50\n"
          ]
        },
        {
          "output_type": "stream",
          "name": "stderr",
          "text": [
            "Training: 100%|██████████| 6232/6232 [00:38<00:00, 161.99it/s, loss=1.02]\n"
          ]
        },
        {
          "output_type": "stream",
          "name": "stdout",
          "text": [
            "Average epoch training loss: 1.074\n",
            "Training accuracy: 64.224%\n"
          ]
        },
        {
          "output_type": "stream",
          "name": "stderr",
          "text": [
            "Validation: 100%|██████████| 779/779 [00:02<00:00, 287.74it/s, val_loss=2.35]"
          ]
        },
        {
          "output_type": "stream",
          "name": "stdout",
          "text": [
            "Average epoch validation loss: 1.705\n",
            "Validation accuracy: 46.944% \n",
            "\n",
            "ANN training and validation time (s): 1945.1\n"
          ]
        },
        {
          "output_type": "stream",
          "name": "stderr",
          "text": [
            "\n"
          ]
        }
      ],
      "source": [
        "epochs = 50\n",
        "loss_threshold = 1e-3\n",
        "train_losses, train_accuracies = [], []\n",
        "val_losses, val_accuracies = [], []\n",
        "duration = time.time()\n",
        "\n",
        "for epoch in range(epochs):\n",
        "    print(f\"Epoch {epoch + 1}/{epochs}\")\n",
        "\n",
        "    #Training\n",
        "    ANN_model.train()\n",
        "    epoch_train_loss = 0.0\n",
        "    correct_predictions = 0\n",
        "    total_predictions = 0\n",
        "    progress_bar = tqdm(train_loader, desc=\"Training\")\n",
        "    for X_batch, y_batch in progress_bar:\n",
        "        optimizer.zero_grad()\n",
        "\n",
        "        # Forward pass with mixed precision\n",
        "        #with autocast(device_type=torch.device(device).type, dtype=torch.float16):\n",
        "        if True:\n",
        "            output = ANN_model(X_batch)\n",
        "            loss = loss_fct(output, y_batch)\n",
        "            epoch_train_loss += loss.item()\n",
        "\n",
        "            #Calculate accuracy\n",
        "            _, predicted = torch.max(output, 1)\n",
        "            correct_predictions += (predicted == y_batch).sum().item()\n",
        "            total_predictions += y_batch.size(0)\n",
        "\n",
        "\n",
        "        # Backward pass and optimization\n",
        "        #scaler.scale(loss).backward()\n",
        "        #nn.utils.clip_grad_norm_(ANN_model.parameters(), max_norm=1.0)\n",
        "        #scaler.step(optimizer)\n",
        "        #scaler.update()\n",
        "\n",
        "        loss.backward()\n",
        "        #nn.utils.clip_grad_norm_(ANN_model.parameters(), max_norm=1.0)\n",
        "        optimizer.step()\n",
        "\n",
        "        #Free up memory\n",
        "        #torch.cuda.empty_cache()\n",
        "\n",
        "        #Update progress bar\n",
        "        progress_bar.set_postfix(loss=loss.item())\n",
        "    # Training stats\n",
        "    train_loss = epoch_train_loss/len(train_loader)\n",
        "    accuracy = 100*correct_predictions/total_predictions\n",
        "    train_losses.append(train_loss)\n",
        "    train_accuracies.append(accuracy)\n",
        "    print(f'Average epoch training loss: {train_loss:.3f}')\n",
        "    print(f'Training accuracy: {accuracy:.3f}%')\n",
        "\n",
        "    #Validation\n",
        "    ANN_model.eval()\n",
        "    epoch_val_loss = 0.0\n",
        "    correct_predictions = 0\n",
        "    total_predictions = 0\n",
        "    progress_bar = tqdm(val_loader, desc=\"Validation\")\n",
        "    for X_batch, y_batch in progress_bar:\n",
        "        #with autocast(device_type=torch.device(device).type, dtype=torch.float16):\n",
        "        if True:\n",
        "            output = ANN_model(X_batch)\n",
        "            loss = loss_fct(output, y_batch)\n",
        "            epoch_val_loss += loss.item()\n",
        "\n",
        "            #Calculate accuracy\n",
        "            _, predicted = torch.max(output, 1)\n",
        "            correct_predictions += (predicted == y_batch).sum().item()\n",
        "            total_predictions += y_batch.size(0)\n",
        "\n",
        "        # Update progress bar\n",
        "        progress_bar.set_postfix(val_loss=loss.item())\n",
        "    # Validation stats\n",
        "    val_loss = epoch_val_loss/len(val_loader)\n",
        "    accuracy = 100*correct_predictions/total_predictions\n",
        "    val_losses.append(val_loss)\n",
        "    val_accuracies.append(accuracy)\n",
        "    print(f'Average epoch validation loss: {val_loss:.3f}')\n",
        "    print(f'Validation accuracy: {accuracy:.3f}% \\n')\n",
        "\n",
        "\n",
        "    #Loss condition\n",
        "    if val_loss <= loss_threshold or accuracy > 99.9:\n",
        "        break\n",
        "\n",
        "\n",
        "duration = time.time() - duration\n",
        "print(f'ANN training and validation time (s): {duration:.1f}')"
      ]
    },
    {
      "cell_type": "markdown",
      "metadata": {
        "id": "fyKILJqyOiwJ"
      },
      "source": [
        "Save and/or load model:"
      ]
    },
    {
      "cell_type": "code",
      "source": [
        "path = f'results/ann/{dataset}/{band}'\n",
        "os.makedirs(path, exist_ok=True)\n",
        "loss_fig_name = f'ann_loss_{dataset}_{band}'\n",
        "acc_fig_name = f'ann_accuracy_{dataset}_{band}'\n",
        "cm_fig_name = f'ann_cm_{dataset}_{band}'\n",
        "log_file_name = f'ann_log_{dataset}_{band}'\n",
        "shap_fig_ch_importance = f'ann_shap_top10_feature_importance_{dataset}_{band}'\n",
        "shap_fig_summary = f'ann_shap_class-summary_{dataset}_{band}'"
      ],
      "metadata": {
        "id": "b34DO3Gdm120"
      },
      "execution_count": null,
      "outputs": []
    },
    {
      "cell_type": "code",
      "execution_count": null,
      "metadata": {
        "id": "uLSCtTDsOnjU"
      },
      "outputs": [],
      "source": [
        "save = True\n",
        "load = False\n",
        "model_name = f\"ANN_{dataset}_{band}.pt\"\n",
        "if save:\n",
        "    save_model(ANN_model, path+'/'+model_name)\n",
        "if load:\n",
        "    load_model(ANN_model, path+'/'+model_name)"
      ]
    },
    {
      "cell_type": "markdown",
      "metadata": {
        "id": "QuI6JVt8Cpqj"
      },
      "source": [
        "Plotting the training and validation losses:"
      ]
    },
    {
      "cell_type": "code",
      "execution_count": null,
      "metadata": {
        "colab": {
          "base_uri": "https://localhost:8080/",
          "height": 564
        },
        "id": "2JsRwcSECdlu",
        "outputId": "5b5bc4da-9eb1-451e-d89f-3c8bbcd0b2e6"
      },
      "outputs": [
        {
          "output_type": "display_data",
          "data": {
            "text/plain": [
              "<Figure size 1000x600 with 1 Axes>"
            ],
            "image/png": "[encoded data removed]"
          },
          "metadata": {}
        }
      ],
      "source": [
        "plt.figure(figsize=(10, 6))\n",
        "plt.plot([1+i for i in range(epochs)], train_losses, label='Training Loss', color='blue')\n",
        "plt.plot([1+i for i in range(epochs)], val_losses, label='Validation Loss', color='red')\n",
        "plt.title(f'Training and Validation Losses over Epochs: ANN - {dataset} - {band}')\n",
        "plt.xlabel('Epochs')\n",
        "plt.ylabel('Loss')\n",
        "plt.legend()\n",
        "plt.grid(True)\n",
        "plt.savefig(f'{path}/{loss_fig_name}.png')\n",
        "plt.show()"
      ]
    },
    {
      "cell_type": "markdown",
      "metadata": {
        "id": "XP-8LnrtJSOw"
      },
      "source": [
        "Plotting accuracies:"
      ]
    },
    {
      "cell_type": "code",
      "execution_count": null,
      "metadata": {
        "colab": {
          "base_uri": "https://localhost:8080/",
          "height": 564
        },
        "id": "TpcWIO0OJU_q",
        "outputId": "6cb74aa0-79e0-4c70-88ad-fd8fcb6d7e17"
      },
      "outputs": [
        {
          "output_type": "display_data",
          "data": {
            "text/plain": [
              "<Figure size 1000x600 with 1 Axes>"
            ],
            "image/png": "[encoded data removed]"
          },
          "metadata": {}
        }
      ],
      "source": [
        "plt.figure(figsize=(10, 6))\n",
        "plt.plot([1+i for i in range(epochs)], train_accuracies, label='Training Accuracy (%)', color='blue')\n",
        "plt.plot([1+i for i in range(epochs)], val_accuracies, label='Validation Accuracy (%)', color='red')\n",
        "plt.title(f'Training and Validation Accuracies over Epochs: ANN - {dataset} - {band}')\n",
        "plt.xlabel('Epochs')\n",
        "plt.ylabel('Accuracy (%)')\n",
        "plt.legend()\n",
        "plt.grid(True)\n",
        "plt.savefig(f'{path}/{acc_fig_name}.png')\n",
        "plt.show()"
      ]
    },
    {
      "cell_type": "code",
      "execution_count": null,
      "metadata": {
        "colab": {
          "base_uri": "https://localhost:8080/"
        },
        "id": "eE2h4m2x3xGC",
        "outputId": "2471ca52-a7e3-40c6-fd1b-2ccc13fe886b"
      },
      "outputs": [
        {
          "output_type": "stream",
          "name": "stderr",
          "text": [
            "Testing: 100%|██████████| 778/778 [00:02<00:00, 319.12it/s, test_loss=4.55]\n"
          ]
        },
        {
          "output_type": "stream",
          "name": "stdout",
          "text": [
            "\n",
            "Classification Report:\n",
            "              precision    recall  f1-score   support\n",
            "\n",
            "           0       0.47      0.52      0.49      7200\n",
            "           1       0.55      0.48      0.52      8100\n",
            "           2       0.38      0.42      0.40      7300\n",
            "           3       0.52      0.44      0.47      7800\n",
            "           4       0.49      0.47      0.48      8600\n",
            "           5       0.47      0.44      0.46      7300\n",
            "           6       0.41      0.50      0.45      7600\n",
            "           7       0.46      0.46      0.46      9000\n",
            "           8       0.44      0.46      0.45      6600\n",
            "           9       0.50      0.46      0.48      8300\n",
            "\n",
            "    accuracy                           0.47     77800\n",
            "   macro avg       0.47      0.47      0.47     77800\n",
            "weighted avg       0.47      0.47      0.47     77800\n",
            "\n",
            "\n",
            "Average test loss: 1.717\n",
            "Test accuracy: 46.614%\n",
            "Test F1 score: 46.611%\n",
            "Test Recall: 46.625%\n",
            "Test Precision: 46.892%\n"
          ]
        }
      ],
      "source": [
        "# Testing\n",
        "ANN_model.eval()\n",
        "epoch_test_loss = 0.0\n",
        "correct_predictions = 0\n",
        "total_predictions = 0\n",
        "all_preds = []\n",
        "all_labels = []\n",
        "\n",
        "progress_bar = tqdm(test_loader, desc=\"Testing\")\n",
        "for X_batch, y_batch in progress_bar:\n",
        "    with torch.no_grad():\n",
        "        output = ANN_model(X_batch)\n",
        "        loss = loss_fct(output, y_batch)\n",
        "        epoch_test_loss += loss.item()\n",
        "\n",
        "        # Calculate accuracy\n",
        "        _, predicted = torch.max(output, 1)\n",
        "        correct_predictions += (predicted == y_batch).sum().item()\n",
        "        total_predictions += y_batch.size(0)\n",
        "\n",
        "        # Collect predictions and labels for F1 score\n",
        "        all_preds.extend(predicted.detach().cpu().numpy())\n",
        "        all_labels.extend(y_batch.detach().cpu().numpy())\n",
        "\n",
        "    # Update progress bar\n",
        "    progress_bar.set_postfix(test_loss=loss.item())\n",
        "\n",
        "# Average test loss\n",
        "test_loss = epoch_test_loss / len(test_loader)\n",
        "# Accuracy\n",
        "test_accuracy = 100 * correct_predictions / total_predictions\n",
        "# F1 score\n",
        "test_f1 = 100 * f1_score(all_labels, all_preds, average='macro')\n",
        "# Recall\n",
        "test_recall = 100 * recall_score(all_labels, all_preds, average='macro')\n",
        "# Precision\n",
        "test_precision = 100 * precision_score(all_labels, all_preds, average='macro')\n",
        "\n",
        "# Optional: Detailed classification report\n",
        "print(\"\\nClassification Report:\")\n",
        "print(classification_report(all_labels, all_preds))\n",
        "\n",
        "print(f'\\nAverage test loss: {test_loss:.3f}')\n",
        "print(f'Test accuracy: {test_accuracy:.3f}%')\n",
        "print(f'Test F1 score: {test_f1:.3f}%')\n",
        "print(f'Test Recall: {test_recall:.3f}%')\n",
        "print(f'Test Precision: {test_precision:.3f}%')"
      ]
    },
    {
      "cell_type": "code",
      "execution_count": null,
      "metadata": {
        "id": "pHoiI1u1uwG3",
        "colab": {
          "base_uri": "https://localhost:8080/",
          "height": 564
        },
        "outputId": "125ab6dc-8129-4796-9914-12368e1c0f33"
      },
      "outputs": [
        {
          "output_type": "display_data",
          "data": {
            "text/plain": [
              "<Figure size 800x600 with 2 Axes>"
            ],
            "image/png": "[encoded data removed]"
          },
          "metadata": {}
        }
      ],
      "source": [
        "#torch.argmax(output, dim=1)\n",
        "cm = confusion_matrix(all_labels, all_preds)\n",
        "# Plot Confusion Matrix\n",
        "plt.figure(figsize=(8, 6))\n",
        "sns.heatmap(cm, annot=True, fmt='d', cmap='Blues')\n",
        "plt.xlabel('Predicted Labels')\n",
        "plt.ylabel('True Labels')\n",
        "plt.title(f'ANN Confusion Matrix for {dataset} - {band}')\n",
        "plt.savefig(f'{path}/{cm_fig_name}.png')\n",
        "plt.show()"
      ]
    },
    {
      "cell_type": "markdown",
      "source": [
        "Save a log of the experiment:"
      ],
      "metadata": {
        "id": "ZTgt3Kg4pV2X"
      }
    },
    {
      "cell_type": "code",
      "source": [
        "log = f'''\n",
        "ANN model with Tanh activation\n",
        "Dataset: {dataset}\n",
        "Hardware: colab T4 GPU\n",
        "Frequency channels: {band}\n",
        "All EEG channels (left and right hemispheres)\n",
        "Batch size: {batch_size}\n",
        "Optimiser: Adagrad, 5e-3\n",
        "epochs: {epochs}\n",
        "Autocast: off\n",
        "'''\n",
        "log_res = ''\n",
        "log_res += f'\\nAverage test loss: {test_loss:.3f}'\n",
        "log_res += f'\\nTest accuracy: {test_accuracy:.3f}%'\n",
        "log_res += f'\\nTest F1 score: {test_f1:.3f}%'\n",
        "log_res += f'\\nTest Recall: {test_recall:.3f}%'\n",
        "log_res += f'\\nTest Precision: {test_precision:.3f}%'\n",
        "log_res += f'\\nTraining time (s): {duration:.1f}'\n",
        "log += log_res\n",
        "print(log)\n",
        "with open(f'{path}/{log_file_name}.txt', 'w') as f:\n",
        "    f.write(log)"
      ],
      "metadata": {
        "colab": {
          "base_uri": "https://localhost:8080/"
        },
        "id": "TEkdOWZvpXwR",
        "outputId": "d4b36900-30ee-4c15-ee2f-dc801cd6c63b"
      },
      "execution_count": null,
      "outputs": [
        {
          "output_type": "stream",
          "name": "stdout",
          "text": [
            "\n",
            "ANN model with Tanh activation\n",
            "Dataset: cube\n",
            "Hardware: colab T4 GPU\n",
            "Frequency channels: alpha\n",
            "All EEG channels (left and right hemispheres)\n",
            "Batch size: 100\n",
            "Optimiser: Adagrad, 5e-3\n",
            "epochs: 50\n",
            "Autocast: off\n",
            "\n",
            "Average test loss: 1.717\n",
            "Test accuracy: 46.614%\n",
            "Test F1 score: 46.611%\n",
            "Test Recall: 46.625%\n",
            "Test Precision: 46.892%\n",
            "Training time (s): 1945.1\n"
          ]
        }
      ]
    },
    {
      "cell_type": "code",
      "source": [
        "ann_results_dict[dataset][band] = log_res[1:].replace('\\n', ', ')\n",
        "with open(f'results/ann/ann_results_dict.json', 'w') as f:\n",
        "    json.dump(ann_results_dict, f, indent=4)"
      ],
      "metadata": {
        "id": "d7f0zCU_qRzK"
      },
      "execution_count": null,
      "outputs": []
    },
    {
      "cell_type": "code",
      "source": [
        "ann_results_dict"
      ],
      "metadata": {
        "colab": {
          "base_uri": "https://localhost:8080/"
        },
        "id": "CnSPxsCusWjX",
        "outputId": "5de952f1-730f-41a0-ffc4-8e8d5d77ef68"
      },
      "execution_count": null,
      "outputs": [
        {
          "output_type": "execute_result",
          "data": {
            "text/plain": [
              "{'cube': {'alpha': 'Average test loss: 1.717, Test accuracy: 46.614%, Test F1 score: 46.611%, Test Recall: 46.625%, Test Precision: 46.892%, Training time (s): 1945.1'},\n",
              " 'monalisa': {}}"
            ]
          },
          "metadata": {},
          "execution_count": 37
        }
      ]
    },
    {
      "cell_type": "markdown",
      "metadata": {
        "id": "aqC-WI8TJ_pM"
      },
      "source": [
        "SHAP explanation:"
      ]
    },
    {
      "cell_type": "code",
      "execution_count": null,
      "metadata": {
        "id": "86no2QktWQ45"
      },
      "outputs": [],
      "source": [
        "def model_predict_ANN(x):\n",
        "    x_tensor = torch.tensor(x, dtype=torch.float32).to(device)\n",
        "    with torch.no_grad():\n",
        "        preds = ANN_model(x_tensor)\n",
        "    return preds.cpu().numpy()"
      ]
    },
    {
      "cell_type": "code",
      "execution_count": null,
      "metadata": {
        "colab": {
          "base_uri": "https://localhost:8080/",
          "height": 49,
          "referenced_widgets": [
            "b58b9dc7320b4c039e94440f47383053",
            "ccff9cf2f11240d6aa4aea61f5ee022f",
            "d1bb3c75f99d4ffb9367b67672d74e13",
            "3ae9e56e09c84e8190cef0b4f493047f",
            "ebdb2eaebcb244c5aef5a04a2238d132",
            "44e98f454ea64ab1a926691f3926c594",
            "d9daa5c467f44ad9ad5bee73abf35368",
            "09c1257dc3f34c93adf8af20cfd8419a",
            "0993bc3d2c9a48b5825407c86371d610",
            "6781ca318ec9457697f91156d37c3468",
            "8870d5d659b04d8a901be55f6197eb91"
          ]
        },
        "id": "zU8BEQ3SV6zl",
        "outputId": "d645ae2a-1acb-49c8-a5bf-efff9cf8a297"
      },
      "outputs": [
        {
          "output_type": "display_data",
          "data": {
            "text/plain": [
              "  0%|          | 0/50 [00:00<?, ?it/s]"
            ],
            "application/vnd.jupyter.widget-view+json": {
              "version_major": 2,
              "version_minor": 0,
              "model_id": "b58b9dc7320b4c039e94440f47383053"
            }
          },
          "metadata": {}
        }
      ],
      "source": [
        "torch.cuda.empty_cache()\n",
        "ANN_model.eval()\n",
        "\n",
        "# Subset of the training data as background for KernelExplainer\n",
        "# K: background samples\n",
        "K = 100\n",
        "background_data = X_train_tensor[:10000].detach().cpu().numpy()\n",
        "# Kmeans 10k samples = 100 sequences\n",
        "kmeans_sklearn = KMeans(n_clusters=K, random_state=42, n_init=10) # Set random_state for reproducibility\n",
        "kmeans_sklearn.fit(background_data)\n",
        "background_data_summarised = kmeans_sklearn.cluster_centers_ # Shape: (K, n_channels)\n",
        "\n",
        "\n",
        "#More background, with less computations\n",
        "#background_data_summarised = shap.sample(background_data, nsamples=K)\n",
        "\n",
        "# KernelExplainer instance\n",
        "explainer = shap.KernelExplainer(model_predict_ANN, background_data_summarised)\n",
        "\n",
        "# Representative subset of the test set for interpretation\n",
        "num_test_samples = 50\n",
        "X_test_samples = X_test_tensor[:num_test_samples].detach().cpu().numpy()\n",
        "y_test_samples = y_test_tensor[:num_test_samples].detach().cpu().numpy()\n",
        "\n",
        "# Compute SHAP values on the test set\n",
        "# For multi-class classification, shap_values is a list (one per class)\n",
        "shap_values = explainer.shap_values(X_test_samples)"
      ]
    },
    {
      "cell_type": "code",
      "source": [
        "# 5. Feature Names\n",
        "feature_names_ann = channels.tolist()\n",
        "os.makedirs(path+'/shap_summary', exist_ok=True)\n",
        "# 6. SHAP Summary Plots per Class\n",
        "for i in range(shap_values.shape[2]):\n",
        "    fig = plt.figure(figsize=(10, 6))\n",
        "    shap.summary_plot(shap_values[:, :, i], X_test_samples, feature_names=feature_names_ann, show=False)\n",
        "    plt.title(f\"SHAP Summary Plot for Class {i}\")\n",
        "    plt.xlabel(\"SHAP value (impact on model output for Class)\")\n",
        "    plt.ylabel(\"EEG Channel\")\n",
        "    plt.tight_layout()\n",
        "    plt.savefig(f'{path}/shap_summary/{shap_fig_summary}_class{i}.png')\n",
        "    if i==0:\n",
        "        plt.show()\n",
        "    else:\n",
        "         plt.close(fig)"
      ],
      "metadata": {
        "colab": {
          "base_uri": "https://localhost:8080/",
          "height": 957
        },
        "id": "_xhhNSQzjjXJ",
        "outputId": "0aedf14e-00c3-4861-a2fe-ecdec39781b0"
      },
      "execution_count": null,
      "outputs": [
        {
          "output_type": "display_data",
          "data": {
            "text/plain": [
              "<Figure size 800x950 with 2 Axes>"
            ],
            "image/png": "[encoded data removed]"
          },
          "metadata": {}
        }
      ]
    },
    {
      "cell_type": "code",
      "source": [
        "# 7. Overall Mean Absolute SHAP Value per Channel\n",
        "mean_abs_shap_per_channel = np.mean(np.abs(shap_values), axis=(0, 2))\n",
        "sorted_indices = np.argsort(-mean_abs_shap_per_channel)\n",
        "top_n = 10\n",
        "\n",
        "print(\"\\nTop 10 important channels (overall):\")\n",
        "for i in range(top_n):\n",
        "    channel_index = sorted_indices[i]\n",
        "    channel_name = channels[channel_index]\n",
        "    importance = mean_abs_shap_per_channel[channel_index]\n",
        "    print(f\"Channel {channel_name:15} | Importance: {importance:.4f}\")\n",
        "\n",
        "# 8. (Optional) Bar Plot of Overall Feature Importance\n",
        "plt.figure(figsize=(10, 6))\n",
        "plt.bar(np.array(channels)[sorted_indices[:top_n]], mean_abs_shap_per_channel[sorted_indices[:top_n]])\n",
        "plt.xlabel(\"EEG Channel\")\n",
        "plt.ylabel(\"Mean Absolute SHAP Value (Overall)\")\n",
        "plt.title(f\"Top {top_n} Most Influential Channels (Overall)\")\n",
        "plt.xticks(rotation=45, ha=\"right\")\n",
        "plt.tight_layout()\n",
        "plt.savefig(f'{path}/{shap_fig_ch_importance}.png')\n",
        "plt.show()"
      ],
      "metadata": {
        "colab": {
          "base_uri": "https://localhost:8080/",
          "height": 815
        },
        "id": "iV_8jMha01tL",
        "outputId": "d178ef2d-eab0-4bca-f06f-e31f789325e3"
      },
      "execution_count": null,
      "outputs": [
        {
          "output_type": "stream",
          "name": "stdout",
          "text": [
            "\n",
            "Top 10 important channels (overall):\n",
            "Channel T6-A2           | Importance: 0.2164\n",
            "Channel C4-A2           | Importance: 0.1678\n",
            "Channel T4-A2           | Importance: 0.1658\n",
            "Channel Fp1-A1          | Importance: 0.1654\n",
            "Channel P3-A1           | Importance: 0.1209\n",
            "Channel Fcz-A1          | Importance: 0.1129\n",
            "Channel F7-A1           | Importance: 0.1072\n",
            "Channel Fp2-A2          | Importance: 0.0961\n",
            "Channel FC3-A1          | Importance: 0.0904\n",
            "Channel FC4-A2          | Importance: 0.0899\n"
          ]
        },
        {
          "output_type": "display_data",
          "data": {
            "text/plain": [
              "<Figure size 1000x600 with 1 Axes>"
            ],
            "image/png": "[encoded data removed]"
          },
          "metadata": {}
        }
      ]
    }
  ],
  "metadata": {
    "colab": {
      "provenance": [],
      "gpuType": "T4"
    },
    "kernelspec": {
      "display_name": "Python 3",
      "name": "python3"
    },
    "language_info": {
      "name": "python"
    },
    "accelerator": "GPU"
  },
  "nbformat": 4,
  "nbformat_minor": 0
}