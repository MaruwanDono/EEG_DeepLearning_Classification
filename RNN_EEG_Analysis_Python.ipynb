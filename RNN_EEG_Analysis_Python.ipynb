{
  "cells": [
    {
      "cell_type": "code",
      "execution_count": null,
      "metadata": {
        "id": "Wuk1SLPN593Q"
      },
      "outputs": [],
      "source": [
        "import numpy as np\n",
        "import pandas as pd\n",
        "import matplotlib.pyplot as plt\n",
        "%matplotlib inline\n",
        "import time\n",
        "import os\n",
        "from collections import defaultdict\n",
        "from copy import deepcopy\n",
        "import gdown\n",
        "import json"
      ]
    },
    {
      "cell_type": "code",
      "execution_count": null,
      "metadata": {
        "id": "MHYE7zpxzVGT"
      },
      "outputs": [],
      "source": [
        "# Torch\n",
        "import urllib\n",
        "import torch, torch.nn as nn\n",
        "import torch.nn.functional as F\n",
        "import torchvision.models\n",
        "from torchvision import transforms\n",
        "device = 'cuda' if torch.cuda.is_available() else 'cpu'"
      ]
    },
    {
      "cell_type": "markdown",
      "metadata": {
        "id": "z_4JR4O6DxU2"
      },
      "source": [
        "## EEG data"
      ]
    },
    {
      "cell_type": "markdown",
      "metadata": {
        "id": "Rkbx0jc6Dh7V"
      },
      "source": [
        "Loading the data from the reference [article](https://www.mdpi.com/2227-7390/10/15/2819):"
      ]
    },
    {
      "cell_type": "code",
      "execution_count": null,
      "metadata": {
        "id": "tvG27717BqQe"
      },
      "outputs": [],
      "source": [
        "if not os.path.exists('dataset'):\n",
        "    !wget --content-disposition 'https://figshare.com/ndownloader/files/35265655' -O 'EEG_dataset.zip'\n",
        "    !unzip -q 'EEG_dataset.zip'\n",
        "    ignore_files = ['dataset/Participant 3/Participant 1', 'dataset/Participant 3/Participant 2']\n",
        "    for path in ignore_files:\n",
        "        if os.path.exists(path):\n",
        "            !rm -rf '{path}'"
      ]
    },
    {
      "cell_type": "markdown",
      "metadata": {
        "id": "xppkt_3QDcs0"
      },
      "source": [
        "Read the data:"
      ]
    },
    {
      "cell_type": "code",
      "execution_count": null,
      "metadata": {
        "id": "kUR5gwbHk6Z2"
      },
      "outputs": [],
      "source": [
        "channels = pd.read_csv('dataset/Channels.dat', header=None, engine='python')\n",
        "channels = channels[0].apply(lambda x: x.split(' ')[1])\n",
        "columns = channels.tolist() + ['extra_1', 'extra_2', 'extra_3']\n",
        "left_channels = []\n",
        "right_channels = []"
      ]
    },
    {
      "cell_type": "code",
      "execution_count": null,
      "metadata": {
        "id": "MHbdJ-r7OctK"
      },
      "outputs": [],
      "source": [
        "from scipy.signal import butter, filtfilt, sosfiltfilt\n",
        "\n",
        "def butter_bandpass_filter(data, lowcut, highcut, fs, order=2):\n",
        "    #nyquist = 0.5 * fs  # Nyquist frequency\n",
        "    #low = lowcut / nyquist\n",
        "    #high = highcut / nyquist\n",
        "    sos = butter(N=order, Wn=[lowcut, highcut], btype='bandpass', fs=fs, output='sos')  # Design the filter\n",
        "    return sosfiltfilt(sos, data)  # Apply the filter\n",
        "\n",
        "def filter_eeg_into_bands(df, fs):\n",
        "    # Define frequency bands\n",
        "    bands = {\n",
        "        'delta': (1, 4),\n",
        "        'theta': (5, 8),\n",
        "        'alpha': (8, 12),\n",
        "        'beta': (13, 30),\n",
        "        'gamma': (31, 45)\n",
        "    }\n",
        "\n",
        "    # Initialize dictionary to store filtered data\n",
        "    filtered_dfs = {}\n",
        "\n",
        "    #Referencing\n",
        "    average_signal = df.mean(axis=1)\n",
        "    df_referenced = df.sub(average_signal, axis=0)\n",
        "\n",
        "    #Centering\n",
        "    df_centered = df_referenced - df_referenced.mean(axis=0)\n",
        "\n",
        "    # Apply bandpass filtering for each frequency band\n",
        "    for band, (lowcut, highcut) in bands.items():\n",
        "        filtered_data = butter_bandpass_filter(df_centered.values, lowcut, highcut, fs)\n",
        "        filtered_df = pd.DataFrame(filtered_data, columns=df_centered.columns)\n",
        "        filtered_dfs[band] = filtered_df\n",
        "    #filtered_dfs['raw'] = df\n",
        "    #filtered_dfs['full_centered'] = df_centered\n",
        "    return filtered_dfs"
      ]
    },
    {
      "cell_type": "code",
      "execution_count": null,
      "metadata": {
        "id": "Ag0i5XGwDcW7",
        "colab": {
          "base_uri": "https://localhost:8080/"
        },
        "outputId": "a6e8e861-9e0b-41f4-c886-556af4b5b88d"
      },
      "outputs": [
        {
          "output_type": "stream",
          "name": "stdout",
          "text": [
            "dataset/Participant 2/Figs for spectra/Backgr_int_0.6.dat\n",
            "dataset/Participant 2/Figs for spectra/Backgr_int_0.3.dat\n",
            "dataset/Participant 2/Figs for spectra/Backgr_int_0.1.dat\n",
            "dataset/Participant 2/Figs for spectra/Backgr_int_1.dat\n",
            "dataset/Participant 2/Figs for spectra/Backgr_int_0.9.dat\n",
            "dataset/Participant 2/Figs for spectra/Backgr_int_0.8.dat\n",
            "dataset/Participant 2/Figs for spectra/Backgr_int_0.4.dat\n",
            "dataset/Participant 2/Figs for spectra/Backgr_int_0.2.dat\n",
            "dataset/Participant 2/Figs for spectra/Backgr_int_0.5.dat\n",
            "dataset/Participant 2/Figs for spectra/Backgr_int_0.7.dat\n",
            "dataset/Participant 2/Cubes for spectra/Backgr_int_0.2_type_0.4.dat\n",
            "dataset/Participant 2/Cubes for spectra/Backgr_int_0.4_type_0.4.dat\n",
            "dataset/Participant 2/Cubes for spectra/Backgr_int_0.7_type_0.4.dat\n",
            "dataset/Participant 2/Cubes for spectra/Backgr_int_0.8_type_0.4.dat\n",
            "dataset/Participant 2/Cubes for spectra/Backgr_int_0.1_type_0.4.dat\n",
            "dataset/Participant 2/Cubes for spectra/Backgr_int_0.6_type_0.4.dat\n",
            "dataset/Participant 2/Cubes for spectra/Backgr_int_0.3_type_0.4.dat\n",
            "dataset/Participant 2/Cubes for spectra/Backgr_int_0.9_type_0.4.dat\n",
            "dataset/Participant 2/Cubes for spectra/Backgr_int_0.5_type_0.4.dat\n",
            "dataset/Participant 2/Cubes for spectra/Backgr_int_1_type_0.4.dat\n",
            "dataset/Participant 2/Background/Backgr_2.dat\n",
            "dataset/Participant 2/Background/Backgr_1.dat\n",
            "dataset/Participant 1/Figs for spectra/Backgr_int_0.6.dat\n",
            "dataset/Participant 1/Figs for spectra/Backgr_int_0.3.dat\n",
            "dataset/Participant 1/Figs for spectra/Backgr_int_0.1.dat\n",
            "dataset/Participant 1/Figs for spectra/Backgr_int_1.dat\n",
            "dataset/Participant 1/Figs for spectra/Backgr_int_0.9.dat\n",
            "dataset/Participant 1/Figs for spectra/Backgr_int_0.8.dat\n",
            "dataset/Participant 1/Figs for spectra/Backgr_int_0.4.dat\n",
            "dataset/Participant 1/Figs for spectra/Backgr_int_0.2.dat\n",
            "dataset/Participant 1/Figs for spectra/Backgr_int_0.5.dat\n",
            "dataset/Participant 1/Figs for spectra/Backgr_int_0.7.dat\n",
            "dataset/Participant 1/Cubes for spectra/Backgr_int_0.2_type_0.4.dat\n",
            "dataset/Participant 1/Cubes for spectra/Backgr_int_0.4_type_0.4.dat\n",
            "dataset/Participant 1/Cubes for spectra/Backgr_int_0.7_type_0.4.dat\n",
            "dataset/Participant 1/Cubes for spectra/Backgr_int_0.8_type_0.4.dat\n",
            "dataset/Participant 1/Cubes for spectra/Backgr_int_0.1_type_0.4.dat\n",
            "dataset/Participant 1/Cubes for spectra/Backgr_int_0.6_type_0.4.dat\n",
            "dataset/Participant 1/Cubes for spectra/Backgr_int_0.3_type_0.4.dat\n",
            "dataset/Participant 1/Cubes for spectra/Backgr_int_0.9_type_0.4.dat\n",
            "dataset/Participant 1/Cubes for spectra/Backgr_int_0.5_type_0.4.dat\n",
            "dataset/Participant 1/Cubes for spectra/Backgr_int_1_type_0.4.dat\n",
            "dataset/Participant 1/Background/Backgr_2.dat\n",
            "dataset/Participant 1/Background/Backgr_1.dat\n",
            "dataset/Participant 5/Figs for spectra/Backgr_int_0.6.dat\n",
            "dataset/Participant 5/Figs for spectra/Backgr_int_0.3.dat\n",
            "dataset/Participant 5/Figs for spectra/Backgr_int_0.1.dat\n",
            "dataset/Participant 5/Figs for spectra/Backgr_int_1.dat\n",
            "dataset/Participant 5/Figs for spectra/Backgr_int_0.9.dat\n",
            "dataset/Participant 5/Figs for spectra/Backgr_int_0.8.dat\n",
            "dataset/Participant 5/Figs for spectra/Backgr_int_0.4.dat\n",
            "dataset/Participant 5/Figs for spectra/Backgr_int_0.2.dat\n",
            "dataset/Participant 5/Figs for spectra/Backgr_int_0.5.dat\n",
            "dataset/Participant 5/Figs for spectra/Backgr_int_0.7.dat\n",
            "dataset/Participant 5/Cubes for spectra/Backgr_int_0.2_type_0.4.dat\n",
            "dataset/Participant 5/Cubes for spectra/Backgr_int_0.4_type_0.4.dat\n",
            "dataset/Participant 5/Cubes for spectra/Backgr_int_0.7_type_0.4.dat\n",
            "dataset/Participant 5/Cubes for spectra/Backgr_int_0.8_type_0.4.dat\n",
            "dataset/Participant 5/Cubes for spectra/Backgr_int_0.1_type_0.4.dat\n",
            "dataset/Participant 5/Cubes for spectra/Backgr_int_0.6_type_0.4.dat\n",
            "dataset/Participant 5/Cubes for spectra/Backgr_int_0.3_type_0.4.dat\n",
            "dataset/Participant 5/Cubes for spectra/Backgr_int_0.9_type_0.4.dat\n",
            "dataset/Participant 5/Cubes for spectra/Backgr_int_0.5_type_0.4.dat\n",
            "dataset/Participant 5/Cubes for spectra/Backgr_int_1_type_0.4.dat\n",
            "dataset/Participant 5/Background/Backgr_2.dat\n",
            "dataset/Participant 5/Background/Backgr_1.dat\n",
            "dataset/Participant 3/Figs for spectra/Backgr_int_0.6.dat\n",
            "dataset/Participant 3/Figs for spectra/Backgr_int_0.3.dat\n",
            "dataset/Participant 3/Figs for spectra/Backgr_int_0.1.dat\n",
            "dataset/Participant 3/Figs for spectra/Backgr_int_1.dat\n",
            "dataset/Participant 3/Figs for spectra/Backgr_int_0.9.dat\n",
            "dataset/Participant 3/Figs for spectra/Backgr_int_0.8.dat\n",
            "dataset/Participant 3/Figs for spectra/Backgr_int_0.4.dat\n",
            "dataset/Participant 3/Figs for spectra/Backgr_int_0.2.dat\n",
            "dataset/Participant 3/Figs for spectra/Backgr_int_0.5.dat\n",
            "dataset/Participant 3/Figs for spectra/Backgr_int_0.7.dat\n",
            "dataset/Participant 3/Cubes for spectra/Backgr_int_0.2_type_0.4.dat\n",
            "dataset/Participant 3/Cubes for spectra/Backgr_int_0.4_type_0.4.dat\n",
            "dataset/Participant 3/Cubes for spectra/Backgr_int_0.7_type_0.4.dat\n",
            "dataset/Participant 3/Cubes for spectra/Backgr_int_0.8_type_0.4.dat\n",
            "dataset/Participant 3/Cubes for spectra/Backgr_int_0.1_type_0.4.dat\n",
            "dataset/Participant 3/Cubes for spectra/Backgr_int_0.6_type_0.4.dat\n",
            "dataset/Participant 3/Cubes for spectra/Backgr_int_0.3_type_0.4.dat\n",
            "dataset/Participant 3/Cubes for spectra/Backgr_int_0.9_type_0.4.dat\n",
            "dataset/Participant 3/Cubes for spectra/Backgr_int_0.5_type_0.4.dat\n",
            "dataset/Participant 3/Cubes for spectra/Backgr_int_1_type_0.4.dat\n",
            "dataset/Participant 3/Background/Backgr_2.dat\n",
            "dataset/Participant 3/Background/Backgr_1.dat\n",
            "dataset/Participant 4/Figs for spectra/Backgr_int_0.6.dat\n",
            "dataset/Participant 4/Figs for spectra/Backgr_int_0.3.dat\n",
            "dataset/Participant 4/Figs for spectra/Backgr_int_0.1.dat\n",
            "dataset/Participant 4/Figs for spectra/Backgr_int_1.dat\n",
            "dataset/Participant 4/Figs for spectra/Backgr_int_0.9.dat\n",
            "dataset/Participant 4/Figs for spectra/Backgr_int_0.8.dat\n",
            "dataset/Participant 4/Figs for spectra/Backgr_int_0.4.dat\n",
            "dataset/Participant 4/Figs for spectra/Backgr_int_0.2.dat\n",
            "dataset/Participant 4/Figs for spectra/Backgr_int_0.5.dat\n",
            "dataset/Participant 4/Figs for spectra/Backgr_int_0.7.dat\n",
            "dataset/Participant 4/Cubes for spectra/Backgr_int_0.2_type_0.4.dat\n",
            "dataset/Participant 4/Cubes for spectra/Backgr_int_0.4_type_0.4.dat\n",
            "dataset/Participant 4/Cubes for spectra/Backgr_int_0.7_type_0.4.dat\n",
            "dataset/Participant 4/Cubes for spectra/Backgr_int_0.8_type_0.4.dat\n",
            "dataset/Participant 4/Cubes for spectra/Backgr_int_0.1_type_0.4.dat\n",
            "dataset/Participant 4/Cubes for spectra/Backgr_int_0.6_type_0.4.dat\n",
            "dataset/Participant 4/Cubes for spectra/Backgr_int_0.3_type_0.4.dat\n",
            "dataset/Participant 4/Cubes for spectra/Backgr_int_0.9_type_0.4.dat\n",
            "dataset/Participant 4/Cubes for spectra/Backgr_int_0.5_type_0.4.dat\n",
            "dataset/Participant 4/Cubes for spectra/Backgr_int_1_type_0.4.dat\n",
            "dataset/Participant 4/Background/Backgr_2.dat\n",
            "dataset/Participant 4/Background/Backgr_1.dat\n"
          ]
        }
      ],
      "source": [
        "datasets = defaultdict(lambda: defaultdict(dict))\n",
        "for root, dirs, files in os.walk('dataset'):\n",
        "    for file_name in files:\n",
        "        file_path = os.path.join(root, file_name)\n",
        "        try:\n",
        "            if file_name[-4:]=='.dat' and file_name!='Channels.dat':\n",
        "                folders = file_path.split('/')\n",
        "                print(file_path)\n",
        "                ds = folders[2].replace('Cubes for spectra', 'cube').replace('Figs for spectra', 'monalisa').replace('Background', 'bg')\n",
        "                participant = folders[1].split(' ')[-1]\n",
        "                f_ops = folders[-1].split('.dat')[0].split('_')\n",
        "                if len(f_ops)>2:\n",
        "                    intensity = f'{f_ops[1]}_{f_ops[2]}'\n",
        "                    I_value = float(f_ops[2])\n",
        "                else:\n",
        "                    intensity = None\n",
        "                #print(f'{ds}, {participant}, {intensity}')\n",
        "                raw_EEG_df = pd.read_csv(file_path, delimiter='   ', names=columns, header=None, engine='python')\n",
        "                #Keep only the 31 channels, ignore the last 3 (used for reference calibration)\n",
        "                raw_EEG_df = raw_EEG_df.drop(['extra_1', 'extra_2', 'extra_3'], axis=1)\n",
        "                #Filter bands\n",
        "                filtered_df_dict = filter_eeg_into_bands(raw_EEG_df, fs=250)\n",
        "                #filtered_df_dict = {'raw': raw_EEG_df}\n",
        "                if intensity:\n",
        "                    for band in filtered_df_dict:\n",
        "\n",
        "                        filtered_df_dict[band]['brightness'] = I_value\n",
        "                        #Classes from 0 to 9\n",
        "                        filtered_df_dict[band]['brightness_level'] = int(I_value*10) - 1\n",
        "\n",
        "                datasets[ds][participant][intensity] = filtered_df_dict\n",
        "\n",
        "        except Exception as e:\n",
        "                print(f'Could not read {file_path}: {e}')"
      ]
    },
    {
      "cell_type": "code",
      "execution_count": null,
      "metadata": {
        "id": "eaIZHVPRMl3t"
      },
      "outputs": [],
      "source": [
        "#datasets['cube']['2']['int_0.6']['alpha'].head()"
      ]
    },
    {
      "cell_type": "code",
      "execution_count": null,
      "metadata": {
        "id": "4zs79Zy2Iwxs"
      },
      "outputs": [],
      "source": [
        "#datasets['cube']['2']['int_0.6']['alpha'].iloc[0]"
      ]
    },
    {
      "cell_type": "markdown",
      "metadata": {
        "id": "ge1DjRLFhIbr"
      },
      "source": [
        "Now, the 2 separate datasets prepared as torch tensors:"
      ]
    },
    {
      "cell_type": "code",
      "execution_count": null,
      "metadata": {
        "id": "mGP6DRAGhWTC"
      },
      "outputs": [],
      "source": [
        "def prepare_datasets(datasets=datasets):\n",
        "    contrasts = [0.1,  0.2,  0.3,  0.4,  0.5,  0.6,  0.7,  0.8,  0.9,  1]\n",
        "    bands = {\n",
        "        'delta': (1, 4),\n",
        "        'theta': (5, 8),\n",
        "        'alpha': (8, 12),\n",
        "        'beta': (13, 30),\n",
        "        'gamma': (31, 45),\n",
        "        #'raw': None,\n",
        "        #'full_centered': None\n",
        "    }\n",
        "    X_data = {'cube':{}, 'monalisa':{}}\n",
        "    y_data = {'cube':{}, 'monalisa':{}}\n",
        "    trial_sizes =  {'cube':[], 'monalisa':[]}\n",
        "\n",
        "    for ds_name in ['cube', 'monalisa']:\n",
        "        for participant in range(1,6):\n",
        "            for I in contrasts:\n",
        "                for band in bands:\n",
        "                    df_ =  datasets[ds_name][str(participant)][f'int_{str(I)}'][band]\n",
        "                    data_ts = torch.tensor(df_.values).to(device)\n",
        "                    if band not in X_data[ds_name]:\n",
        "                        X_data[ds_name][band] = data_ts[:, :-2]\n",
        "                        y_data[ds_name][band] = data_ts[:, -1].to(torch.int64)\n",
        "                    else:\n",
        "                        X_data[ds_name][band] = torch.vstack((X_data[ds_name][band], data_ts[:, :-2]))\n",
        "                        y_data[ds_name][band] = torch.cat((y_data[ds_name][band], data_ts[: ,-1].to(torch.int64)))\n",
        "                #Add sizes of each experimental data stacked, all bands should have the same n_points for a given experiment\n",
        "                trial_sizes[ds_name].append(data_ts.shape[0])\n",
        "\n",
        "    return X_data, y_data, trial_sizes"
      ]
    },
    {
      "cell_type": "code",
      "execution_count": null,
      "metadata": {
        "id": "mK4zUpREqsl3"
      },
      "outputs": [],
      "source": [
        "X_data, y_data, trial_sizes = prepare_datasets()"
      ]
    },
    {
      "cell_type": "markdown",
      "metadata": {
        "id": "4nEshDpso5Z9"
      },
      "source": [
        "One participant data:"
      ]
    },
    {
      "cell_type": "code",
      "execution_count": null,
      "metadata": {
        "id": "GSjPIfsfcCMu"
      },
      "outputs": [],
      "source": [
        "def SingleSubjectData(ds_name, participant):\n",
        "    contrasts = [0.1,  0.2,  0.3,  0.4,  0.5,  0.6,  0.7,  0.8,  0.9,  1]\n",
        "    bands = {\n",
        "        'delta': (1, 4),\n",
        "        'theta': (5, 8),\n",
        "        'alpha': (8, 12),\n",
        "        'beta': (13, 30),\n",
        "        'gamma': (31, 45),\n",
        "        #'raw': None,\n",
        "        #'full_centered': None\n",
        "    }\n",
        "\n",
        "    X_data_k = {}\n",
        "    y_data_k = {}\n",
        "    for I in contrasts:\n",
        "        for band in bands:\n",
        "            df_ =  datasets[ds_name][str(participant)][f'int_{str(I)}'][band]\n",
        "            data_ts = torch.tensor(df_.values).to(device)\n",
        "            if band not in X_data_k:\n",
        "                X_data_k[band] = data_ts[:, :-2]\n",
        "                y_data_k[band] = data_ts[:, -1].to(torch.int64)\n",
        "            else:\n",
        "                X_data_k[band] = torch.vstack((X_data_k[band], data_ts[:, :-2]))\n",
        "                y_data_k[band] = torch.cat((y_data_k[band], data_ts[: ,-1].to(torch.int64)))\n",
        "    return X_data_k, y_data_k"
      ]
    },
    {
      "cell_type": "code",
      "execution_count": null,
      "metadata": {
        "id": "xD8esqEOeFZ6"
      },
      "outputs": [],
      "source": [
        "#X_data_k, y_data_k = SingleSubjectData(ds_name = 'monalisa', participant = 5)\n",
        "#X = X_data_k['gamma'].to(torch.float32)\n",
        "#y = y_data_k['gamma'].to(torch.float32)"
      ]
    },
    {
      "cell_type": "markdown",
      "metadata": {
        "id": "q_pXfZ-7LbOe"
      },
      "source": [
        "Shuffling on batch level to keep the temporal order of each data intact:"
      ]
    },
    {
      "cell_type": "code",
      "execution_count": null,
      "metadata": {
        "id": "K2skY_stKJUQ"
      },
      "outputs": [],
      "source": [
        "def shuffle_batches(X, y, sequence_size, trials):\n",
        "    \"\"\"\n",
        "    Divides X and y (numpy arrays) into batches of length batch_size,\n",
        "    Shuffles the order of the batches while preserving temporal order of EEG temporal points,\n",
        "    Reassembles the arrays.\n",
        "    \"\"\"\n",
        "    batches_X = []\n",
        "    batches_y = []\n",
        "    trial_boundaries = [0]\n",
        "    S_remainder = 0\n",
        "    #cumulative sizes of successive trials\n",
        "    for size in trials:\n",
        "        trial_boundaries.append(trial_boundaries[-1] + size)\n",
        "\n",
        "    # Process each trial\n",
        "    for i in range(len(trial_boundaries) - 1):\n",
        "        start = trial_boundaries[i]\n",
        "        end = trial_boundaries[i+1]\n",
        "        trial_X = X[start:end]\n",
        "        trial_y = y[start:end]\n",
        "\n",
        "        n = trial_X.shape[0]\n",
        "        num_full_batches = n // sequence_size\n",
        "        remainder = n % sequence_size\n",
        "        S_remainder += remainder\n",
        "        # Create full batches from this trial\n",
        "        for j in range(num_full_batches):\n",
        "            batch_X = trial_X[j * sequence_size : (j+1) * sequence_size]\n",
        "            batch_y = trial_y[j * sequence_size : (j+1) * sequence_size]\n",
        "            batches_X.append(batch_X)\n",
        "            batches_y.append(batch_y)\n",
        "\n",
        "        #Add the leftover data from the trial as its own batch (if any)\n",
        "        #if remainder > 0:\n",
        "        #    batches_X.append(trial_X[-remainder:])\n",
        "        #    batches_y.append(trial_y[-remainder:])\n",
        "        # The remainder is ignored to not mess up the temporal order after shuffling\n",
        "\n",
        "    # Shuffle the list of batches\n",
        "    indices = np.arange(len(batches_X))\n",
        "    np.random.shuffle(indices)\n",
        "    X_shuffled = np.concatenate([batches_X[i] for i in indices], axis=0)\n",
        "    y_shuffled = np.concatenate([batches_y[i] for i in indices], axis=0)\n",
        "\n",
        "    return X_shuffled, y_shuffled, S_remainder"
      ]
    },
    {
      "cell_type": "markdown",
      "metadata": {
        "id": "dhbJ7hNwD3qz"
      },
      "source": [
        "## DL Models"
      ]
    },
    {
      "cell_type": "markdown",
      "metadata": {
        "id": "-hL5CtKNz_hZ"
      },
      "source": [
        "Importing `SHAP` library:"
      ]
    },
    {
      "cell_type": "code",
      "execution_count": null,
      "metadata": {
        "id": "970oB1qzD7mK",
        "colab": {
          "base_uri": "https://localhost:8080/"
        },
        "outputId": "25616971-6fdd-4687-f510-448445beaad3"
      },
      "outputs": [
        {
          "output_type": "stream",
          "name": "stdout",
          "text": [
            "Requirement already satisfied: shap in /usr/local/lib/python3.11/dist-packages (0.47.2)\n",
            "Requirement already satisfied: numpy in /usr/local/lib/python3.11/dist-packages (from shap) (2.0.2)\n",
            "Requirement already satisfied: scipy in /usr/local/lib/python3.11/dist-packages (from shap) (1.15.2)\n",
            "Requirement already satisfied: scikit-learn in /usr/local/lib/python3.11/dist-packages (from shap) (1.6.1)\n",
            "Requirement already satisfied: pandas in /usr/local/lib/python3.11/dist-packages (from shap) (2.2.2)\n",
            "Requirement already satisfied: tqdm>=4.27.0 in /usr/local/lib/python3.11/dist-packages (from shap) (4.67.1)\n",
            "Requirement already satisfied: packaging>20.9 in /usr/local/lib/python3.11/dist-packages (from shap) (24.2)\n",
            "Requirement already satisfied: slicer==0.0.8 in /usr/local/lib/python3.11/dist-packages (from shap) (0.0.8)\n",
            "Requirement already satisfied: numba>=0.54 in /usr/local/lib/python3.11/dist-packages (from shap) (0.60.0)\n",
            "Requirement already satisfied: cloudpickle in /usr/local/lib/python3.11/dist-packages (from shap) (3.1.1)\n",
            "Requirement already satisfied: typing-extensions in /usr/local/lib/python3.11/dist-packages (from shap) (4.13.2)\n",
            "Requirement already satisfied: llvmlite<0.44,>=0.43.0dev0 in /usr/local/lib/python3.11/dist-packages (from numba>=0.54->shap) (0.43.0)\n",
            "Requirement already satisfied: python-dateutil>=2.8.2 in /usr/local/lib/python3.11/dist-packages (from pandas->shap) (2.9.0.post0)\n",
            "Requirement already satisfied: pytz>=2020.1 in /usr/local/lib/python3.11/dist-packages (from pandas->shap) (2025.2)\n",
            "Requirement already satisfied: tzdata>=2022.7 in /usr/local/lib/python3.11/dist-packages (from pandas->shap) (2025.2)\n",
            "Requirement already satisfied: joblib>=1.2.0 in /usr/local/lib/python3.11/dist-packages (from scikit-learn->shap) (1.4.2)\n",
            "Requirement already satisfied: threadpoolctl>=3.1.0 in /usr/local/lib/python3.11/dist-packages (from scikit-learn->shap) (3.6.0)\n",
            "Requirement already satisfied: six>=1.5 in /usr/local/lib/python3.11/dist-packages (from python-dateutil>=2.8.2->pandas->shap) (1.17.0)\n"
          ]
        }
      ],
      "source": [
        "!pip install shap\n",
        "import shap"
      ]
    },
    {
      "cell_type": "code",
      "execution_count": null,
      "metadata": {
        "id": "_QtH6Oup-OZd"
      },
      "outputs": [],
      "source": [
        "# Load what is needed\n",
        "from sklearn.metrics import f1_score, recall_score, precision_score, classification_report, confusion_matrix\n",
        "from torch.utils.data import DataLoader, TensorDataset\n",
        "from sklearn.model_selection import train_test_split\n",
        "from sklearn.cluster import KMeans\n",
        "from torch.amp import GradScaler, autocast\n",
        "from torch.optim.lr_scheduler import MultiStepLR\n",
        "from tqdm import tqdm\n",
        "import time\n",
        "import seaborn as sns"
      ]
    },
    {
      "cell_type": "markdown",
      "metadata": {
        "id": "Cs5AM0qxPG2i"
      },
      "source": [
        "Define save/load functions to avoid repeated training:"
      ]
    },
    {
      "cell_type": "code",
      "execution_count": null,
      "metadata": {
        "id": "Kw2ZPeiCPMrJ"
      },
      "outputs": [],
      "source": [
        "def save_model(model, model_path):\n",
        "    torch.save(model.state_dict(), model_path)"
      ]
    },
    {
      "cell_type": "code",
      "execution_count": null,
      "metadata": {
        "id": "4EKxiglmPTeY"
      },
      "outputs": [],
      "source": [
        "def load_model(model, model_path):\n",
        "    model_dict = torch.load(model_path, weights_only=True, map_location=torch.device(device))\n",
        "    model.load_state_dict(model_dict)"
      ]
    },
    {
      "cell_type": "markdown",
      "source": [
        "Log all session results to collect it easier later:"
      ],
      "metadata": {
        "id": "1kl6ijzZkU9o"
      }
    },
    {
      "cell_type": "code",
      "source": [
        "ann_results_dict = {'cube':{}, 'monalisa':{}}\n",
        "rnn_results_dict = {'cube':{}, 'monalisa':{}}"
      ],
      "metadata": {
        "id": "1dSyogy-kfN0"
      },
      "execution_count": null,
      "outputs": []
    },
    {
      "cell_type": "code",
      "execution_count": null,
      "metadata": {
        "id": "4g1RhDr78S6N"
      },
      "outputs": [],
      "source": [
        "# Run preliminary cells from here"
      ]
    },
    {
      "cell_type": "code",
      "source": [
        "#!zip -r results_h_rnn_cube_delta.zip results"
      ],
      "metadata": {
        "id": "RWKE_XuTL5o8"
      },
      "execution_count": null,
      "outputs": []
    },
    {
      "cell_type": "markdown",
      "metadata": {
        "id": "XaBkzQU-ORUf"
      },
      "source": [
        "### RNN"
      ]
    },
    {
      "cell_type": "markdown",
      "metadata": {
        "id": "qVo6_j-eOVI0"
      },
      "source": [
        "Previous ANN accuracy results:"
      ]
    },
    {
      "cell_type": "code",
      "execution_count": null,
      "metadata": {
        "id": "OTaQS7QmOZxM"
      },
      "outputs": [],
      "source": [
        "prev_acc = {\n",
        "    'delta':  {'monalisa': 0.321, 'cube': 0.325},\n",
        "    'theta':  {'monalisa': 0.493, 'cube': 0.444},\n",
        "    'alpha':  {'monalisa': 0.521, 'cube': 0.487},\n",
        "    'beta':   {'monalisa': 0.645, 'cube': 0.632},\n",
        "    'gamma':  {'monalisa': 0.632, 'cube': 0.631}\n",
        "}"
      ]
    },
    {
      "cell_type": "markdown",
      "metadata": {
        "id": "8PYpO4jXKkq-"
      },
      "source": [
        "The data would need a different structuring to match the RNN shape: `  (batch_size, sequence_length, n_features)`"
      ]
    },
    {
      "cell_type": "code",
      "source": [
        "torch.cuda.empty_cache()"
      ],
      "metadata": {
        "id": "YRtsQxchMAsW"
      },
      "execution_count": null,
      "outputs": []
    },
    {
      "cell_type": "code",
      "source": [
        "dataset = 'monalisa'\n",
        "band = 'gamma'\n",
        "X = X_data[dataset][band].to(torch.float32)\n",
        "y = y_data[dataset][band].to(torch.float32)\n",
        "assert len(trial_sizes[dataset]) == 50\n",
        "assert sum(trial_sizes[dataset]) == X.shape[0]"
      ],
      "metadata": {
        "id": "BEpWkn5B9Kf6"
      },
      "execution_count": null,
      "outputs": []
    },
    {
      "cell_type": "code",
      "execution_count": null,
      "metadata": {
        "id": "CesZ_ER8LARR"
      },
      "outputs": [],
      "source": [
        "# Input options\n",
        "n_channels = 31\n",
        "sequence_length = 100\n",
        "batch_size = 32\n",
        "# Output options\n",
        "n_classes = 10\n",
        "\n",
        "# Special Random Shuffle that preserves local temporal order\n",
        "X_shuffled, y_shuffled, S_remainder = shuffle_batches(X.cpu().numpy(), y.cpu().numpy(), sequence_length, trials = trial_sizes[dataset])\n",
        "# Reshape for the RNN\n",
        "X_shuffled = X_shuffled.reshape(-1, sequence_length, n_channels)\n",
        "y_shuffled = y_shuffled.reshape(-1, sequence_length)\n",
        "# 1 prediction for every sequence to simplify, since the sequences belong to one brightness class\n",
        "y_shuffled = y_shuffled[:, -1]\n",
        "\n",
        "# Split: No need to worry about order in the first dimension anymore, since its saved in the second\n",
        "X_train, X_temp, y_train, y_temp = train_test_split(X_shuffled, y_shuffled, test_size=0.2, random_state=42, shuffle=False)\n",
        "X_val, X_test, y_val, y_test = train_test_split(X_temp, y_temp, test_size=0.5, random_state=42, shuffle=False)\n",
        "\n",
        "# Make tensors\n",
        "X_train_tensor = torch.tensor(X_train, dtype=torch.float32).to(device)\n",
        "X_val_tensor   = torch.tensor(X_val, dtype=torch.float32).to(device)\n",
        "X_test_tensor  = torch.tensor(X_test, dtype=torch.float32).to(device)\n",
        "y_train_tensor = torch.tensor(y_train, dtype=torch.int64).to(device)\n",
        "y_val_tensor   = torch.tensor(y_val, dtype=torch.int64).to(device)\n",
        "y_test_tensor  = torch.tensor(y_test, dtype=torch.int64).to(device)\n",
        "\n",
        "# Make dataset\n",
        "train_dataset = TensorDataset(X_train_tensor, y_train_tensor)\n",
        "val_dataset   = TensorDataset(X_val_tensor, y_val_tensor)\n",
        "test_dataset  = TensorDataset(X_test_tensor, y_test_tensor)\n",
        "\n",
        "# Make data loaders\n",
        "train_loader = DataLoader(train_dataset, batch_size=batch_size, shuffle=True)\n",
        "val_loader   = DataLoader(val_dataset, batch_size=batch_size, shuffle=False)\n",
        "test_loader  = DataLoader(test_dataset, batch_size=batch_size, shuffle=False)"
      ]
    },
    {
      "cell_type": "code",
      "execution_count": null,
      "metadata": {
        "id": "gNxKsXu7v3CZ"
      },
      "outputs": [],
      "source": [
        "#Simple tests to check if the Shuffling is done right\n",
        "assert X_shuffled.shape[0]*sequence_length + S_remainder == X.shape[0]\n",
        "assert y_shuffled.shape[0]*sequence_length + S_remainder == y.shape[0]\n",
        "#Check the splitting\n",
        "assert X_shuffled.shape[0] == X_train_tensor.shape[0] + X_val_tensor.shape[0] + X_test_tensor.shape[0]\n",
        "assert y_shuffled.shape[0] == y_train_tensor.shape[0] + y_val_tensor.shape[0] + y_test_tensor.shape[0]"
      ]
    },
    {
      "cell_type": "code",
      "execution_count": null,
      "metadata": {
        "colab": {
          "base_uri": "https://localhost:8080/"
        },
        "id": "xIYOunETEShp",
        "outputId": "f4985d08-94fe-4ac2-cdf8-4589226ec698"
      },
      "outputs": [
        {
          "output_type": "execute_result",
          "data": {
            "text/plain": [
              "((6000, 100, 31), (6000,))"
            ]
          },
          "metadata": {},
          "execution_count": 26
        }
      ],
      "source": [
        "X_train.shape, y_train.shape"
      ]
    },
    {
      "cell_type": "markdown",
      "metadata": {
        "id": "43pysPADLFIW"
      },
      "source": [
        "Define the model architecture:"
      ]
    },
    {
      "cell_type": "code",
      "execution_count": null,
      "metadata": {
        "id": "58rUP1oZUu30"
      },
      "outputs": [],
      "source": [
        "class MultiHeadAttention(nn.Module):\n",
        "    def __init__(self, embed_dim, num_heads=1, dropout=0.3):\n",
        "        super(MultiHeadAttention, self).__init__()\n",
        "        assert embed_dim % num_heads == 0, \"embed_dim must be divisible by num_heads\"\n",
        "        self.embed_dim = embed_dim\n",
        "        self.num_heads = num_heads\n",
        "        self.dim_per_head = embed_dim // num_heads\n",
        "\n",
        "        # Linear projections for query, key, and value.\n",
        "        self.q_linear = nn.Linear(embed_dim, embed_dim)\n",
        "        self.k_linear = nn.Linear(embed_dim, embed_dim)\n",
        "        self.v_linear = nn.Linear(embed_dim, embed_dim)\n",
        "\n",
        "        # Final linear projection after combining heads.\n",
        "        self.out_linear = nn.Linear(embed_dim, embed_dim)\n",
        "        self.dropout = nn.Dropout(dropout)\n",
        "\n",
        "    def forward(self, x):\n",
        "        \"\"\"\n",
        "        Args:\n",
        "            x: input tensor of shape (batch_size, seq_length, embed_dim)\n",
        "        Returns:\n",
        "            A tensor of shape (batch_size, seq_length, embed_dim) after applying multi-head self-attention.\n",
        "        \"\"\"\n",
        "        B, T, _ = x.shape\n",
        "\n",
        "        # Linear projections\n",
        "        Q = self.q_linear(x)  # (B, T, embed_dim)\n",
        "        K = self.k_linear(x)  # (B, T, embed_dim)\n",
        "        V = self.v_linear(x)  # (B, T, embed_dim)\n",
        "\n",
        "        # Reshape for multiple heads: (B, T, num_heads, dim_per_head)\n",
        "        # and then transpose to shape (B, num_heads, T, dim_per_head)\n",
        "        Q = Q.view(B, T, self.num_heads, self.dim_per_head).transpose(1, 2)\n",
        "        K = K.view(B, T, self.num_heads, self.dim_per_head).transpose(1, 2)\n",
        "        V = V.view(B, T, self.num_heads, self.dim_per_head).transpose(1, 2)\n",
        "\n",
        "        # Scaled dot-product attention.\n",
        "        scores = torch.matmul(Q, K.transpose(-2, -1)) / self.dim_per_head**0.5\n",
        "        attn_weights = F.softmax(scores, dim=-1)  # (B, num_heads, T, T)\n",
        "        attn_output = torch.matmul(attn_weights, V)  # (B, num_heads, T, dim_per_head)\n",
        "\n",
        "        # Combine heads: transpose and reshape to (B, T, embed_dim)\n",
        "        attn_output = attn_output.transpose(1, 2).contiguous().view(B, T, self.embed_dim)\n",
        "\n",
        "        # Final linear projection and dropout.\n",
        "        attn_output = self.out_linear(attn_output)\n",
        "        attn_output = self.dropout(attn_output)\n",
        "\n",
        "        return attn_output"
      ]
    },
    {
      "cell_type": "code",
      "execution_count": null,
      "metadata": {
        "id": "-lnRSLrS4kWP"
      },
      "outputs": [],
      "source": [
        "class EEG_RNN(nn.Module):\n",
        "    def __init__(self, input_shape, n_classes, rnn_layers = (128, 256, 128), bidirectional=True):\n",
        "        super(EEG_RNN, self).__init__()\n",
        "        batch_size, sequence_length, num_channels = input_shape\n",
        "        h_conv1 = 128\n",
        "        h_size_1, h_size_2, h_size_3 = rnn_layers\n",
        "        dirs = (2 if bidirectional else 1)\n",
        "\n",
        "        # CNN front layer\n",
        "        self.conv1    = nn.Conv1d(in_channels=num_channels, out_channels=h_conv1, kernel_size=3, padding=1)\n",
        "        self.bn_conv  = nn.BatchNorm1d(h_conv1)\n",
        "        self.dropout0 = nn.Dropout(0.2)\n",
        "\n",
        "        # Hidden layers\n",
        "        #RNN 1\n",
        "        self.h1 = nn.LSTM(input_size=h_conv1,\n",
        "                          hidden_size=h_size_1,\n",
        "                          num_layers=1,\n",
        "                          batch_first=True,\n",
        "                          bidirectional=bidirectional) # First layer\n",
        "        self.ln1 = nn.LayerNorm(h_size_1*dirs)\n",
        "        self.dropout1 = nn.Dropout(0.3)\n",
        "        # RNN 2\n",
        "        self.h2 = nn.LSTM(input_size=h_size_1*dirs,\n",
        "                          hidden_size=h_size_2,\n",
        "                          num_layers=1,\n",
        "                          batch_first=True,\n",
        "                          bidirectional=bidirectional) # 2nd  layer\n",
        "        self.ln2 = nn.LayerNorm(h_size_2*dirs)\n",
        "        self.dropout2 = nn.Dropout(0.3)\n",
        "        # RNN 3\n",
        "        self.h3 = nn.LSTM(input_size=h_size_2*dirs,\n",
        "                          hidden_size=h_size_3,\n",
        "                          num_layers=1,\n",
        "                          batch_first=True,\n",
        "                          bidirectional=bidirectional) # 3rd layer\n",
        "        self.ln3 = nn.LayerNorm(h_size_3*dirs)\n",
        "        self.dropout3 = nn.Dropout(0.3)\n",
        "\n",
        "        # Attention\n",
        "        self.attn = nn.Linear(h_size_3*dirs, 1)\n",
        "        self.attn_multi = MultiHeadAttention(embed_dim=h_size_3*dirs, num_heads=16, dropout=0.2)\n",
        "\n",
        "        # Output fc layer(s)\n",
        "        self.fc_out = nn.Linear(h_size_3*dirs, n_classes)\n",
        "\n",
        "        # Activation functions\n",
        "        self.tanh = nn.Tanh()\n",
        "        self.relu = nn.ReLU()\n",
        "        self.softmax = nn.Softmax(dim=1)\n",
        "\n",
        "\n",
        "    def forward(self, x):\n",
        "        # x: (batch_size, sequence_length, n_channels)\n",
        "        # Initial CNN layer\n",
        "        x = x.permute(0, 2, 1)               # -> (batch, n_channels, seq_len)\n",
        "        x = self.conv1(x)                   # -> (batch, h_conv1, seq_len)\n",
        "        x = self.bn_conv(x)\n",
        "        x = self.tanh(x)\n",
        "        x = self.dropout0(x)\n",
        "        x = x.permute(0, 2, 1)\n",
        "\n",
        "        # Pass through hidden layers with tanh activation\n",
        "        output, _ = self.h1(x) # output: (batch_size, sequence_length, hidden_size_1*dirs)\n",
        "        x = self.ln1(output)\n",
        "        x = self.tanh(x)\n",
        "        x = self.dropout1(x)\n",
        "\n",
        "        output, _ = self.h2(x) # output: (batch_size, sequence_length, hidden_size_2*dirs)\n",
        "        x = self.ln2(output)\n",
        "        x = self.tanh(x)\n",
        "        x = self.dropout2(x)\n",
        "\n",
        "        output, _ = self.h3(x) # output: (batch_size, sequence_length, hidden_size_3*dirs)\n",
        "        x = self.ln3(output)\n",
        "        x = self.tanh(x)\n",
        "        x = self.dropout3(x)\n",
        "\n",
        "\n",
        "        attn_output = self.attn_multi(x)  #(B, T, embed_dim=hidden_size_3*dirs)\n",
        "        # Pooling over time, for example with mean pooling.\n",
        "        v = attn_output.mean(dim=1)\n",
        "\n",
        "        # Final fc layer(s)\n",
        "        #x = torch.flatten(v, start_dim=1)  # Shape: (batch_size*hidden_size)\n",
        "        #v = self.tanh(self.fc1(v))\n",
        "        x = self.fc_out(v)\n",
        "        return x"
      ]
    },
    {
      "cell_type": "code",
      "execution_count": null,
      "metadata": {
        "id": "UriRgp2W3kxY"
      },
      "outputs": [],
      "source": [
        "RNN_model = EEG_RNN((batch_size, sequence_length, n_channels), n_classes).to(device)\n",
        "#RNN_model = EEG_CRNN(n_channels, n_classes).to(device)\n",
        "loss_fct = nn.CrossEntropyLoss()\n",
        "scaler = GradScaler()\n",
        "optimizer = torch.optim.RMSprop(RNN_model.parameters(), lr=1e-4)\n",
        "scheduler = MultiStepLR(optimizer, milestones=[35, 40], gamma=0.5)\n",
        "epochs = 50\n",
        "loss_threshold = 1e-2"
      ]
    },
    {
      "cell_type": "markdown",
      "metadata": {
        "id": "neXN4mXkHs3b"
      },
      "source": [
        "Note: change autocast back to float16, didnt work with LSTM"
      ]
    },
    {
      "cell_type": "code",
      "execution_count": null,
      "metadata": {
        "id": "uhX45D_k3yGU"
      },
      "outputs": [],
      "source": [
        "def model_train():\n",
        "    train_losses, train_accuracies = [], []\n",
        "    val_losses, val_accuracies = [], []\n",
        "    duration = time.time()\n",
        "\n",
        "    for epoch in range(epochs):\n",
        "        print(f\"Epoch {epoch + 1}/{epochs}\")\n",
        "\n",
        "        #Training\n",
        "        RNN_model.train()\n",
        "        epoch_train_loss = 0.0\n",
        "        correct_predictions = 0\n",
        "        total_predictions = 0\n",
        "        progress_bar = tqdm(train_loader, desc=\"Training\", disable=False)\n",
        "        for X_batch, y_batch in progress_bar:\n",
        "            optimizer.zero_grad()\n",
        "\n",
        "            # Forward pass with mixed precision\n",
        "            #Use autocast with the new model\n",
        "            #with autocast(device_type=torch.device(device).type, dtype=torch.float16, enabled=False):\n",
        "            if True:\n",
        "                output = RNN_model(X_batch)\n",
        "                #print(torch.argmax(output, dim=1))\n",
        "                loss = loss_fct(output, y_batch)\n",
        "                epoch_train_loss += loss.item()\n",
        "\n",
        "                #Calculate accuracy\n",
        "                _, predicted = torch.max(output, 1)\n",
        "                correct_predictions += (predicted == y_batch).sum().item()\n",
        "                total_predictions += y_batch.size(0)\n",
        "\n",
        "\n",
        "            # Backward pass and optimization with scaler\n",
        "            #scaler.scale(loss).backward()\n",
        "            #nn.utils.clip_grad_norm_(RNN_model.parameters(), max_norm=1.0)\n",
        "            #scaler.step(optimizer)\n",
        "            #scaler.update()\n",
        "\n",
        "            # Regular backward pass\n",
        "            loss.backward()\n",
        "            nn.utils.clip_grad_norm_(RNN_model.parameters(), max_norm=1.0)\n",
        "            optimizer.step()\n",
        "\n",
        "            #Free up some memory\n",
        "            #del output\n",
        "            #torch.cuda.empty_cache()\n",
        "\n",
        "            #Update progress bar\n",
        "            progress_bar.set_postfix(loss=loss.item())\n",
        "        # Training stats\n",
        "        train_loss = epoch_train_loss/len(train_loader)\n",
        "        accuracy = 100*correct_predictions/total_predictions\n",
        "        train_losses.append(train_loss)\n",
        "        train_accuracies.append(accuracy)\n",
        "        print(f'Average epoch training loss: {train_loss:.3f}')\n",
        "        print(f'Training accuracy: {accuracy:.3f}%')\n",
        "\n",
        "\n",
        "        #Validation\n",
        "        RNN_model.eval()\n",
        "        epoch_val_loss = 0.0\n",
        "        correct_predictions = 0\n",
        "        total_predictions = 0\n",
        "        progress_bar = tqdm(val_loader, desc=\"Validation\")\n",
        "        for X_batch, y_batch in progress_bar:\n",
        "            #with autocast(device_type=torch.device(device).type, dtype=torch.float16, enabled=False):\n",
        "            if True:\n",
        "                output = RNN_model(X_batch)\n",
        "                loss = loss_fct(output, y_batch)\n",
        "                epoch_val_loss += loss.item()\n",
        "\n",
        "                #Calculate accuracy\n",
        "                _, predicted = torch.max(output, 1)\n",
        "                correct_predictions += (predicted == y_batch).sum().item()\n",
        "                total_predictions += y_batch.size(0)\n",
        "\n",
        "            # Update progress bar\n",
        "            progress_bar.set_postfix(val_loss=loss.item())\n",
        "        # Validation stats\n",
        "        val_loss = epoch_val_loss/len(val_loader)\n",
        "        accuracy = 100*correct_predictions/total_predictions\n",
        "        val_losses.append(val_loss)\n",
        "        val_accuracies.append(accuracy)\n",
        "        print(f'Average epoch validation loss: {val_loss:.3f}')\n",
        "        print(f'Validation accuracy: {accuracy:.3f}% \\n')\n",
        "\n",
        "        #Scheduler\n",
        "        scheduler.step()\n",
        "\n",
        "        #Loss condition\n",
        "        if val_loss <= loss_threshold or accuracy > 99.9:\n",
        "            break\n",
        "\n",
        "\n",
        "    duration = time.time() - duration\n",
        "    print(f'RNN training and validation time (s): {duration:.1f}')\n",
        "\n",
        "    return train_losses, train_accuracies, val_losses, val_accuracies, duration"
      ]
    },
    {
      "cell_type": "code",
      "source": [
        "train_losses, train_accuracies, val_losses, val_accuracies, duration = model_train()"
      ],
      "metadata": {
        "colab": {
          "base_uri": "https://localhost:8080/"
        },
        "id": "WLW-0_8sO3MR",
        "outputId": "6c53fd1e-3be2-4d66-8026-42da430e963c"
      },
      "execution_count": null,
      "outputs": [
        {
          "output_type": "stream",
          "name": "stdout",
          "text": [
            "Epoch 1/50\n"
          ]
        },
        {
          "output_type": "stream",
          "name": "stderr",
          "text": [
            "Training: 100%|██████████| 188/188 [00:05<00:00, 32.14it/s, loss=2.12]\n"
          ]
        },
        {
          "output_type": "stream",
          "name": "stdout",
          "text": [
            "Average epoch training loss: 2.243\n",
            "Training accuracy: 16.750%\n"
          ]
        },
        {
          "output_type": "stream",
          "name": "stderr",
          "text": [
            "Validation: 100%|██████████| 24/24 [00:00<00:00, 105.00it/s, val_loss=2.15]\n"
          ]
        },
        {
          "output_type": "stream",
          "name": "stdout",
          "text": [
            "Average epoch validation loss: 2.157\n",
            "Validation accuracy: 20.533% \n",
            "\n",
            "Epoch 2/50\n"
          ]
        },
        {
          "output_type": "stream",
          "name": "stderr",
          "text": [
            "Training: 100%|██████████| 188/188 [00:04<00:00, 42.41it/s, loss=2.32]\n"
          ]
        },
        {
          "output_type": "stream",
          "name": "stdout",
          "text": [
            "Average epoch training loss: 2.136\n",
            "Training accuracy: 23.050%\n"
          ]
        },
        {
          "output_type": "stream",
          "name": "stderr",
          "text": [
            "Validation: 100%|██████████| 24/24 [00:00<00:00, 110.61it/s, val_loss=1.99]\n"
          ]
        },
        {
          "output_type": "stream",
          "name": "stdout",
          "text": [
            "Average epoch validation loss: 2.048\n",
            "Validation accuracy: 27.467% \n",
            "\n",
            "Epoch 3/50\n"
          ]
        },
        {
          "output_type": "stream",
          "name": "stderr",
          "text": [
            "Training: 100%|██████████| 188/188 [00:04<00:00, 42.55it/s, loss=2.08]\n"
          ]
        },
        {
          "output_type": "stream",
          "name": "stdout",
          "text": [
            "Average epoch training loss: 2.058\n",
            "Training accuracy: 26.383%\n"
          ]
        },
        {
          "output_type": "stream",
          "name": "stderr",
          "text": [
            "Validation: 100%|██████████| 24/24 [00:00<00:00, 110.15it/s, val_loss=1.8]\n"
          ]
        },
        {
          "output_type": "stream",
          "name": "stdout",
          "text": [
            "Average epoch validation loss: 1.949\n",
            "Validation accuracy: 32.533% \n",
            "\n",
            "Epoch 4/50\n"
          ]
        },
        {
          "output_type": "stream",
          "name": "stderr",
          "text": [
            "Training: 100%|██████████| 188/188 [00:04<00:00, 42.39it/s, loss=2.07]\n"
          ]
        },
        {
          "output_type": "stream",
          "name": "stdout",
          "text": [
            "Average epoch training loss: 1.980\n",
            "Training accuracy: 29.900%\n"
          ]
        },
        {
          "output_type": "stream",
          "name": "stderr",
          "text": [
            "Validation: 100%|██████████| 24/24 [00:00<00:00, 105.84it/s, val_loss=1.89]\n"
          ]
        },
        {
          "output_type": "stream",
          "name": "stdout",
          "text": [
            "Average epoch validation loss: 1.888\n",
            "Validation accuracy: 32.400% \n",
            "\n",
            "Epoch 5/50\n"
          ]
        },
        {
          "output_type": "stream",
          "name": "stderr",
          "text": [
            "Training: 100%|██████████| 188/188 [00:04<00:00, 41.92it/s, loss=1.8]\n"
          ]
        },
        {
          "output_type": "stream",
          "name": "stdout",
          "text": [
            "Average epoch training loss: 1.916\n",
            "Training accuracy: 32.150%\n"
          ]
        },
        {
          "output_type": "stream",
          "name": "stderr",
          "text": [
            "Validation: 100%|██████████| 24/24 [00:00<00:00, 109.73it/s, val_loss=1.75]\n"
          ]
        },
        {
          "output_type": "stream",
          "name": "stdout",
          "text": [
            "Average epoch validation loss: 1.787\n",
            "Validation accuracy: 37.467% \n",
            "\n",
            "Epoch 6/50\n"
          ]
        },
        {
          "output_type": "stream",
          "name": "stderr",
          "text": [
            "Training: 100%|██████████| 188/188 [00:04<00:00, 42.02it/s, loss=2.11]\n"
          ]
        },
        {
          "output_type": "stream",
          "name": "stdout",
          "text": [
            "Average epoch training loss: 1.829\n",
            "Training accuracy: 35.650%\n"
          ]
        },
        {
          "output_type": "stream",
          "name": "stderr",
          "text": [
            "Validation: 100%|██████████| 24/24 [00:00<00:00, 111.13it/s, val_loss=1.7]\n"
          ]
        },
        {
          "output_type": "stream",
          "name": "stdout",
          "text": [
            "Average epoch validation loss: 1.708\n",
            "Validation accuracy: 42.267% \n",
            "\n",
            "Epoch 7/50\n"
          ]
        },
        {
          "output_type": "stream",
          "name": "stderr",
          "text": [
            "Training: 100%|██████████| 188/188 [00:04<00:00, 41.53it/s, loss=1.98]\n"
          ]
        },
        {
          "output_type": "stream",
          "name": "stdout",
          "text": [
            "Average epoch training loss: 1.768\n",
            "Training accuracy: 38.650%\n"
          ]
        },
        {
          "output_type": "stream",
          "name": "stderr",
          "text": [
            "Validation: 100%|██████████| 24/24 [00:00<00:00, 109.03it/s, val_loss=1.76]\n"
          ]
        },
        {
          "output_type": "stream",
          "name": "stdout",
          "text": [
            "Average epoch validation loss: 1.680\n",
            "Validation accuracy: 42.133% \n",
            "\n",
            "Epoch 8/50\n"
          ]
        },
        {
          "output_type": "stream",
          "name": "stderr",
          "text": [
            "Training: 100%|██████████| 188/188 [00:04<00:00, 41.59it/s, loss=1.77]\n"
          ]
        },
        {
          "output_type": "stream",
          "name": "stdout",
          "text": [
            "Average epoch training loss: 1.716\n",
            "Training accuracy: 39.983%\n"
          ]
        },
        {
          "output_type": "stream",
          "name": "stderr",
          "text": [
            "Validation: 100%|██████████| 24/24 [00:00<00:00, 108.71it/s, val_loss=1.86]\n"
          ]
        },
        {
          "output_type": "stream",
          "name": "stdout",
          "text": [
            "Average epoch validation loss: 1.628\n",
            "Validation accuracy: 45.067% \n",
            "\n",
            "Epoch 9/50\n"
          ]
        },
        {
          "output_type": "stream",
          "name": "stderr",
          "text": [
            "Training: 100%|██████████| 188/188 [00:04<00:00, 41.53it/s, loss=1.93]\n"
          ]
        },
        {
          "output_type": "stream",
          "name": "stdout",
          "text": [
            "Average epoch training loss: 1.645\n",
            "Training accuracy: 42.400%\n"
          ]
        },
        {
          "output_type": "stream",
          "name": "stderr",
          "text": [
            "Validation: 100%|██████████| 24/24 [00:00<00:00, 108.90it/s, val_loss=1.68]\n"
          ]
        },
        {
          "output_type": "stream",
          "name": "stdout",
          "text": [
            "Average epoch validation loss: 1.584\n",
            "Validation accuracy: 44.267% \n",
            "\n",
            "Epoch 10/50\n"
          ]
        },
        {
          "output_type": "stream",
          "name": "stderr",
          "text": [
            "Training: 100%|██████████| 188/188 [00:04<00:00, 41.06it/s, loss=1.44]\n"
          ]
        },
        {
          "output_type": "stream",
          "name": "stdout",
          "text": [
            "Average epoch training loss: 1.568\n",
            "Training accuracy: 45.167%\n"
          ]
        },
        {
          "output_type": "stream",
          "name": "stderr",
          "text": [
            "Validation: 100%|██████████| 24/24 [00:00<00:00, 109.38it/s, val_loss=1.64]\n"
          ]
        },
        {
          "output_type": "stream",
          "name": "stdout",
          "text": [
            "Average epoch validation loss: 1.486\n",
            "Validation accuracy: 48.533% \n",
            "\n",
            "Epoch 11/50\n"
          ]
        },
        {
          "output_type": "stream",
          "name": "stderr",
          "text": [
            "Training: 100%|██████████| 188/188 [00:04<00:00, 41.41it/s, loss=1.33]\n"
          ]
        },
        {
          "output_type": "stream",
          "name": "stdout",
          "text": [
            "Average epoch training loss: 1.515\n",
            "Training accuracy: 46.817%\n"
          ]
        },
        {
          "output_type": "stream",
          "name": "stderr",
          "text": [
            "Validation: 100%|██████████| 24/24 [00:00<00:00, 108.32it/s, val_loss=1.39]\n"
          ]
        },
        {
          "output_type": "stream",
          "name": "stdout",
          "text": [
            "Average epoch validation loss: 1.422\n",
            "Validation accuracy: 50.000% \n",
            "\n",
            "Epoch 12/50\n"
          ]
        },
        {
          "output_type": "stream",
          "name": "stderr",
          "text": [
            "Training: 100%|██████████| 188/188 [00:04<00:00, 41.03it/s, loss=1.55]\n"
          ]
        },
        {
          "output_type": "stream",
          "name": "stdout",
          "text": [
            "Average epoch training loss: 1.488\n",
            "Training accuracy: 48.067%\n"
          ]
        },
        {
          "output_type": "stream",
          "name": "stderr",
          "text": [
            "Validation: 100%|██████████| 24/24 [00:00<00:00, 101.64it/s, val_loss=1.73]\n"
          ]
        },
        {
          "output_type": "stream",
          "name": "stdout",
          "text": [
            "Average epoch validation loss: 1.415\n",
            "Validation accuracy: 50.000% \n",
            "\n",
            "Epoch 13/50\n"
          ]
        },
        {
          "output_type": "stream",
          "name": "stderr",
          "text": [
            "Training: 100%|██████████| 188/188 [00:04<00:00, 40.97it/s, loss=1.35]\n"
          ]
        },
        {
          "output_type": "stream",
          "name": "stdout",
          "text": [
            "Average epoch training loss: 1.420\n",
            "Training accuracy: 51.067%\n"
          ]
        },
        {
          "output_type": "stream",
          "name": "stderr",
          "text": [
            "Validation: 100%|██████████| 24/24 [00:00<00:00, 107.11it/s, val_loss=1.29]\n"
          ]
        },
        {
          "output_type": "stream",
          "name": "stdout",
          "text": [
            "Average epoch validation loss: 1.331\n",
            "Validation accuracy: 53.600% \n",
            "\n",
            "Epoch 14/50\n"
          ]
        },
        {
          "output_type": "stream",
          "name": "stderr",
          "text": [
            "Training: 100%|██████████| 188/188 [00:04<00:00, 40.77it/s, loss=1.4]\n"
          ]
        },
        {
          "output_type": "stream",
          "name": "stdout",
          "text": [
            "Average epoch training loss: 1.373\n",
            "Training accuracy: 51.833%\n"
          ]
        },
        {
          "output_type": "stream",
          "name": "stderr",
          "text": [
            "Validation: 100%|██████████| 24/24 [00:00<00:00, 107.27it/s, val_loss=1.49]\n"
          ]
        },
        {
          "output_type": "stream",
          "name": "stdout",
          "text": [
            "Average epoch validation loss: 1.286\n",
            "Validation accuracy: 55.867% \n",
            "\n",
            "Epoch 15/50\n"
          ]
        },
        {
          "output_type": "stream",
          "name": "stderr",
          "text": [
            "Training: 100%|██████████| 188/188 [00:04<00:00, 40.40it/s, loss=1.22]\n"
          ]
        },
        {
          "output_type": "stream",
          "name": "stdout",
          "text": [
            "Average epoch training loss: 1.347\n",
            "Training accuracy: 53.333%\n"
          ]
        },
        {
          "output_type": "stream",
          "name": "stderr",
          "text": [
            "Validation: 100%|██████████| 24/24 [00:00<00:00, 104.72it/s, val_loss=1.38]\n"
          ]
        },
        {
          "output_type": "stream",
          "name": "stdout",
          "text": [
            "Average epoch validation loss: 1.235\n",
            "Validation accuracy: 57.467% \n",
            "\n",
            "Epoch 16/50\n"
          ]
        },
        {
          "output_type": "stream",
          "name": "stderr",
          "text": [
            "Training: 100%|██████████| 188/188 [00:04<00:00, 40.51it/s, loss=1.18]\n"
          ]
        },
        {
          "output_type": "stream",
          "name": "stdout",
          "text": [
            "Average epoch training loss: 1.291\n",
            "Training accuracy: 55.267%\n"
          ]
        },
        {
          "output_type": "stream",
          "name": "stderr",
          "text": [
            "Validation: 100%|██████████| 24/24 [00:00<00:00, 107.75it/s, val_loss=1.24]\n"
          ]
        },
        {
          "output_type": "stream",
          "name": "stdout",
          "text": [
            "Average epoch validation loss: 1.259\n",
            "Validation accuracy: 56.133% \n",
            "\n",
            "Epoch 17/50\n"
          ]
        },
        {
          "output_type": "stream",
          "name": "stderr",
          "text": [
            "Training: 100%|██████████| 188/188 [00:04<00:00, 40.10it/s, loss=1.5]\n"
          ]
        },
        {
          "output_type": "stream",
          "name": "stdout",
          "text": [
            "Average epoch training loss: 1.265\n",
            "Training accuracy: 56.317%\n"
          ]
        },
        {
          "output_type": "stream",
          "name": "stderr",
          "text": [
            "Validation: 100%|██████████| 24/24 [00:00<00:00, 106.15it/s, val_loss=1.4]\n"
          ]
        },
        {
          "output_type": "stream",
          "name": "stdout",
          "text": [
            "Average epoch validation loss: 1.132\n",
            "Validation accuracy: 60.533% \n",
            "\n",
            "Epoch 18/50\n"
          ]
        },
        {
          "output_type": "stream",
          "name": "stderr",
          "text": [
            "Training: 100%|██████████| 188/188 [00:04<00:00, 40.45it/s, loss=2.07]\n"
          ]
        },
        {
          "output_type": "stream",
          "name": "stdout",
          "text": [
            "Average epoch training loss: 1.223\n",
            "Training accuracy: 58.317%\n"
          ]
        },
        {
          "output_type": "stream",
          "name": "stderr",
          "text": [
            "Validation: 100%|██████████| 24/24 [00:00<00:00, 107.64it/s, val_loss=1.35]\n"
          ]
        },
        {
          "output_type": "stream",
          "name": "stdout",
          "text": [
            "Average epoch validation loss: 1.160\n",
            "Validation accuracy: 62.133% \n",
            "\n",
            "Epoch 19/50\n"
          ]
        },
        {
          "output_type": "stream",
          "name": "stderr",
          "text": [
            "Training: 100%|██████████| 188/188 [00:04<00:00, 40.41it/s, loss=0.977]\n"
          ]
        },
        {
          "output_type": "stream",
          "name": "stdout",
          "text": [
            "Average epoch training loss: 1.183\n",
            "Training accuracy: 58.767%\n"
          ]
        },
        {
          "output_type": "stream",
          "name": "stderr",
          "text": [
            "Validation: 100%|██████████| 24/24 [00:00<00:00, 97.54it/s, val_loss=1.08]\n"
          ]
        },
        {
          "output_type": "stream",
          "name": "stdout",
          "text": [
            "Average epoch validation loss: 1.084\n",
            "Validation accuracy: 62.800% \n",
            "\n",
            "Epoch 20/50\n"
          ]
        },
        {
          "output_type": "stream",
          "name": "stderr",
          "text": [
            "Training: 100%|██████████| 188/188 [00:04<00:00, 39.91it/s, loss=1.28]\n"
          ]
        },
        {
          "output_type": "stream",
          "name": "stdout",
          "text": [
            "Average epoch training loss: 1.162\n",
            "Training accuracy: 59.517%\n"
          ]
        },
        {
          "output_type": "stream",
          "name": "stderr",
          "text": [
            "Validation: 100%|██████████| 24/24 [00:00<00:00, 105.67it/s, val_loss=1.21]\n"
          ]
        },
        {
          "output_type": "stream",
          "name": "stdout",
          "text": [
            "Average epoch validation loss: 1.039\n",
            "Validation accuracy: 62.667% \n",
            "\n",
            "Epoch 21/50\n"
          ]
        },
        {
          "output_type": "stream",
          "name": "stderr",
          "text": [
            "Training: 100%|██████████| 188/188 [00:04<00:00, 39.99it/s, loss=1.25]\n"
          ]
        },
        {
          "output_type": "stream",
          "name": "stdout",
          "text": [
            "Average epoch training loss: 1.119\n",
            "Training accuracy: 61.033%\n"
          ]
        },
        {
          "output_type": "stream",
          "name": "stderr",
          "text": [
            "Validation: 100%|██████████| 24/24 [00:00<00:00, 105.39it/s, val_loss=1.36]\n"
          ]
        },
        {
          "output_type": "stream",
          "name": "stdout",
          "text": [
            "Average epoch validation loss: 1.053\n",
            "Validation accuracy: 64.933% \n",
            "\n",
            "Epoch 22/50\n"
          ]
        },
        {
          "output_type": "stream",
          "name": "stderr",
          "text": [
            "Training: 100%|██████████| 188/188 [00:04<00:00, 39.66it/s, loss=2.79]\n"
          ]
        },
        {
          "output_type": "stream",
          "name": "stdout",
          "text": [
            "Average epoch training loss: 1.072\n",
            "Training accuracy: 62.900%\n"
          ]
        },
        {
          "output_type": "stream",
          "name": "stderr",
          "text": [
            "Validation: 100%|██████████| 24/24 [00:00<00:00, 105.01it/s, val_loss=1.05]\n"
          ]
        },
        {
          "output_type": "stream",
          "name": "stdout",
          "text": [
            "Average epoch validation loss: 1.021\n",
            "Validation accuracy: 64.933% \n",
            "\n",
            "Epoch 23/50\n"
          ]
        },
        {
          "output_type": "stream",
          "name": "stderr",
          "text": [
            "Training: 100%|██████████| 188/188 [00:04<00:00, 39.88it/s, loss=2.37]\n"
          ]
        },
        {
          "output_type": "stream",
          "name": "stdout",
          "text": [
            "Average epoch training loss: 1.058\n",
            "Training accuracy: 63.567%\n"
          ]
        },
        {
          "output_type": "stream",
          "name": "stderr",
          "text": [
            "Validation: 100%|██████████| 24/24 [00:00<00:00, 103.06it/s, val_loss=1.17]\n"
          ]
        },
        {
          "output_type": "stream",
          "name": "stdout",
          "text": [
            "Average epoch validation loss: 1.015\n",
            "Validation accuracy: 63.467% \n",
            "\n",
            "Epoch 24/50\n"
          ]
        },
        {
          "output_type": "stream",
          "name": "stderr",
          "text": [
            "Training: 100%|██████████| 188/188 [00:04<00:00, 39.38it/s, loss=1.73]\n"
          ]
        },
        {
          "output_type": "stream",
          "name": "stdout",
          "text": [
            "Average epoch training loss: 1.040\n",
            "Training accuracy: 64.350%\n"
          ]
        },
        {
          "output_type": "stream",
          "name": "stderr",
          "text": [
            "Validation: 100%|██████████| 24/24 [00:00<00:00, 94.28it/s, val_loss=1.1]\n"
          ]
        },
        {
          "output_type": "stream",
          "name": "stdout",
          "text": [
            "Average epoch validation loss: 0.913\n",
            "Validation accuracy: 69.867% \n",
            "\n",
            "Epoch 25/50\n"
          ]
        },
        {
          "output_type": "stream",
          "name": "stderr",
          "text": [
            "Training: 100%|██████████| 188/188 [00:04<00:00, 39.53it/s, loss=1.05]\n"
          ]
        },
        {
          "output_type": "stream",
          "name": "stdout",
          "text": [
            "Average epoch training loss: 1.024\n",
            "Training accuracy: 64.400%\n"
          ]
        },
        {
          "output_type": "stream",
          "name": "stderr",
          "text": [
            "Validation: 100%|██████████| 24/24 [00:00<00:00, 105.79it/s, val_loss=1.03]\n"
          ]
        },
        {
          "output_type": "stream",
          "name": "stdout",
          "text": [
            "Average epoch validation loss: 0.957\n",
            "Validation accuracy: 68.267% \n",
            "\n",
            "Epoch 26/50\n"
          ]
        },
        {
          "output_type": "stream",
          "name": "stderr",
          "text": [
            "Training: 100%|██████████| 188/188 [00:04<00:00, 39.41it/s, loss=0.746]\n"
          ]
        },
        {
          "output_type": "stream",
          "name": "stdout",
          "text": [
            "Average epoch training loss: 0.978\n",
            "Training accuracy: 66.567%\n"
          ]
        },
        {
          "output_type": "stream",
          "name": "stderr",
          "text": [
            "Validation: 100%|██████████| 24/24 [00:00<00:00, 105.74it/s, val_loss=1.12]\n"
          ]
        },
        {
          "output_type": "stream",
          "name": "stdout",
          "text": [
            "Average epoch validation loss: 0.945\n",
            "Validation accuracy: 68.800% \n",
            "\n",
            "Epoch 27/50\n"
          ]
        },
        {
          "output_type": "stream",
          "name": "stderr",
          "text": [
            "Training: 100%|██████████| 188/188 [00:04<00:00, 38.87it/s, loss=1.72]\n"
          ]
        },
        {
          "output_type": "stream",
          "name": "stdout",
          "text": [
            "Average epoch training loss: 0.952\n",
            "Training accuracy: 66.867%\n"
          ]
        },
        {
          "output_type": "stream",
          "name": "stderr",
          "text": [
            "Validation: 100%|██████████| 24/24 [00:00<00:00, 104.93it/s, val_loss=0.905]\n"
          ]
        },
        {
          "output_type": "stream",
          "name": "stdout",
          "text": [
            "Average epoch validation loss: 0.830\n",
            "Validation accuracy: 72.667% \n",
            "\n",
            "Epoch 28/50\n"
          ]
        },
        {
          "output_type": "stream",
          "name": "stderr",
          "text": [
            "Training: 100%|██████████| 188/188 [00:04<00:00, 39.20it/s, loss=1.07]\n"
          ]
        },
        {
          "output_type": "stream",
          "name": "stdout",
          "text": [
            "Average epoch training loss: 0.943\n",
            "Training accuracy: 67.833%\n"
          ]
        },
        {
          "output_type": "stream",
          "name": "stderr",
          "text": [
            "Validation: 100%|██████████| 24/24 [00:00<00:00, 103.86it/s, val_loss=1.18]\n"
          ]
        },
        {
          "output_type": "stream",
          "name": "stdout",
          "text": [
            "Average epoch validation loss: 0.865\n",
            "Validation accuracy: 71.067% \n",
            "\n",
            "Epoch 29/50\n"
          ]
        },
        {
          "output_type": "stream",
          "name": "stderr",
          "text": [
            "Training: 100%|██████████| 188/188 [00:04<00:00, 39.16it/s, loss=0.709]\n"
          ]
        },
        {
          "output_type": "stream",
          "name": "stdout",
          "text": [
            "Average epoch training loss: 0.916\n",
            "Training accuracy: 68.717%\n"
          ]
        },
        {
          "output_type": "stream",
          "name": "stderr",
          "text": [
            "Validation: 100%|██████████| 24/24 [00:00<00:00, 103.21it/s, val_loss=1.18]\n"
          ]
        },
        {
          "output_type": "stream",
          "name": "stdout",
          "text": [
            "Average epoch validation loss: 0.889\n",
            "Validation accuracy: 69.867% \n",
            "\n",
            "Epoch 30/50\n"
          ]
        },
        {
          "output_type": "stream",
          "name": "stderr",
          "text": [
            "Training: 100%|██████████| 188/188 [00:04<00:00, 39.45it/s, loss=0.95]\n"
          ]
        },
        {
          "output_type": "stream",
          "name": "stdout",
          "text": [
            "Average epoch training loss: 0.881\n",
            "Training accuracy: 69.667%\n"
          ]
        },
        {
          "output_type": "stream",
          "name": "stderr",
          "text": [
            "Validation: 100%|██████████| 24/24 [00:00<00:00, 104.61it/s, val_loss=1.01]\n"
          ]
        },
        {
          "output_type": "stream",
          "name": "stdout",
          "text": [
            "Average epoch validation loss: 0.796\n",
            "Validation accuracy: 75.467% \n",
            "\n",
            "Epoch 31/50\n"
          ]
        },
        {
          "output_type": "stream",
          "name": "stderr",
          "text": [
            "Training: 100%|██████████| 188/188 [00:04<00:00, 39.41it/s, loss=0.973]\n"
          ]
        },
        {
          "output_type": "stream",
          "name": "stdout",
          "text": [
            "Average epoch training loss: 0.861\n",
            "Training accuracy: 70.850%\n"
          ]
        },
        {
          "output_type": "stream",
          "name": "stderr",
          "text": [
            "Validation: 100%|██████████| 24/24 [00:00<00:00, 101.86it/s, val_loss=1.3]\n"
          ]
        },
        {
          "output_type": "stream",
          "name": "stdout",
          "text": [
            "Average epoch validation loss: 0.932\n",
            "Validation accuracy: 70.133% \n",
            "\n",
            "Epoch 32/50\n"
          ]
        },
        {
          "output_type": "stream",
          "name": "stderr",
          "text": [
            "Training: 100%|██████████| 188/188 [00:04<00:00, 39.32it/s, loss=0.7]\n"
          ]
        },
        {
          "output_type": "stream",
          "name": "stdout",
          "text": [
            "Average epoch training loss: 0.858\n",
            "Training accuracy: 69.867%\n"
          ]
        },
        {
          "output_type": "stream",
          "name": "stderr",
          "text": [
            "Validation: 100%|██████████| 24/24 [00:00<00:00, 106.32it/s, val_loss=1.11]\n"
          ]
        },
        {
          "output_type": "stream",
          "name": "stdout",
          "text": [
            "Average epoch validation loss: 0.805\n",
            "Validation accuracy: 73.067% \n",
            "\n",
            "Epoch 33/50\n"
          ]
        },
        {
          "output_type": "stream",
          "name": "stderr",
          "text": [
            "Training: 100%|██████████| 188/188 [00:04<00:00, 39.58it/s, loss=1.41]\n"
          ]
        },
        {
          "output_type": "stream",
          "name": "stdout",
          "text": [
            "Average epoch training loss: 0.817\n",
            "Training accuracy: 71.750%\n"
          ]
        },
        {
          "output_type": "stream",
          "name": "stderr",
          "text": [
            "Validation: 100%|██████████| 24/24 [00:00<00:00, 104.79it/s, val_loss=0.954]\n"
          ]
        },
        {
          "output_type": "stream",
          "name": "stdout",
          "text": [
            "Average epoch validation loss: 0.725\n",
            "Validation accuracy: 77.333% \n",
            "\n",
            "Epoch 34/50\n"
          ]
        },
        {
          "output_type": "stream",
          "name": "stderr",
          "text": [
            "Training: 100%|██████████| 188/188 [00:04<00:00, 39.45it/s, loss=0.685]\n"
          ]
        },
        {
          "output_type": "stream",
          "name": "stdout",
          "text": [
            "Average epoch training loss: 0.833\n",
            "Training accuracy: 71.417%\n"
          ]
        },
        {
          "output_type": "stream",
          "name": "stderr",
          "text": [
            "Validation: 100%|██████████| 24/24 [00:00<00:00, 104.22it/s, val_loss=0.733]\n"
          ]
        },
        {
          "output_type": "stream",
          "name": "stdout",
          "text": [
            "Average epoch validation loss: 0.748\n",
            "Validation accuracy: 76.400% \n",
            "\n",
            "Epoch 35/50\n"
          ]
        },
        {
          "output_type": "stream",
          "name": "stderr",
          "text": [
            "Training: 100%|██████████| 188/188 [00:04<00:00, 39.48it/s, loss=0.803]\n"
          ]
        },
        {
          "output_type": "stream",
          "name": "stdout",
          "text": [
            "Average epoch training loss: 0.794\n",
            "Training accuracy: 72.267%\n"
          ]
        },
        {
          "output_type": "stream",
          "name": "stderr",
          "text": [
            "Validation: 100%|██████████| 24/24 [00:00<00:00, 93.99it/s, val_loss=0.946]\n"
          ]
        },
        {
          "output_type": "stream",
          "name": "stdout",
          "text": [
            "Average epoch validation loss: 0.788\n",
            "Validation accuracy: 74.933% \n",
            "\n",
            "Epoch 36/50\n"
          ]
        },
        {
          "output_type": "stream",
          "name": "stderr",
          "text": [
            "Training: 100%|██████████| 188/188 [00:04<00:00, 39.44it/s, loss=0.621]\n"
          ]
        },
        {
          "output_type": "stream",
          "name": "stdout",
          "text": [
            "Average epoch training loss: 0.699\n",
            "Training accuracy: 76.350%\n"
          ]
        },
        {
          "output_type": "stream",
          "name": "stderr",
          "text": [
            "Validation: 100%|██████████| 24/24 [00:00<00:00, 96.86it/s, val_loss=0.699]\n"
          ]
        },
        {
          "output_type": "stream",
          "name": "stdout",
          "text": [
            "Average epoch validation loss: 0.609\n",
            "Validation accuracy: 81.067% \n",
            "\n",
            "Epoch 37/50\n"
          ]
        },
        {
          "output_type": "stream",
          "name": "stderr",
          "text": [
            "Training: 100%|██████████| 188/188 [00:04<00:00, 39.56it/s, loss=0.876]\n"
          ]
        },
        {
          "output_type": "stream",
          "name": "stdout",
          "text": [
            "Average epoch training loss: 0.691\n",
            "Training accuracy: 76.883%\n"
          ]
        },
        {
          "output_type": "stream",
          "name": "stderr",
          "text": [
            "Validation: 100%|██████████| 24/24 [00:00<00:00, 105.32it/s, val_loss=0.69]\n"
          ]
        },
        {
          "output_type": "stream",
          "name": "stdout",
          "text": [
            "Average epoch validation loss: 0.648\n",
            "Validation accuracy: 79.200% \n",
            "\n",
            "Epoch 38/50\n"
          ]
        },
        {
          "output_type": "stream",
          "name": "stderr",
          "text": [
            "Training: 100%|██████████| 188/188 [00:04<00:00, 39.67it/s, loss=0.752]\n"
          ]
        },
        {
          "output_type": "stream",
          "name": "stdout",
          "text": [
            "Average epoch training loss: 0.660\n",
            "Training accuracy: 77.983%\n"
          ]
        },
        {
          "output_type": "stream",
          "name": "stderr",
          "text": [
            "Validation: 100%|██████████| 24/24 [00:00<00:00, 104.58it/s, val_loss=0.782]\n"
          ]
        },
        {
          "output_type": "stream",
          "name": "stdout",
          "text": [
            "Average epoch validation loss: 0.637\n",
            "Validation accuracy: 79.867% \n",
            "\n",
            "Epoch 39/50\n"
          ]
        },
        {
          "output_type": "stream",
          "name": "stderr",
          "text": [
            "Training: 100%|██████████| 188/188 [00:04<00:00, 39.39it/s, loss=1.36]\n"
          ]
        },
        {
          "output_type": "stream",
          "name": "stdout",
          "text": [
            "Average epoch training loss: 0.650\n",
            "Training accuracy: 77.917%\n"
          ]
        },
        {
          "output_type": "stream",
          "name": "stderr",
          "text": [
            "Validation: 100%|██████████| 24/24 [00:00<00:00, 106.23it/s, val_loss=0.993]\n"
          ]
        },
        {
          "output_type": "stream",
          "name": "stdout",
          "text": [
            "Average epoch validation loss: 0.731\n",
            "Validation accuracy: 74.933% \n",
            "\n",
            "Epoch 40/50\n"
          ]
        },
        {
          "output_type": "stream",
          "name": "stderr",
          "text": [
            "Training: 100%|██████████| 188/188 [00:04<00:00, 39.56it/s, loss=0.663]\n"
          ]
        },
        {
          "output_type": "stream",
          "name": "stdout",
          "text": [
            "Average epoch training loss: 0.640\n",
            "Training accuracy: 78.117%\n"
          ]
        },
        {
          "output_type": "stream",
          "name": "stderr",
          "text": [
            "Validation: 100%|██████████| 24/24 [00:00<00:00, 105.00it/s, val_loss=1.04]\n"
          ]
        },
        {
          "output_type": "stream",
          "name": "stdout",
          "text": [
            "Average epoch validation loss: 0.682\n",
            "Validation accuracy: 78.800% \n",
            "\n",
            "Epoch 41/50\n"
          ]
        },
        {
          "output_type": "stream",
          "name": "stderr",
          "text": [
            "Training: 100%|██████████| 188/188 [00:04<00:00, 38.92it/s, loss=0.562]\n"
          ]
        },
        {
          "output_type": "stream",
          "name": "stdout",
          "text": [
            "Average epoch training loss: 0.577\n",
            "Training accuracy: 80.800%\n"
          ]
        },
        {
          "output_type": "stream",
          "name": "stderr",
          "text": [
            "Validation: 100%|██████████| 24/24 [00:00<00:00, 103.79it/s, val_loss=0.738]\n"
          ]
        },
        {
          "output_type": "stream",
          "name": "stdout",
          "text": [
            "Average epoch validation loss: 0.599\n",
            "Validation accuracy: 81.467% \n",
            "\n",
            "Epoch 42/50\n"
          ]
        },
        {
          "output_type": "stream",
          "name": "stderr",
          "text": [
            "Training: 100%|██████████| 188/188 [00:04<00:00, 39.52it/s, loss=1.51]\n"
          ]
        },
        {
          "output_type": "stream",
          "name": "stdout",
          "text": [
            "Average epoch training loss: 0.575\n",
            "Training accuracy: 80.450%\n"
          ]
        },
        {
          "output_type": "stream",
          "name": "stderr",
          "text": [
            "Validation: 100%|██████████| 24/24 [00:00<00:00, 104.89it/s, val_loss=0.709]\n"
          ]
        },
        {
          "output_type": "stream",
          "name": "stdout",
          "text": [
            "Average epoch validation loss: 0.643\n",
            "Validation accuracy: 78.800% \n",
            "\n",
            "Epoch 43/50\n"
          ]
        },
        {
          "output_type": "stream",
          "name": "stderr",
          "text": [
            "Training: 100%|██████████| 188/188 [00:04<00:00, 39.54it/s, loss=1.65]\n"
          ]
        },
        {
          "output_type": "stream",
          "name": "stdout",
          "text": [
            "Average epoch training loss: 0.566\n",
            "Training accuracy: 81.083%\n"
          ]
        },
        {
          "output_type": "stream",
          "name": "stderr",
          "text": [
            "Validation: 100%|██████████| 24/24 [00:00<00:00, 97.38it/s, val_loss=0.634]\n"
          ]
        },
        {
          "output_type": "stream",
          "name": "stdout",
          "text": [
            "Average epoch validation loss: 0.603\n",
            "Validation accuracy: 81.867% \n",
            "\n",
            "Epoch 44/50\n"
          ]
        },
        {
          "output_type": "stream",
          "name": "stderr",
          "text": [
            "Training: 100%|██████████| 188/188 [00:04<00:00, 39.08it/s, loss=2.36]\n"
          ]
        },
        {
          "output_type": "stream",
          "name": "stdout",
          "text": [
            "Average epoch training loss: 0.604\n",
            "Training accuracy: 79.650%\n"
          ]
        },
        {
          "output_type": "stream",
          "name": "stderr",
          "text": [
            "Validation: 100%|██████████| 24/24 [00:00<00:00, 103.89it/s, val_loss=0.94]\n"
          ]
        },
        {
          "output_type": "stream",
          "name": "stdout",
          "text": [
            "Average epoch validation loss: 0.741\n",
            "Validation accuracy: 75.333% \n",
            "\n",
            "Epoch 45/50\n"
          ]
        },
        {
          "output_type": "stream",
          "name": "stderr",
          "text": [
            "Training: 100%|██████████| 188/188 [00:04<00:00, 39.56it/s, loss=0.264]\n"
          ]
        },
        {
          "output_type": "stream",
          "name": "stdout",
          "text": [
            "Average epoch training loss: 0.565\n",
            "Training accuracy: 81.150%\n"
          ]
        },
        {
          "output_type": "stream",
          "name": "stderr",
          "text": [
            "Validation: 100%|██████████| 24/24 [00:00<00:00, 104.32it/s, val_loss=0.856]\n"
          ]
        },
        {
          "output_type": "stream",
          "name": "stdout",
          "text": [
            "Average epoch validation loss: 0.617\n",
            "Validation accuracy: 80.400% \n",
            "\n",
            "Epoch 46/50\n"
          ]
        },
        {
          "output_type": "stream",
          "name": "stderr",
          "text": [
            "Training: 100%|██████████| 188/188 [00:04<00:00, 39.43it/s, loss=0.619]\n"
          ]
        },
        {
          "output_type": "stream",
          "name": "stdout",
          "text": [
            "Average epoch training loss: 0.549\n",
            "Training accuracy: 81.833%\n"
          ]
        },
        {
          "output_type": "stream",
          "name": "stderr",
          "text": [
            "Validation: 100%|██████████| 24/24 [00:00<00:00, 101.70it/s, val_loss=0.747]\n"
          ]
        },
        {
          "output_type": "stream",
          "name": "stdout",
          "text": [
            "Average epoch validation loss: 0.562\n",
            "Validation accuracy: 82.533% \n",
            "\n",
            "Epoch 47/50\n"
          ]
        },
        {
          "output_type": "stream",
          "name": "stderr",
          "text": [
            "Training: 100%|██████████| 188/188 [00:04<00:00, 39.59it/s, loss=0.983]\n"
          ]
        },
        {
          "output_type": "stream",
          "name": "stdout",
          "text": [
            "Average epoch training loss: 0.548\n",
            "Training accuracy: 81.767%\n"
          ]
        },
        {
          "output_type": "stream",
          "name": "stderr",
          "text": [
            "Validation: 100%|██████████| 24/24 [00:00<00:00, 103.75it/s, val_loss=1.14]\n"
          ]
        },
        {
          "output_type": "stream",
          "name": "stdout",
          "text": [
            "Average epoch validation loss: 0.653\n",
            "Validation accuracy: 79.333% \n",
            "\n",
            "Epoch 48/50\n"
          ]
        },
        {
          "output_type": "stream",
          "name": "stderr",
          "text": [
            "Training: 100%|██████████| 188/188 [00:04<00:00, 39.44it/s, loss=0.913]\n"
          ]
        },
        {
          "output_type": "stream",
          "name": "stdout",
          "text": [
            "Average epoch training loss: 0.557\n",
            "Training accuracy: 81.467%\n"
          ]
        },
        {
          "output_type": "stream",
          "name": "stderr",
          "text": [
            "Validation: 100%|██████████| 24/24 [00:00<00:00, 102.10it/s, val_loss=0.839]\n"
          ]
        },
        {
          "output_type": "stream",
          "name": "stdout",
          "text": [
            "Average epoch validation loss: 0.563\n",
            "Validation accuracy: 81.733% \n",
            "\n",
            "Epoch 49/50\n"
          ]
        },
        {
          "output_type": "stream",
          "name": "stderr",
          "text": [
            "Training: 100%|██████████| 188/188 [00:04<00:00, 39.28it/s, loss=1.65]\n"
          ]
        },
        {
          "output_type": "stream",
          "name": "stdout",
          "text": [
            "Average epoch training loss: 0.545\n",
            "Training accuracy: 81.450%\n"
          ]
        },
        {
          "output_type": "stream",
          "name": "stderr",
          "text": [
            "Validation: 100%|██████████| 24/24 [00:00<00:00, 105.21it/s, val_loss=0.646]\n"
          ]
        },
        {
          "output_type": "stream",
          "name": "stdout",
          "text": [
            "Average epoch validation loss: 0.587\n",
            "Validation accuracy: 82.000% \n",
            "\n",
            "Epoch 50/50\n"
          ]
        },
        {
          "output_type": "stream",
          "name": "stderr",
          "text": [
            "Training: 100%|██████████| 188/188 [00:04<00:00, 39.61it/s, loss=0.74]\n"
          ]
        },
        {
          "output_type": "stream",
          "name": "stdout",
          "text": [
            "Average epoch training loss: 0.491\n",
            "Training accuracy: 83.750%\n"
          ]
        },
        {
          "output_type": "stream",
          "name": "stderr",
          "text": [
            "Validation: 100%|██████████| 24/24 [00:00<00:00, 103.66it/s, val_loss=0.747]"
          ]
        },
        {
          "output_type": "stream",
          "name": "stdout",
          "text": [
            "Average epoch validation loss: 0.627\n",
            "Validation accuracy: 79.600% \n",
            "\n",
            "RNN training and validation time (s): 247.4\n"
          ]
        },
        {
          "output_type": "stream",
          "name": "stderr",
          "text": [
            "\n"
          ]
        }
      ]
    },
    {
      "cell_type": "markdown",
      "source": [
        "Save experiment results:"
      ],
      "metadata": {
        "id": "AUIP-9kBVTnd"
      }
    },
    {
      "cell_type": "code",
      "source": [
        "path = f'results/rnn/{dataset}/{band}'\n",
        "os.makedirs(path, exist_ok=True)\n",
        "loss_fig_name = f'rnn_loss_{dataset}_{band}'\n",
        "acc_fig_name = f'rnn_accuracy_{dataset}_{band}'\n",
        "cm_fig_name = f'rnn_cm_{dataset}_{band}'\n",
        "log_file_name = f'rnn_log_{dataset}_{band}'\n",
        "shap_fig_ch_importance = f'rnn_shap_summary_channel-wise-importance_{dataset}_{band}'\n",
        "shap_fig_summary = f'rnn_shap_summary_time-specific-importance_{dataset}_{band}'"
      ],
      "metadata": {
        "id": "YdWgL4QKTLzG"
      },
      "execution_count": null,
      "outputs": []
    },
    {
      "cell_type": "code",
      "execution_count": null,
      "metadata": {
        "id": "J7NkT8784R8F"
      },
      "outputs": [],
      "source": [
        "save = True\n",
        "load = False\n",
        "model_name = f\"RNN_{dataset}_{band}.pt\"\n",
        "if save:\n",
        "    save_model(RNN_model, path+'/'+model_name)\n",
        "if load:\n",
        "    load_model(RNN_model, path+'/'+model_name)"
      ]
    },
    {
      "cell_type": "code",
      "execution_count": null,
      "metadata": {
        "id": "Lbg4zzJK4gy9",
        "colab": {
          "base_uri": "https://localhost:8080/",
          "height": 564
        },
        "outputId": "8d1c8047-4846-4e9f-99d6-cdaaf61215dd"
      },
      "outputs": [
        {
          "output_type": "display_data",
          "data": {
            "text/plain": [
              "<Figure size 1000x600 with 1 Axes>"
            ],
            "image/png": "[encoded data removed]"
          },
          "metadata": {}
        }
      ],
      "source": [
        "plt.figure(figsize=(10, 6))\n",
        "plt.plot([1+i for i in range(epochs)], train_losses, label='Training Loss', color='blue')\n",
        "plt.plot([1+i for i in range(epochs)], val_losses, label='Validation Loss', color='red')\n",
        "plt.title(f'Training and Validation Losses over Epochs: RNN - {dataset} - {band}')\n",
        "plt.xlabel('Epochs')\n",
        "plt.ylabel('Loss')\n",
        "plt.legend()\n",
        "plt.grid(True)\n",
        "plt.savefig(f'{path}/{loss_fig_name}.png')\n",
        "plt.show()"
      ]
    },
    {
      "cell_type": "code",
      "execution_count": null,
      "metadata": {
        "id": "YhOUzF534iF8",
        "colab": {
          "base_uri": "https://localhost:8080/",
          "height": 564
        },
        "outputId": "ad10c380-1487-46e1-ab88-c3473c6e1197"
      },
      "outputs": [
        {
          "output_type": "display_data",
          "data": {
            "text/plain": [
              "<Figure size 1000x600 with 1 Axes>"
            ],
            "image/png": "[encoded data removed]"
          },
          "metadata": {}
        }
      ],
      "source": [
        "plt.figure(figsize=(10, 6))\n",
        "plt.plot([1+i for i in range(epochs)], train_accuracies, label='Training Accuracy (%)', color='blue')\n",
        "plt.plot([1+i for i in range(epochs)], val_accuracies, label='Validation Accuracy (%)', color='red')\n",
        "plt.axhline(y=100*prev_acc[band][dataset], color='green', linestyle='--', label=f'ANN test accuracy ({dataset} - {band})')\n",
        "plt.title(f'Training and Validation Accuracies over Epochs: RNN - {dataset} - {band}')\n",
        "plt.xlabel('Epochs')\n",
        "plt.ylabel('Accuracy (%)')\n",
        "plt.legend()\n",
        "plt.grid(True)\n",
        "plt.savefig(f'{path}/{acc_fig_name}.png')\n",
        "plt.show()"
      ]
    },
    {
      "cell_type": "code",
      "execution_count": null,
      "metadata": {
        "id": "eZ7Ouh1b4iwg"
      },
      "outputs": [],
      "source": [
        "def model_test():\n",
        "    # Testing\n",
        "    RNN_model.eval()\n",
        "    epoch_test_loss = 0.0\n",
        "    correct_predictions = 0\n",
        "    total_predictions = 0\n",
        "    all_preds = []\n",
        "    all_labels = []\n",
        "\n",
        "    progress_bar = tqdm(test_loader, desc=\"Testing\")\n",
        "    for X_batch, y_batch in progress_bar:\n",
        "        with torch.no_grad():\n",
        "            output = RNN_model(X_batch)\n",
        "            loss = loss_fct(output, y_batch)\n",
        "            epoch_test_loss += loss.item()\n",
        "\n",
        "            # Calculate accuracy\n",
        "            _, predicted = torch.max(output, 1)\n",
        "            correct_predictions += (predicted == y_batch).sum().item()\n",
        "            total_predictions += y_batch.size(0)\n",
        "\n",
        "            # Collect predictions and labels for F1 score\n",
        "            all_preds.extend(predicted.detach().cpu().numpy())\n",
        "            all_labels.extend(y_batch.detach().cpu().numpy())\n",
        "\n",
        "        # Update progress bar\n",
        "        progress_bar.set_postfix(test_loss=loss.item())\n",
        "\n",
        "    # Average test loss\n",
        "    test_loss = epoch_test_loss / len(test_loader)\n",
        "    # Accuracy\n",
        "    test_accuracy = 100 * correct_predictions / total_predictions\n",
        "    # F1 score\n",
        "    test_f1 = 100 * f1_score(all_labels, all_preds, average='macro')\n",
        "    # Recall\n",
        "    test_recall = 100 * recall_score(all_labels, all_preds, average='macro')\n",
        "    # Precision\n",
        "    test_precision = 100 * precision_score(all_labels, all_preds, average='macro')\n",
        "\n",
        "    # Optional: Detailed classification report\n",
        "    print(\"\\nClassification Report:\")\n",
        "    print(classification_report(all_labels, all_preds))\n",
        "    # Generate Confusion Matrix\n",
        "    cm = confusion_matrix(all_labels, all_preds)\n",
        "\n",
        "    return test_loss, test_accuracy, test_f1, test_recall, test_precision, cm"
      ]
    },
    {
      "cell_type": "code",
      "source": [
        "test_loss, test_accuracy, test_f1, test_recall, test_precision, cm = model_test()"
      ],
      "metadata": {
        "id": "-LHqrtJ3OpZO",
        "colab": {
          "base_uri": "https://localhost:8080/"
        },
        "outputId": "bf6bc0d0-b18d-4efb-ef17-06c86d2231f0"
      },
      "execution_count": null,
      "outputs": [
        {
          "output_type": "stream",
          "name": "stderr",
          "text": [
            "Testing: 100%|██████████| 24/24 [00:00<00:00, 105.11it/s, test_loss=0.779]\n"
          ]
        },
        {
          "output_type": "stream",
          "name": "stdout",
          "text": [
            "\n",
            "Classification Report:\n",
            "              precision    recall  f1-score   support\n",
            "\n",
            "           0       0.82      0.83      0.83        77\n",
            "           1       0.81      0.73      0.77        90\n",
            "           2       0.81      0.87      0.83        67\n",
            "           3       0.89      0.74      0.81        77\n",
            "           4       0.85      0.83      0.84        81\n",
            "           5       0.75      0.92      0.83        65\n",
            "           6       0.80      0.81      0.81        64\n",
            "           7       0.83      0.75      0.79        80\n",
            "           8       0.84      0.88      0.86        74\n",
            "           9       0.76      0.83      0.79        75\n",
            "\n",
            "    accuracy                           0.81       750\n",
            "   macro avg       0.82      0.82      0.82       750\n",
            "weighted avg       0.82      0.81      0.81       750\n",
            "\n"
          ]
        }
      ]
    },
    {
      "cell_type": "code",
      "source": [
        "with torch.no_grad():\n",
        "    output = RNN_model(X_test_tensor)\n",
        "    # Calculate accuracy\n",
        "    _, predicted = torch.max(output, 1)\n",
        "    true_preds = (predicted == y_test_tensor).sum().item()\n",
        "    all_preds = y_test_tensor.size(0)\n",
        "    print(f'Accuracy over all test tensor: {100*true_preds/all_preds:.2f}%')\n"
      ],
      "metadata": {
        "colab": {
          "base_uri": "https://localhost:8080/"
        },
        "id": "P-ssesLY1y_K",
        "outputId": "f003e59e-5da9-4414-edd4-5da9da3270eb"
      },
      "execution_count": null,
      "outputs": [
        {
          "output_type": "stream",
          "name": "stdout",
          "text": [
            "Accuracy over all test tensor: 81.47%\n"
          ]
        }
      ]
    },
    {
      "cell_type": "code",
      "source": [
        "# Plot Confusion Matrix\n",
        "plt.figure(figsize=(8, 6))\n",
        "sns.heatmap(cm, annot=True, fmt='d', cmap='Blues')\n",
        "plt.xlabel('Predicted Labels')\n",
        "plt.ylabel('True Labels')\n",
        "plt.title(f'Confusion Matrix for RNN - {dataset} - {band}')\n",
        "plt.savefig(f'{path}/{cm_fig_name}.png')\n",
        "plt.show()"
      ],
      "metadata": {
        "id": "D3CCSpDqdaXq",
        "colab": {
          "base_uri": "https://localhost:8080/",
          "height": 564
        },
        "outputId": "36ab3340-8bd3-4797-fba0-0f3703e63335"
      },
      "execution_count": null,
      "outputs": [
        {
          "output_type": "display_data",
          "data": {
            "text/plain": [
              "<Figure size 800x600 with 2 Axes>"
            ],
            "image/png": "[encoded data removed]"
          },
          "metadata": {}
        }
      ]
    },
    {
      "cell_type": "markdown",
      "source": [
        "Make a log of the experiment:"
      ],
      "metadata": {
        "id": "9gDjV-U7ljYf"
      }
    },
    {
      "cell_type": "code",
      "source": [
        "log = f'''\n",
        "RNN-based model with Tanh activation\n",
        "Dataset: {dataset}\n",
        "Hardware: colab T4 GPU\n",
        "Frequency channels: {band}\n",
        "All EEG channels (left and right hemispheres)\n",
        "Temporal sequence length: {sequence_length}\n",
        "Batch size: {batch_size}\n",
        "Optimiser: RMSProp, 1e-4 with a scheduler\n",
        "epochs: {epochs}\n",
        "Autocast: off\n",
        "'''\n",
        "log_res = ''\n",
        "log_res += f'\\nAverage test loss: {test_loss:.3f}'\n",
        "log_res += f'\\nTest accuracy: {test_accuracy:.3f}%'\n",
        "log_res += f'\\nTest F1 score: {test_f1:.3f}%'\n",
        "log_res += f'\\nTest Recall: {test_recall:.3f}%'\n",
        "log_res += f'\\nTest Precision: {test_precision:.3f}%'\n",
        "log_res += f'\\nTraining time (s): {duration:.1f}'\n",
        "log += log_res\n",
        "print(log)\n",
        "with open(f'{path}/{log_file_name}.txt', 'w') as f:\n",
        "    f.write(log)"
      ],
      "metadata": {
        "id": "IhmnjHGekogN",
        "colab": {
          "base_uri": "https://localhost:8080/"
        },
        "outputId": "76d7186a-324a-4db4-ff40-708b7a9da24a"
      },
      "execution_count": null,
      "outputs": [
        {
          "output_type": "stream",
          "name": "stdout",
          "text": [
            "\n",
            "RNN-based model with Tanh activation\n",
            "Dataset: monalisa\n",
            "Hardware: colab T4 GPU\n",
            "Frequency channels: gamma\n",
            "All EEG channels (left and right hemispheres)\n",
            "Temporal sequence length: 100\n",
            "Batch size: 32\n",
            "Optimiser: RMSProp, 1e-4 with a scheduler\n",
            "epochs: 50\n",
            "Autocast: off\n",
            "\n",
            "Average test loss: 0.643\n",
            "Test accuracy: 81.467%\n",
            "Test F1 score: 81.523%\n",
            "Test Recall: 81.882%\n",
            "Test Precision: 81.632%\n",
            "Training time (s): 247.4\n"
          ]
        }
      ]
    },
    {
      "cell_type": "code",
      "source": [
        "rnn_results_dict[dataset][band] = log_res[1:].replace('\\n', ', ')\n",
        "with open(f'results/rnn/rnn_results_dict.json', 'w') as f:\n",
        "    json.dump(rnn_results_dict, f, indent=4)"
      ],
      "metadata": {
        "id": "phpQLPctt6Sk"
      },
      "execution_count": null,
      "outputs": []
    },
    {
      "cell_type": "code",
      "source": [
        "rnn_results_dict"
      ],
      "metadata": {
        "id": "gJY_aK_ImSEq",
        "colab": {
          "base_uri": "https://localhost:8080/"
        },
        "outputId": "1e45e8af-1547-4ef6-bd0f-bbf85a5a3889"
      },
      "execution_count": null,
      "outputs": [
        {
          "output_type": "execute_result",
          "data": {
            "text/plain": [
              "{'cube': {},\n",
              " 'monalisa': {'gamma': 'Average test loss: 0.643, Test accuracy: 81.467%, Test F1 score: 81.523%, Test Recall: 81.882%, Test Precision: 81.632%, Training time (s): 247.4'}}"
            ]
          },
          "metadata": {},
          "execution_count": 42
        }
      ]
    },
    {
      "cell_type": "markdown",
      "source": [
        "Neural Architecture Search (NAS) for the optimal RNN network configuration:"
      ],
      "metadata": {
        "id": "gsIR3qtYY7kd"
      }
    },
    {
      "cell_type": "code",
      "source": [
        "import itertools\n",
        "\n",
        "def nas_manual_loop():\n",
        "    candidate_sizes = [128, 256, 512]\n",
        "    best_config = None\n",
        "    best_score = 0.0\n",
        "    metric_weights = [0.3, 0.3, 0.2, 0.2]\n",
        "    alpha = 1.0\n",
        "    all_results = {}\n",
        "\n",
        "    # Loop over all possible combinations of the three RNN layers.\n",
        "    for h1, h2, h3 in itertools.product(candidate_sizes, repeat=3):\n",
        "        config = {'h_size_1': h1, 'h_size_2': h2, 'h_size_3': h3}\n",
        "        print(f\"Trying configuration: {config}\")\n",
        "\n",
        "        # Create the rnn_layers tuple and instantiate your model.\n",
        "        rnn_layers = (h1, h2, h3)\n",
        "        global RNN_model  # Required if your training functions refer to the global model variable.\n",
        "        RNN_model = EEG_RNN((batch_size, sequence_length, n_channels), n_classes, rnn_layers=rnn_layers).to(device)\n",
        "\n",
        "        # Reinitialize optimizer and GradScaler for this trial.\n",
        "        global optimizer\n",
        "        optimizer = torch.optim.RMSprop(RNN_model.parameters(), lr=1e-4)\n",
        "        global scaler\n",
        "        scaler = GradScaler()\n",
        "\n",
        "        # Train the model using your existing model_train() function.\n",
        "        train_losses, train_accuracies, val_losses, val_accuracies, duration = model_train()\n",
        "\n",
        "        # Evaluate the model using your existing model_test() function.\n",
        "        test_loss, test_accuracy, test_f1, test_recall, test_precision = model_test()\n",
        "        test_scores = test_accuracy, test_f1, test_recall, test_precision\n",
        "\n",
        "        # Record the result for this configuration.\n",
        "        #custom score: wighted average of metrics minus time penalty\n",
        "        custom_score = (sum([w*metric/100 for w, metric in zip(metric_weights, test_scores)]) - alpha*duration/3600)*100\n",
        "        stats = {'accuracy': test_accuracy,\n",
        "                 'f1': test_f1,\n",
        "                 'recall': test_recall,\n",
        "                 'precision': test_precision,\n",
        "                 'execution_time': duration,\n",
        "                 'score': custom_score}\n",
        "        all_results[str(config)] = stats\n",
        "        print(f\"Configuration {config} produced the score: {custom_score:.3f}%\")\n",
        "\n",
        "        # Update the best configuration if this one is better.\n",
        "        if custom_score > best_score:\n",
        "            best_score = custom_score\n",
        "            best_config = config\n",
        "\n",
        "    print(\"Best configuration found:\")\n",
        "    print(f\"{best_config} with the score: {best_score:.3f}%\")\n",
        "    return best_config, best_score, all_results"
      ],
      "metadata": {
        "id": "AAnu1W9EZBR2"
      },
      "execution_count": null,
      "outputs": []
    },
    {
      "cell_type": "code",
      "source": [
        "NAS_key = False\n",
        "if NAS_key:\n",
        "    best_config, best_accuracy, results = nas_manual_loop()"
      ],
      "metadata": {
        "id": "LtXU-hWtcdpI"
      },
      "execution_count": null,
      "outputs": []
    },
    {
      "cell_type": "code",
      "source": [
        "#dummy_var"
      ],
      "metadata": {
        "id": "SRbCg9i4zkDy"
      },
      "execution_count": null,
      "outputs": []
    },
    {
      "cell_type": "markdown",
      "source": [
        "#### Shap Analysis"
      ],
      "metadata": {
        "id": "fzvZujjxsrcO"
      }
    },
    {
      "cell_type": "code",
      "source": [
        "torch.cuda.empty_cache()\n",
        "RNN_model.eval()\n",
        "\n",
        "# 1. Background Data Preparation: apply kmeans over all training samples\n",
        "num_background = 50\n",
        "custom_sequence_len = 30\n",
        "n_kmeans_samples = 3000\n",
        "#background_idx = np.random.choice(X_train.shape[0], num_background, replace=False)\n",
        "background_samples = X_train[:n_kmeans_samples, :custom_sequence_len, :]\n",
        "background_flat = background_samples.reshape(n_kmeans_samples, -1)  # shape = (nsamples, sequence_length*n_channels)\n",
        "kmeans_bg = KMeans(n_clusters=num_background, random_state=42, n_init=10)\n",
        "kmeans_bg.fit(background_flat)\n",
        "# Get the cluster centers as bg\n",
        "background_flat = kmeans_bg.cluster_centers_\n",
        "\n",
        "\n",
        "# 2. Model Prediction Function\n",
        "def model_predict(flat_inputs):\n",
        "    # Reshape flattened inputs back to (samples, custom_sequence_len, n_channels)\n",
        "    inputs_3d = flat_inputs.reshape(-1, custom_sequence_len, n_channels)\n",
        "    x = torch.tensor(inputs_3d, dtype=torch.float32).to(device)\n",
        "    with torch.no_grad():\n",
        "        outputs = RNN_model(x)\n",
        "        # Convert logits to probabilities (if applicable)\n",
        "        probs = torch.softmax(outputs, dim=1)\n",
        "    return probs.cpu().numpy()\n",
        "\n",
        "# 3. Initialize the SHAP KernelExplainer\n",
        "explainer = shap.KernelExplainer(model_predict, background_flat)\n",
        "\n",
        "# 4. Prepare Test Data\n",
        "num_test_samples = 20\n",
        "test_samples_np = X_test[:num_test_samples, :custom_sequence_len, :]\n",
        "test_samples_flat = test_samples_np.reshape(num_test_samples, -1)  # shape: (20, custom_sequence_len*n_channels)\n",
        "\n",
        "# 5. Compute SHAP Values\n",
        "nsamples = 200\n",
        "shap_values_all = explainer.shap_values(test_samples_flat, nsamples=nsamples)\n",
        "\n",
        "# 6. Custom feature names for plotting\n",
        "feature_names = []\n",
        "for t in range(custom_sequence_len):\n",
        "    for i, ch in enumerate(channels.tolist()):\n",
        "        feature_names.append(f\"{ch}_t{t}\")\n",
        "\n",
        "assert len(feature_names) == test_samples_flat.shape[1]"
      ],
      "metadata": {
        "id": "RIugShn2oGPz",
        "colab": {
          "base_uri": "https://localhost:8080/",
          "height": 49,
          "referenced_widgets": [
            "1cb9700733474fc08b8699ce2967216a",
            "77c70239e945433abab94f9cb9f871b4",
            "34755df7a5f14a168e4d65afd60289ff",
            "fcfa3af131304b83b53e67ed009e0fa0",
            "f41a0f2e281247629f79d0360cf75893",
            "8899b796ba6b46878eabbfc106e2581a",
            "9ba01619ac054beeb92062536ff6efd9",
            "5a381c54525f4ffab30f8861b24ee465",
            "57bd7133bed1404ebf2ad7097913429f",
            "d57013e808b94c87901a3865974fa141",
            "7e5a2bc1fdf74a3cb9b78c1e81650fb8"
          ]
        },
        "outputId": "77bd90bd-5b42-40d8-aa74-58a249d18bf4"
      },
      "execution_count": null,
      "outputs": [
        {
          "output_type": "display_data",
          "data": {
            "text/plain": [
              "  0%|          | 0/20 [00:00<?, ?it/s]"
            ],
            "application/vnd.jupyter.widget-view+json": {
              "version_major": 2,
              "version_minor": 0,
              "model_id": "1cb9700733474fc08b8699ce2967216a"
            }
          },
          "metadata": {}
        }
      ]
    },
    {
      "cell_type": "code",
      "source": [
        "test_samples_flat.shape"
      ],
      "metadata": {
        "id": "Dwri8WiSpx3R",
        "colab": {
          "base_uri": "https://localhost:8080/"
        },
        "outputId": "3fbe4d25-c375-47e5-b832-4a6a38139c85"
      },
      "execution_count": null,
      "outputs": [
        {
          "output_type": "execute_result",
          "data": {
            "text/plain": [
              "(20, 930)"
            ]
          },
          "metadata": {},
          "execution_count": 47
        }
      ]
    },
    {
      "cell_type": "code",
      "source": [
        "expected_feat_count = shap_values_all.shape[1]\n",
        "actual_num_samples = shap_values_all.shape[0]\n",
        "num_classes = shap_values_all.shape[2]\n",
        "feature_count = test_samples_flat.shape[1]\n",
        "\n",
        "print(f\"\\nKernelExplainer computed SHAP values for {actual_num_samples} samples.\")\n",
        "\n",
        "# Per-sample class influence analysis\n",
        "for i in range(actual_num_samples):\n",
        "    # Calculate class influence using absolute SHAP values\n",
        "    class_influences = [np.sum(np.abs(shap_values_all[i, :, c])) for c in range(num_classes)]\n",
        "    max_class = np.argmax(class_influences)\n",
        "\n",
        "    # Get feature-level importance\n",
        "    sample_shap = shap_values_all[i, :, max_class].flatten()\n",
        "    max_feature_index = np.argmax(np.abs(sample_shap))\n",
        "\n",
        "    # Convert flat index to temporal-channel format\n",
        "    time_step = max_feature_index // n_channels\n",
        "    channel_idx = max_feature_index % n_channels\n",
        "\n",
        "    print(f\"\\nSample {i}:\")\n",
        "    print(f\"  Most influential class: {max_class} (Total influence: {class_influences[max_class]:.3f})\")\n",
        "    print(f\"  Most influential feature: Index {max_feature_index}\")\n",
        "    print(f\"  Corresponding to: Time step {time_step}, Channel {channels[channel_idx]}\")\n",
        "\n",
        "# Aggregate feature importance (temporal-channel level)\n",
        "all_shap = shap_values_all.reshape(-1, feature_count, num_classes) # Reshape to (n_samples * n_classes, n_features, 1)\n",
        "feature_importance = np.mean(np.abs(all_shap), axis=(0, 2)).flatten()\n",
        "sorted_indices = np.argsort(-feature_importance)\n",
        "\n",
        "# Print top 10 important temporal-channel features\n",
        "print(\"\\nTop 10 important features (temporal-channel):\")\n",
        "for idx in sorted_indices[:10]:\n",
        "    time_step = idx // n_channels\n",
        "    channel = channels[idx % n_channels]\n",
        "    print(f\"Time {time_step:02d} | Channel {channel:15} | Importance: {feature_importance[idx]:.4f}\")"
      ],
      "metadata": {
        "id": "K2xhMdacbpm_",
        "colab": {
          "base_uri": "https://localhost:8080/"
        },
        "outputId": "c37c5cc3-13b7-4e60-986c-c86b4dcfa5cb"
      },
      "execution_count": null,
      "outputs": [
        {
          "output_type": "stream",
          "name": "stdout",
          "text": [
            "\n",
            "KernelExplainer computed SHAP values for 20 samples.\n",
            "\n",
            "Sample 0:\n",
            "  Most influential class: 0 (Total influence: 0.938)\n",
            "  Most influential feature: Index 352\n",
            "  Corresponding to: Time step 11, Channel T5-A1\n",
            "\n",
            "Sample 1:\n",
            "  Most influential class: 5 (Total influence: 0.814)\n",
            "  Most influential feature: Index 537\n",
            "  Corresponding to: Time step 17, Channel T6-A2\n",
            "\n",
            "Sample 2:\n",
            "  Most influential class: 3 (Total influence: 0.453)\n",
            "  Most influential feature: Index 888\n",
            "  Corresponding to: Time step 28, Channel Fpz-A2\n",
            "\n",
            "Sample 3:\n",
            "  Most influential class: 3 (Total influence: 0.934)\n",
            "  Most influential feature: Index 73\n",
            "  Corresponding to: Time step 2, Channel T5-A1\n",
            "\n",
            "Sample 4:\n",
            "  Most influential class: 0 (Total influence: 0.606)\n",
            "  Most influential feature: Index 776\n",
            "  Corresponding to: Time step 25, Channel O1-A1\n",
            "\n",
            "Sample 5:\n",
            "  Most influential class: 3 (Total influence: 0.442)\n",
            "  Most influential feature: Index 435\n",
            "  Corresponding to: Time step 14, Channel O1-A1\n",
            "\n",
            "Sample 6:\n",
            "  Most influential class: 0 (Total influence: 0.434)\n",
            "  Most influential feature: Index 235\n",
            "  Corresponding to: Time step 7, Channel Cz-A2\n",
            "\n",
            "Sample 7:\n",
            "  Most influential class: 2 (Total influence: 0.801)\n",
            "  Most influential feature: Index 401\n",
            "  Corresponding to: Time step 12, Channel CP4-A2\n",
            "\n",
            "Sample 8:\n",
            "  Most influential class: 5 (Total influence: 0.892)\n",
            "  Most influential feature: Index 221\n",
            "  Corresponding to: Time step 7, Channel C4-A2\n",
            "\n",
            "Sample 9:\n",
            "  Most influential class: 9 (Total influence: 0.563)\n",
            "  Most influential feature: Index 926\n",
            "  Corresponding to: Time step 29, Channel CP3-A1\n",
            "\n",
            "Sample 10:\n",
            "  Most influential class: 4 (Total influence: 0.811)\n",
            "  Most influential feature: Index 453\n",
            "  Corresponding to: Time step 14, Channel Fz-A1\n",
            "\n",
            "Sample 11:\n",
            "  Most influential class: 0 (Total influence: 0.959)\n",
            "  Most influential feature: Index 418\n",
            "  Corresponding to: Time step 13, Channel F7-A1\n",
            "\n",
            "Sample 12:\n",
            "  Most influential class: 7 (Total influence: 0.868)\n",
            "  Most influential feature: Index 254\n",
            "  Corresponding to: Time step 8, Channel F4-A2\n",
            "\n",
            "Sample 13:\n",
            "  Most influential class: 3 (Total influence: 0.954)\n",
            "  Most influential feature: Index 145\n",
            "  Corresponding to: Time step 4, Channel FT7-A1\n",
            "\n",
            "Sample 14:\n",
            "  Most influential class: 8 (Total influence: 0.687)\n",
            "  Most influential feature: Index 673\n",
            "  Corresponding to: Time step 21, Channel FC3-A1\n",
            "\n",
            "Sample 15:\n",
            "  Most influential class: 4 (Total influence: 0.924)\n",
            "  Most influential feature: Index 452\n",
            "  Corresponding to: Time step 14, Channel Cz-A2\n",
            "\n",
            "Sample 16:\n",
            "  Most influential class: 2 (Total influence: 0.846)\n",
            "  Most influential feature: Index 493\n",
            "  Corresponding to: Time step 15, Channel Cpz-A1\n",
            "\n",
            "Sample 17:\n",
            "  Most influential class: 0 (Total influence: 0.800)\n",
            "  Most influential feature: Index 272\n",
            "  Corresponding to: Time step 8, Channel FC4-A2\n",
            "\n",
            "Sample 18:\n",
            "  Most influential class: 2 (Total influence: 0.403)\n",
            "  Most influential feature: Index 799\n",
            "  Corresponding to: Time step 25, Channel FC4-A2\n",
            "\n",
            "Sample 19:\n",
            "  Most influential class: 8 (Total influence: 0.894)\n",
            "  Most influential feature: Index 846\n",
            "  Corresponding to: Time step 27, Channel Fp1-A1\n",
            "\n",
            "Top 10 important features (temporal-channel):\n",
            "Time 26 | Channel FC3-A1          | Importance: 0.0024\n",
            "Time 11 | Channel T5-A1           | Importance: 0.0023\n",
            "Time 14 | Channel Cz-A2           | Importance: 0.0021\n",
            "Time 21 | Channel FC3-A1          | Importance: 0.0021\n",
            "Time 06 | Channel Fp2-A2          | Importance: 0.0020\n",
            "Time 28 | Channel O1-A1           | Importance: 0.0019\n",
            "Time 03 | Channel F7-A1           | Importance: 0.0018\n",
            "Time 02 | Channel T5-A1           | Importance: 0.0017\n",
            "Time 09 | Channel T3-A1           | Importance: 0.0015\n",
            "Time 22 | Channel F4-A2           | Importance: 0.0014\n"
          ]
        }
      ]
    },
    {
      "cell_type": "code",
      "source": [
        "os.makedirs(path+'/shap_summary_time-specific', exist_ok=True)\n",
        "# 6. SHAP Summary Plots per Class\n",
        "for i in range(n_classes):\n",
        "    fig = plt.figure(figsize=(10, 6))\n",
        "    shap.summary_plot(shap_values_all[:,:,i], features=test_samples_flat, feature_names=feature_names, show=False)\n",
        "    plt.title(f'SHAP Summary Plot for RNN - {dataset} - {band} (time-specific importance for class {i})')\n",
        "    plt.tight_layout()\n",
        "    plt.savefig(f'{path}/shap_summary_time-specific/{shap_fig_summary}_class{i}.png')\n",
        "    if i==0:\n",
        "        plt.show()\n",
        "    else:\n",
        "        plt.close(fig)"
      ],
      "metadata": {
        "id": "MlJ4jL4Bt5xf",
        "colab": {
          "base_uri": "https://localhost:8080/",
          "height": 957
        },
        "outputId": "deb407dc-ac24-4dbb-b4ef-f7c427ad4ed2"
      },
      "execution_count": null,
      "outputs": [
        {
          "output_type": "display_data",
          "data": {
            "text/plain": [
              "<Figure size 800x950 with 2 Axes>"
            ],
            "image/png": "[encoded data removed]"
          },
          "metadata": {}
        }
      ]
    },
    {
      "cell_type": "code",
      "source": [
        "os.makedirs(path+'/shap_summary_channel-wise', exist_ok=True)\n",
        "# 6. SHAP Summary Plots per Class\n",
        "for i in range(n_classes):\n",
        "    # 1. Reshape the flattened SHAP values back to (samples, custom_sequence_len, n_channels)\n",
        "    shap_values_reshaped = shap_values_all[:,:,i].reshape(test_samples_np.shape[0], custom_sequence_len, n_channels)\n",
        "\n",
        "    # 2. Sum over the time (sequence) dimension to get channel-wise SHAP values.\n",
        "    #    This gives an array of shape (samples, n_channels)\n",
        "    shap_values_channel = np.sum(shap_values_reshaped, axis=1)\n",
        "\n",
        "    # 3. Similarly, obtain the test features.\n",
        "    #    The mean over time for each channel to obtain channel-level feature values.\n",
        "    test_samples_channel = np.mean(test_samples_np, axis=1)\n",
        "\n",
        "    # 4. Plot the channel-wise SHAP values.\n",
        "    fig = plt.figure(figsize=(10,6))\n",
        "    shap.summary_plot(shap_values_channel, features=test_samples_channel, feature_names=channels.tolist(), show=False)\n",
        "    plt.title(f'SHAP Summary Plot for RNN - {dataset} - {band} (channel-wise importance for class {i})')\n",
        "    plt.tight_layout()\n",
        "    plt.savefig(f'{path}/shap_summary_channel-wise/{shap_fig_ch_importance}_class{i}.png')\n",
        "    if i==0:\n",
        "        plt.show()\n",
        "    else:\n",
        "        plt.close(fig)"
      ],
      "metadata": {
        "id": "6KPOGGoXwLpY",
        "colab": {
          "base_uri": "https://localhost:8080/",
          "height": 957
        },
        "outputId": "3cc84d4f-30bd-4f1a-8e84-3178b0a473bf"
      },
      "execution_count": null,
      "outputs": [
        {
          "output_type": "display_data",
          "data": {
            "text/plain": [
              "<Figure size 800x950 with 2 Axes>"
            ],
            "image/png": "[encoded data removed]"
          },
          "metadata": {}
        }
      ]
    },
    {
      "cell_type": "code",
      "source": [
        "mean_abs_shap_per_channel_rnn = np.zeros(len(channels))\n",
        "\n",
        "# Take the absolute value of SHAP values\n",
        "abs_shap_values = np.abs(shap_values_all)  # Shape: (num_test_samples, n_features, n_classes)\n",
        "\n",
        "# Reshape to (num_test_samples, custom_sequence_len, n_channels, n_classes)\n",
        "reshaped_shap = abs_shap_values.reshape(test_samples_np.shape[0], custom_sequence_len, n_channels, len(shap_values_all[0][0]))\n",
        "\n",
        "# Average across samples\n",
        "mean_abs_shap_over_samples = np.mean(reshaped_shap, axis=0) # Shape: (custom_sequence_len, n_channels, n_classes)\n",
        "\n",
        "# Sum across the time dimension\n",
        "sum_abs_shap_over_time = np.sum(mean_abs_shap_over_samples, axis=0) # Shape: (n_channels, n_classes)\n",
        "\n",
        "# Average across the classes to get an overall channel importance\n",
        "mean_abs_shap_per_channel_rnn = np.mean(sum_abs_shap_over_time, axis=1) # Shape: (n_channels,)\n",
        "\n",
        "sorted_indices = np.argsort(-mean_abs_shap_per_channel_rnn)\n",
        "top_n = 10\n",
        "\n",
        "print(f\"\\nTop {top_n} important channels (overall - RNN - {dataset} - {band}):\")\n",
        "for i in range(top_n):\n",
        "    channel_index = sorted_indices[i]\n",
        "    channel_name = channels[channel_index]\n",
        "    importance = mean_abs_shap_per_channel_rnn[channel_index]\n",
        "    print(f\"Channel {channel_name:15} | Importance: {importance:.4f}\")\n",
        "\n",
        "# 8. (Optional) Bar Plot of Overall Feature Importance (Channel-wise for RNN - CORRECTED)\n",
        "plt.figure(figsize=(10, 6))\n",
        "plt.bar(np.array(channels)[sorted_indices[:top_n]], mean_abs_shap_per_channel_rnn[sorted_indices[:top_n]])\n",
        "plt.xlabel(\"EEG Channel\")\n",
        "plt.ylabel(\"Mean Absolute SHAP Value (Overall)\")\n",
        "plt.title(f\"Top {top_n} Most Influential Channels (Overall - RNN - {dataset} - {band})\")\n",
        "plt.xticks(rotation=45, ha=\"right\")\n",
        "plt.tight_layout()\n",
        "plt.savefig(f'{path}/rnn_shap_top{top_n}-feats_{dataset}_{band}')\n",
        "plt.show()"
      ],
      "metadata": {
        "id": "nmxfiEKIHqR3",
        "colab": {
          "base_uri": "https://localhost:8080/",
          "height": 815
        },
        "outputId": "57b9350b-aa54-4ec2-c925-64544b6d31df"
      },
      "execution_count": null,
      "outputs": [
        {
          "output_type": "stream",
          "name": "stdout",
          "text": [
            "\n",
            "Top 10 important channels (overall - RNN - monalisa - gamma):\n",
            "Channel FC3-A1          | Importance: 0.0115\n",
            "Channel Fp2-A2          | Importance: 0.0108\n",
            "Channel O1-A1           | Importance: 0.0098\n",
            "Channel F7-A1           | Importance: 0.0085\n",
            "Channel O2-A2           | Importance: 0.0079\n",
            "Channel Cz-A2           | Importance: 0.0078\n",
            "Channel T5-A1           | Importance: 0.0077\n",
            "Channel CP4-A2          | Importance: 0.0074\n",
            "Channel FT7-A1          | Importance: 0.0073\n",
            "Channel T3-A1           | Importance: 0.0071\n"
          ]
        },
        {
          "output_type": "display_data",
          "data": {
            "text/plain": [
              "<Figure size 1000x600 with 1 Axes>"
            ],
            "image/png": "[encoded data removed]"
          },
          "metadata": {}
        }
      ]
    }
  ],
  "metadata": {
    "colab": {
      "provenance": [],
      "gpuType": "T4"
    },
    "kernelspec": {
      "display_name": "Python 3",
      "name": "python3"
    },
    "language_info": {
      "name": "python"
    },
    "widgets": {
      "application/vnd.jupyter.widget-state+json": {
        "1cb9700733474fc08b8699ce2967216a": {
          "model_module": "@jupyter-widgets/controls",
          "model_name": "HBoxModel",
          "model_module_version": "1.5.0",
          "state": {
            "_dom_classes": [],
            "_model_module": "@jupyter-widgets/controls",
            "_model_module_version": "1.5.0",
            "_model_name": "HBoxModel",
            "_view_count": null,
            "_view_module": "@jupyter-widgets/controls",
            "_view_module_version": "1.5.0",
            "_view_name": "HBoxView",
            "box_style": "",
            "children": [
              "IPY_MODEL_77c70239e945433abab94f9cb9f871b4",
              "IPY_MODEL_34755df7a5f14a168e4d65afd60289ff",
              "IPY_MODEL_fcfa3af131304b83b53e67ed009e0fa0"
            ],
            "layout": "IPY_MODEL_f41a0f2e281247629f79d0360cf75893"
          }
        },
        "77c70239e945433abab94f9cb9f871b4": {
          "model_module": "@jupyter-widgets/controls",
          "model_name": "HTMLModel",
          "model_module_version": "1.5.0",
          "state": {
            "_dom_classes": [],
            "_model_module": "@jupyter-widgets/controls",
            "_model_module_version": "1.5.0",
            "_model_name": "HTMLModel",
            "_view_count": null,
            "_view_module": "@jupyter-widgets/controls",
            "_view_module_version": "1.5.0",
            "_view_name": "HTMLView",
            "description": "",
            "description_tooltip": null,
            "layout": "IPY_MODEL_8899b796ba6b46878eabbfc106e2581a",
            "placeholder": "​",
            "style": "IPY_MODEL_9ba01619ac054beeb92062536ff6efd9",
            "value": "100%"
          }
        },
        "34755df7a5f14a168e4d65afd60289ff": {
          "model_module": "@jupyter-widgets/controls",
          "model_name": "FloatProgressModel",
          "model_module_version": "1.5.0",
          "state": {
            "_dom_classes": [],
            "_model_module": "@jupyter-widgets/controls",
            "_model_module_version": "1.5.0",
            "_model_name": "FloatProgressModel",
            "_view_count": null,
            "_view_module": "@jupyter-widgets/controls",
            "_view_module_version": "1.5.0",
            "_view_name": "ProgressView",
            "bar_style": "success",
            "description": "",
            "description_tooltip": null,
            "layout": "IPY_MODEL_5a381c54525f4ffab30f8861b24ee465",
            "max": 20,
            "min": 0,
            "orientation": "horizontal",
            "style": "IPY_MODEL_57bd7133bed1404ebf2ad7097913429f",
            "value": 20
          }
        },
        "fcfa3af131304b83b53e67ed009e0fa0": {
          "model_module": "@jupyter-widgets/controls",
          "model_name": "HTMLModel",
          "model_module_version": "1.5.0",
          "state": {
            "_dom_classes": [],
            "_model_module": "@jupyter-widgets/controls",
            "_model_module_version": "1.5.0",
            "_model_name": "HTMLModel",
            "_view_count": null,
            "_view_module": "@jupyter-widgets/controls",
            "_view_module_version": "1.5.0",
            "_view_name": "HTMLView",
            "description": "",
            "description_tooltip": null,
            "layout": "IPY_MODEL_d57013e808b94c87901a3865974fa141",
            "placeholder": "​",
            "style": "IPY_MODEL_7e5a2bc1fdf74a3cb9b78c1e81650fb8",
            "value": " 20/20 [00:17&lt;00:00,  1.13it/s]"
          }
        },
        "f41a0f2e281247629f79d0360cf75893": {
          "model_module": "@jupyter-widgets/base",
          "model_name": "LayoutModel",
          "model_module_version": "1.2.0",
          "state": {
            "_model_module": "@jupyter-widgets/base",
            "_model_module_version": "1.2.0",
            "_model_name": "LayoutModel",
            "_view_count": null,
            "_view_module": "@jupyter-widgets/base",
            "_view_module_version": "1.2.0",
            "_view_name": "LayoutView",
            "align_content": null,
            "align_items": null,
            "align_self": null,
            "border": null,
            "bottom": null,
            "display": null,
            "flex": null,
            "flex_flow": null,
            "grid_area": null,
            "grid_auto_columns": null,
            "grid_auto_flow": null,
            "grid_auto_rows": null,
            "grid_column": null,
            "grid_gap": null,
            "grid_row": null,
            "grid_template_areas": null,
            "grid_template_columns": null,
            "grid_template_rows": null,
            "height": null,
            "justify_content": null,
            "justify_items": null,
            "left": null,
            "margin": null,
            "max_height": null,
            "max_width": null,
            "min_height": null,
            "min_width": null,
            "object_fit": null,
            "object_position": null,
            "order": null,
            "overflow": null,
            "overflow_x": null,
            "overflow_y": null,
            "padding": null,
            "right": null,
            "top": null,
            "visibility": null,
            "width": null
          }
        },
        "8899b796ba6b46878eabbfc106e2581a": {
          "model_module": "@jupyter-widgets/base",
          "model_name": "LayoutModel",
          "model_module_version": "1.2.0",
          "state": {
            "_model_module": "@jupyter-widgets/base",
            "_model_module_version": "1.2.0",
            "_model_name": "LayoutModel",
            "_view_count": null,
            "_view_module": "@jupyter-widgets/base",
            "_view_module_version": "1.2.0",
            "_view_name": "LayoutView",
            "align_content": null,
            "align_items": null,
            "align_self": null,
            "border": null,
            "bottom": null,
            "display": null,
            "flex": null,
            "flex_flow": null,
            "grid_area": null,
            "grid_auto_columns": null,
            "grid_auto_flow": null,
            "grid_auto_rows": null,
            "grid_column": null,
            "grid_gap": null,
            "grid_row": null,
            "grid_template_areas": null,
            "grid_template_columns": null,
            "grid_template_rows": null,
            "height": null,
            "justify_content": null,
            "justify_items": null,
            "left": null,
            "margin": null,
            "max_height": null,
            "max_width": null,
            "min_height": null,
            "min_width": null,
            "object_fit": null,
            "object_position": null,
            "order": null,
            "overflow": null,
            "overflow_x": null,
            "overflow_y": null,
            "padding": null,
            "right": null,
            "top": null,
            "visibility": null,
            "width": null
          }
        },
        "9ba01619ac054beeb92062536ff6efd9": {
          "model_module": "@jupyter-widgets/controls",
          "model_name": "DescriptionStyleModel",
          "model_module_version": "1.5.0",
          "state": {
            "_model_module": "@jupyter-widgets/controls",
            "_model_module_version": "1.5.0",
            "_model_name": "DescriptionStyleModel",
            "_view_count": null,
            "_view_module": "@jupyter-widgets/base",
            "_view_module_version": "1.2.0",
            "_view_name": "StyleView",
            "description_width": ""
          }
        },
        "5a381c54525f4ffab30f8861b24ee465": {
          "model_module": "@jupyter-widgets/base",
          "model_name": "LayoutModel",
          "model_module_version": "1.2.0",
          "state": {
            "_model_module": "@jupyter-widgets/base",
            "_model_module_version": "1.2.0",
            "_model_name": "LayoutModel",
            "_view_count": null,
            "_view_module": "@jupyter-widgets/base",
            "_view_module_version": "1.2.0",
            "_view_name": "LayoutView",
            "align_content": null,
            "align_items": null,
            "align_self": null,
            "border": null,
            "bottom": null,
            "display": null,
            "flex": null,
            "flex_flow": null,
            "grid_area": null,
            "grid_auto_columns": null,
            "grid_auto_flow": null,
            "grid_auto_rows": null,
            "grid_column": null,
            "grid_gap": null,
            "grid_row": null,
            "grid_template_areas": null,
            "grid_template_columns": null,
            "grid_template_rows": null,
            "height": null,
            "justify_content": null,
            "justify_items": null,
            "left": null,
            "margin": null,
            "max_height": null,
            "max_width": null,
            "min_height": null,
            "min_width": null,
            "object_fit": null,
            "object_position": null,
            "order": null,
            "overflow": null,
            "overflow_x": null,
            "overflow_y": null,
            "padding": null,
            "right": null,
            "top": null,
            "visibility": null,
            "width": null
          }
        },
        "57bd7133bed1404ebf2ad7097913429f": {
          "model_module": "@jupyter-widgets/controls",
          "model_name": "ProgressStyleModel",
          "model_module_version": "1.5.0",
          "state": {
            "_model_module": "@jupyter-widgets/controls",
            "_model_module_version": "1.5.0",
            "_model_name": "ProgressStyleModel",
            "_view_count": null,
            "_view_module": "@jupyter-widgets/base",
            "_view_module_version": "1.2.0",
            "_view_name": "StyleView",
            "bar_color": null,
            "description_width": ""
          }
        },
        "d57013e808b94c87901a3865974fa141": {
          "model_module": "@jupyter-widgets/base",
          "model_name": "LayoutModel",
          "model_module_version": "1.2.0",
          "state": {
            "_model_module": "@jupyter-widgets/base",
            "_model_module_version": "1.2.0",
            "_model_name": "LayoutModel",
            "_view_count": null,
            "_view_module": "@jupyter-widgets/base",
            "_view_module_version": "1.2.0",
            "_view_name": "LayoutView",
            "align_content": null,
            "align_items": null,
            "align_self": null,
            "border": null,
            "bottom": null,
            "display": null,
            "flex": null,
            "flex_flow": null,
            "grid_area": null,
            "grid_auto_columns": null,
            "grid_auto_flow": null,
            "grid_auto_rows": null,
            "grid_column": null,
            "grid_gap": null,
            "grid_row": null,
            "grid_template_areas": null,
            "grid_template_columns": null,
            "grid_template_rows": null,
            "height": null,
            "justify_content": null,
            "justify_items": null,
            "left": null,
            "margin": null,
            "max_height": null,
            "max_width": null,
            "min_height": null,
            "min_width": null,
            "object_fit": null,
            "object_position": null,
            "order": null,
            "overflow": null,
            "overflow_x": null,
            "overflow_y": null,
            "padding": null,
            "right": null,
            "top": null,
            "visibility": null,
            "width": null
          }
        },
        "7e5a2bc1fdf74a3cb9b78c1e81650fb8": {
          "model_module": "@jupyter-widgets/controls",
          "model_name": "DescriptionStyleModel",
          "model_module_version": "1.5.0",
          "state": {
            "_model_module": "@jupyter-widgets/controls",
            "_model_module_version": "1.5.0",
            "_model_name": "DescriptionStyleModel",
            "_view_count": null,
            "_view_module": "@jupyter-widgets/base",
            "_view_module_version": "1.2.0",
            "_view_name": "StyleView",
            "description_width": ""
          }
        }
      }
    },
    "accelerator": "GPU"
  },
  "nbformat": 4,
  "nbformat_minor": 0
}